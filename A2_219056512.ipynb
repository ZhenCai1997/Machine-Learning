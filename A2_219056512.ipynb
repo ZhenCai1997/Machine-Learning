{
 "cells": [
  {
   "cell_type": "markdown",
   "metadata": {
    "colab_type": "text",
    "id": "06bbe_5WGk3v"
   },
   "source": [
    "#**SIT 720 - Machine Learning**\n",
    "\n",
    "Lecturer: Chandan Karmakar | karmakar@deakin.edu.au\n",
    "\n",
    "School of Information Technology,\n",
    "<br/>Deakin University, VIC 3125, Australia."
   ]
  },
  {
   "cell_type": "markdown",
   "metadata": {
    "colab_type": "text",
    "id": "es6VJF6zGpZi"
   },
   "source": [
    "#**Assessment Task 2 (30 marks)**\n",
    "\n",
    "##**Submission Instruction**\n",
    "1.  Student should insert Python code or text responses into the cell followed by the question.\n",
    "\n",
    "2.  For answers regarding discussion or explanation, **maximum five sentences are suggested**.\n",
    "\n",
    "3.  Rename this notebook file appending your student ID. For example, for student ID 1234, the submitted file name should be A2_1234.ipynb.\n",
    "\n",
    "4.  Insert your student ID and name in the following cell."
   ]
  },
  {
   "cell_type": "code",
   "execution_count": null,
   "metadata": {
    "colab": {},
    "colab_type": "code",
    "id": "IeD67KEpG8I6"
   },
   "outputs": [],
   "source": [
    "# Student ID: 219056512\n",
    "\n",
    "# Student name: Zhen Cai"
   ]
  },
  {
   "cell_type": "markdown",
   "metadata": {
    "colab_type": "text",
    "id": "oYFXM_D7HCHb"
   },
   "source": [
    "## Part 1: Clustering *(15 marks)*\n",
    "\n",
    "Let's assume you want to design an environment to predict a class/category from a dataset based on specific features of that class. However, all the features are not strong enough or in other words features not that much variance/uniqueness across the classes. So, you have to design a clustering model by answering the following questions:\n",
    "\n",
    "1. Download the attached clustering.csv file. Read the file and separate the class and feature matrix. __(2 marks)__"
   ]
  },
  {
   "cell_type": "code",
   "execution_count": 63,
   "metadata": {
    "colab": {},
    "colab_type": "code",
    "id": "crKN9O9jKi4w"
   },
   "outputs": [
    {
     "name": "stdout",
     "output_type": "stream",
     "text": [
      "     height  length   width    std    min    max  kurtosis\n",
      "0     15.26   14.84  0.8710  5.763  3.312  2.221     5.220\n",
      "1     14.88   14.57  0.8811  5.554  3.333  1.018     4.956\n",
      "2     14.29   14.09  0.9050  5.291  3.337  2.699     4.825\n",
      "3     13.84   13.94  0.8955  5.324  3.379  2.259     4.805\n",
      "4     16.14   14.99  0.9034  5.658  3.562  1.355     5.175\n",
      "..      ...     ...     ...    ...    ...    ...       ...\n",
      "205   12.19   13.20  0.8783  5.137  2.981  3.631     4.870\n",
      "206   11.23   12.88  0.8511  5.140  2.795  4.325     5.003\n",
      "207   13.20   13.66  0.8883  5.236  3.232  8.315     5.056\n",
      "208   11.84   13.21  0.8521  5.175  2.836  3.598     5.044\n",
      "209   12.30   13.34  0.8684  5.243  2.974  5.637     5.063\n",
      "\n",
      "[210 rows x 7 columns]\n",
      "The continous features are: ['height' 'length' 'width' 'std' 'min' 'max']\n",
      "The discrete features is: Class\n"
     ]
    }
   ],
   "source": [
    "# INSERT your code (or comment) here\n",
    "\n",
    "import numpy as np\n",
    "import pandas as pd\n",
    "import matplotlib. pyplot as plt\n",
    "\n",
    "Df = pd.read_csv('clustering.csv')\n",
    "\n",
    "Df_Q1 = Df.iloc[:, [0,1,2,3,4,5,6]]\n",
    "\n",
    "Class_0 = Df.loc[Df['Class'] == 0]\n",
    "Class_1 = Df.loc[Df['Class'] == 1]\n",
    "Class_2 = Df.loc[Df['Class'] == 2]\n",
    "\n",
    "print(Df_Q1)\n",
    "\n",
    "Features = np.array(Df.columns)\n",
    "print(\"The continous features are:\",Features[0:6])\n",
    "print(\"The discrete features is:\",Features[7])"
   ]
  },
  {
   "cell_type": "markdown",
   "metadata": {
    "colab_type": "text",
    "id": "3CYvoztIKjoq"
   },
   "source": [
    "2. Determine the number of clusters from the dataset. Is this same as the actual number of classes in the dataset? __(1 marks)__\n",
    "\n",
    "<!-- Choose the best three features using different selection criteria (ANOVA, Chi-squared) based on the purity score for the k-mean cluster (Euclidean distance matrix). Which one is good and why? __(5 marks)__ -->"
   ]
  },
  {
   "cell_type": "code",
   "execution_count": 64,
   "metadata": {
    "colab": {},
    "colab_type": "code",
    "id": "WFia7uNt5POP"
   },
   "outputs": [
    {
     "data": {
      "image/png": "[encoded data removed]",
      "text/plain": [
       "<Figure size 432x288 with 1 Axes>"
      ]
     },
     "metadata": {
      "needs_background": "light"
     },
     "output_type": "display_data"
    },
    {
     "name": "stdout",
     "output_type": "stream",
     "text": [
      "The optimized number of clusters is: 3\n"
     ]
    }
   ],
   "source": [
    "# INSERT your code (or comment) here\n",
    "\n",
    "from sklearn.preprocessing import MinMaxScaler\n",
    "from sklearn.cluster import KMeans\n",
    "\n",
    "Sum_of_squared_distances = []\n",
    "K = range(1,15)\n",
    "for k in K:\n",
    "    km = KMeans(n_clusters=k)\n",
    "    km = km.fit(Df_Q1)\n",
    "    Sum_of_squared_distances.append(km.inertia_)\n",
    "    \n",
    "plt.plot(K, Sum_of_squared_distances, 'bx-')\n",
    "plt.xlabel('k')\n",
    "plt.ylabel('Sum_of_squared_distances')\n",
    "plt.title('Elbow Method For Optimal k')\n",
    "plt.show()\n",
    "print(\"The optimized number of clusters is:\",3)"
   ]
  },
  {
   "cell_type": "markdown",
   "metadata": {
    "colab_type": "text",
    "id": "lomdzPf33Ga8"
   },
   "source": [
    "3. Perform K-Means clustering on the complete dataset and report purity score. __(2 marks)__ "
   ]
  },
  {
   "cell_type": "markdown",
   "metadata": {
    "colab_type": "text",
    "id": "CsImMLOzK1dV"
   },
   "source": [
    "4. There are several distance metrics for  K-Means such as euclidean, squared euclidean, Manhattan, Chebyshev, Minkowski. [ __Hints:__ See the pyclustering library for python.]\n",
    "    - Your job is to compare the purity score of k-means clustering for different distance metrics. __(5 marks)__ \n",
    "    - Select the best distance metric and explain why this distance metric is best for the given dataset. __(2 marks)__ "
   ]
  },
  {
   "cell_type": "code",
   "execution_count": 100,
   "metadata": {
    "colab": {},
    "colab_type": "code",
    "id": "UaI08RF5KoPK"
   },
   "outputs": [
    {
     "name": "stdout",
     "output_type": "stream",
     "text": [
      "KMeans(algorithm='auto', copy_x=True, init='random', max_iter=300, n_clusters=3,\n",
      "       n_init=10, n_jobs=None, precompute_distances='auto', random_state=0,\n",
      "       tol=0.0001, verbose=0)\n",
      "61\n",
      "72\n",
      "77\n",
      "[[14.64847222 14.46041667  0.87916667  5.56377778  3.27790278  2.64893333\n",
      "   5.19231944]\n",
      " [11.96441558 13.27480519  0.8522      5.22928571  2.87292208  4.75974026\n",
      "   5.08851948]\n",
      " [18.72180328 16.29737705  0.88508689  6.20893443  3.72267213  3.60359016\n",
      "   6.06609836]]\n",
      "[0 0 0 0 0 0 0 0 0 0 0 0 0 0 0 0 1 0 0 1 0 0 0 0 0 0 1 0 0 0 0 0 0 0 0 0 0\n",
      " 2 0 1 0 0 0 0 0 0 0 0 0 0 0 0 0 0 0 0 0 0 0 0 1 1 1 1 0 0 0 0 0 1 2 2 2 2\n",
      " 2 2 2 2 2 2 2 2 2 2 2 2 2 2 2 2 2 2 2 2 2 2 2 2 2 2 0 2 2 2 2 2 2 2 2 2 2\n",
      " 2 2 2 2 2 2 2 2 2 2 2 0 2 0 2 2 2 2 2 2 2 0 0 0 0 2 0 0 0 1 1 1 1 1 1 1 1\n",
      " 1 1 1 1 1 1 1 1 1 1 1 1 1 1 1 1 1 1 1 1 1 1 1 1 1 1 1 1 1 1 1 0 1 1 1 1 1\n",
      " 1 1 1 1 1 1 1 1 1 1 1 1 1 1 1 1 0 1 1 1 1 1 1 1 1]\n",
      "     Real  Predict\n",
      "0       0        0\n",
      "1       0        0\n",
      "2       0        0\n",
      "3       0        0\n",
      "4       0        0\n",
      "..    ...      ...\n",
      "205     2        1\n",
      "206     2        1\n",
      "207     2        1\n",
      "208     2        1\n",
      "209     2        1\n",
      "\n",
      "[210 rows x 2 columns]\n",
      "Real  Predict\n",
      "0     0          60\n",
      "      1           9\n",
      "      2           1\n",
      "1     0          10\n",
      "      2          60\n",
      "2     0           2\n",
      "      1          68\n",
      "dtype: int64\n",
      "The purity score is: 90%\n"
     ]
    }
   ],
   "source": [
    "# INSERT your code (or comment) here\n",
    "\n",
    "import matplotlib.pyplot as plt\n",
    "import numpy as np\n",
    "from sklearn.datasets import make_blobs\n",
    "from sklearn.cluster import KMeans\n",
    "from sklearn import metrics\n",
    "\n",
    "\n",
    "kmns = KMeans(n_clusters=3, init='random',random_state=0)\n",
    "print(kmns)\n",
    "kmns.fit(Df_Q1)\n",
    "\n",
    "centroids= kmns.cluster_centers_\n",
    "labels= kmns.labels_\n",
    "\n",
    "Prd_0 = list(labels).count(2)\n",
    "Prd_1 = list(labels).count(0)\n",
    "Prd_2 = list(labels).count(1)\n",
    "\n",
    "print(Prd_0)\n",
    "print(Prd_1)\n",
    "print(Prd_2)\n",
    "\n",
    "print(centroids)\n",
    "print(labels)\n",
    "\n",
    "class_table = pd.DataFrame(columns = ['Real', 'Predict'])\n",
    "class_table['Real'] = Df['Class']\n",
    "class_table['Predict'] = labels\n",
    "\n",
    "print(class_table)\n",
    "\n",
    "group_class = class_table.groupby(['Real','Predict']).size()\n",
    "            \n",
    "print(group_class)\n",
    "\n",
    "#Real 0 match predict 2\n",
    "#Real 1 match predict 0\n",
    "#Real 2 match predict 1\n",
    "\n",
    "Purity = (1/len(class_table))*(60+60+68)\n",
    "percentage_Euclidean = \"{:.0%}\". format(Purity)\n",
    "print(\"The purity score is:\", percentage_Euclidean)\n"
   ]
  },
  {
   "cell_type": "code",
   "execution_count": 152,
   "metadata": {
    "colab": {},
    "colab_type": "code",
    "id": "dBNLhGYRKo4a"
   },
   "outputs": [
    {
     "name": "stdout",
     "output_type": "stream",
     "text": [
      "The purity score when implmenting Euclidean distance is: 90%\n",
      "Real  Predict\n",
      "0     1          57\n",
      "      2          13\n",
      "1     0          60\n",
      "      1          10\n",
      "2     2          70\n",
      "dtype: int64\n",
      "The purity score when implmenting Manhattan distance is: 89%\n",
      "Real  Predict\n",
      "0     0          14\n",
      "      1          56\n",
      "1     1          12\n",
      "      2          58\n",
      "2     0          70\n",
      "dtype: int64\n",
      "The purity score when implmenting Manhattan distance is: 89%\n",
      "Real  Predict\n",
      "0     0           9\n",
      "      1          58\n",
      "      2           3\n",
      "1     1          10\n",
      "      2          60\n",
      "2     0          66\n",
      "      1           4\n",
      "dtype: int64\n",
      "The purity score when implmenting Chebyshev distance is: 88%\n",
      "Real  Predict\n",
      "0     0          12\n",
      "      1          57\n",
      "      2           1\n",
      "1     1          10\n",
      "      2          60\n",
      "2     0          70\n",
      "dtype: int64\n",
      "The purity score when implmenting Minkowski distance is: 90%\n",
      "The purity score when implmenting euclidean distance is higher than others\n"
     ]
    }
   ],
   "source": [
    "# INSERT your code (or comment) here\n",
    "\n",
    "from pyclustering.cluster.center_initializer import kmeans_plusplus_initializer\n",
    "from pyclustering.cluster.kmeans import kmeans, kmeans_visualizer\n",
    "from pyclustering.cluster.encoder import type_encoding, cluster_encoder\n",
    "from pyclustering.utils.metric import type_metric, distance_metric\n",
    "\n",
    "initial_centers = kmeans_plusplus_initializer(Df_Q1, 3).initialize()\n",
    "\n",
    "#Euclidean\n",
    "print(\"The purity score when implmenting Euclidean distance is:\", percentage_Euclidean)\n",
    "\n",
    "##########################################################################################################################################\n",
    "\n",
    "#Squared euclidean\n",
    "\n",
    "Squared_euclidean_metric = distance_metric(type_metric.EUCLIDEAN_SQUARE)\n",
    "\n",
    "Squared_euclidean_kmeans_instance = kmeans(Df_Q1, initial_centers, metric = Squared_euclidean_metric)\n",
    "\n",
    "Squared_euclidean_kmeans_instance.process()\n",
    "Squared_euclidean_clusters = Squared_euclidean_kmeans_instance.get_clusters()\n",
    "Squared_euclidean_final_centers = Squared_euclidean_kmeans_instance.get_centers()\n",
    "\n",
    "Squared_euclidean_type_repr = Squared_euclidean_kmeans_instance.get_cluster_encoding()\n",
    "Squared_euclidean_encoder = cluster_encoder(Squared_euclidean_type_repr, Squared_euclidean_clusters, Df_Q1)\n",
    "\n",
    "Squared_euclidean_encoder.set_encoding(type_encoding.CLUSTER_INDEX_LABELING)\n",
    "#print(\"Squared euclidean Index Labeling:\", Squared_euclidean_encoder.get_clusters())\n",
    "\n",
    "#Squared euclidean Purity Score\n",
    "\n",
    "Squared_euclidean_class_table = pd.DataFrame(columns = ['Real', 'Predict'])\n",
    "Squared_euclidean_class_table['Real'] = Df['Class']\n",
    "Squared_euclidean_class_table['Predict'] = Manhattan_encoder.get_clusters()\n",
    "Squared_euclidean_group_class = Squared_euclidean_class_table.groupby(['Real','Predict']).size()            \n",
    "print(Squared_euclidean_group_class)\n",
    "\n",
    "Squared_euclidean_Purity = (1/len(Squared_euclidean_class_table))*(57+60+70)\n",
    "Squared_euclidean_percentage = \"{:.0%}\". format(Squared_euclidean_Purity)\n",
    "print(\"The purity score when implmenting Manhattan distance is:\", Squared_euclidean_percentage)\n",
    "\n",
    "\n",
    "#########################################################################################################################################\n",
    "\n",
    "#Manhattan \n",
    "\n",
    "Manhattan_metric = distance_metric(type_metric.MANHATTAN)\n",
    "\n",
    "Manhattan_kmeans_instance = kmeans(Df_Q1, initial_centers, metric = Manhattan_metric)\n",
    "\n",
    "Manhattan_kmeans_instance.process()\n",
    "Manhattan_clusters = Manhattan_kmeans_instance.get_clusters()\n",
    "Manhattan_final_centers = Manhattan_kmeans_instance.get_centers()\n",
    "\n",
    "Manhattan_type_repr = Manhattan_kmeans_instance.get_cluster_encoding()\n",
    "Manhattan_encoder = cluster_encoder(Manhattan_type_repr, Manhattan_clusters, Df_Q1)\n",
    "\n",
    "Manhattan_encoder.set_encoding(type_encoding.CLUSTER_INDEX_LABELING)\n",
    "#print(\"Manhattan Index Labeling:\", Manhattan_encoder.get_clusters())\n",
    "\n",
    "#Manhattan Purity Score\n",
    "\n",
    "Manhattan_class_table = pd.DataFrame(columns = ['Real', 'Predict'])\n",
    "Manhattan_class_table['Real'] = Df['Class']\n",
    "Manhattan_class_table['Predict'] = Manhattan_encoder.get_clusters()\n",
    "Manhattan_group_class =Manhattan_class_table.groupby(['Real','Predict']).size()            \n",
    "print(Manhattan_group_class)\n",
    "\n",
    "Manhattan_Purity = (1/len(Manhattan_class_table))*(57+60+70)\n",
    "Manhattan_percentage = \"{:.0%}\". format(Manhattan_Purity)\n",
    "print(\"The purity score when implmenting Manhattan distance is:\", Manhattan_percentage)\n",
    "\n",
    "\n",
    "##########################################################################################################################################\n",
    "\n",
    "#Chebyshev \n",
    "\n",
    "Chebyshev_metric = distance_metric(type_metric.CHEBYSHEV)\n",
    "\n",
    "Chebyshev_kmeans_instance = kmeans(Df_Q1, initial_centers, metric = Chebyshev_metric)\n",
    "\n",
    "Chebyshev_kmeans_instance.process()\n",
    "Chebyshev_clusters = Chebyshev_kmeans_instance.get_clusters()\n",
    "Chebyshev_final_centers = Chebyshev_kmeans_instance.get_centers()\n",
    "\n",
    "Chebyshev_type_repr = Chebyshev_kmeans_instance.get_cluster_encoding()\n",
    "Chebyshev_encoder = cluster_encoder(Chebyshev_type_repr, Chebyshev_clusters, Df_Q1)\n",
    "\n",
    "Chebyshev_encoder.set_encoding(type_encoding.CLUSTER_INDEX_LABELING)\n",
    "#print(\"Chebyshev Index Labeling:\", Chebyshev_encoder.get_clusters())\n",
    "\n",
    "#Chebyshev Purity Score\n",
    "\n",
    "Chebyshev_class_table = pd.DataFrame(columns = ['Real', 'Predict'])\n",
    "Chebyshev_class_table['Real'] = Df['Class']\n",
    "Chebyshev_class_table['Predict'] = Chebyshev_encoder.get_clusters()\n",
    "Chebyshev_group_class =Chebyshev_class_table.groupby(['Real','Predict']).size()            \n",
    "print(Chebyshev_group_class)\n",
    "\n",
    "Chebyshev_Purity = (1/len(Chebyshev_class_table))*(58+60+66)\n",
    "Chebyshev_percentage = \"{:.0%}\". format(Chebyshev_Purity)\n",
    "print(\"The purity score when implmenting Chebyshev distance is:\", Chebyshev_percentage)\n",
    "\n",
    "\n",
    "##########################################################################################################################################\n",
    "\n",
    "#Minkowski\n",
    "\n",
    "Minkowski_metric = distance_metric(type_metric.MINKOWSKI, degree=2)\n",
    "\n",
    "Minkowski_kmeans_instance = kmeans(Df_Q1, initial_centers, metric = Minkowski_metric)\n",
    "\n",
    "Minkowski_kmeans_instance.process()\n",
    "Minkowski_clusters = Minkowski_kmeans_instance.get_clusters()\n",
    "Minkowski_final_centers = Minkowski_kmeans_instance.get_centers()\n",
    "\n",
    "Minkowski_type_repr = Minkowski_kmeans_instance.get_cluster_encoding()\n",
    "Minkowski_encoder = cluster_encoder(Minkowski_type_repr, Minkowski_clusters, Df_Q1)\n",
    "\n",
    "Minkowski_encoder.set_encoding(type_encoding.CLUSTER_INDEX_LABELING)\n",
    "#print(\"Minkowski Index Labeling:\", Minkowski_encoder.get_clusters())\n",
    "\n",
    "#Minkowski Purity Score\n",
    "\n",
    "Minkowski_class_table = pd.DataFrame(columns = ['Real', 'Predict'])\n",
    "Minkowski_class_table['Real'] = Df['Class']\n",
    "Minkowski_class_table['Predict'] = Minkowski_encoder.get_clusters()\n",
    "Minkowski_group_class =Minkowski_class_table.groupby(['Real','Predict']).size()            \n",
    "print(Minkowski_group_class)\n",
    "\n",
    "Minkowski_Purity = (1/len(Minkowski_class_table))*(60+60+68)\n",
    "Minkowski_percentage = \"{:.0%}\". format(Minkowski_Purity)\n",
    "print(\"The purity score when implmenting Minkowski distance is:\", Minkowski_percentage)\n",
    "print(\"The purity score when implmenting euclidean distance is higher than others\")"
   ]
  },
  {
   "cell_type": "markdown",
   "metadata": {
    "colab_type": "text",
    "id": "xsG5SQti4b7E"
   },
   "source": [
    "5. Use selection criteria (ANOVA, Chi-squared) to select best three features and use them for K-Means clustering. Based on the purity score which feature set are you going to recommend and why? __(3 marks)__"
   ]
  },
  {
   "cell_type": "code",
   "execution_count": 160,
   "metadata": {
    "colab": {},
    "colab_type": "code",
    "id": "9lCTzujBKpL4"
   },
   "outputs": [
    {
     "name": "stdout",
     "output_type": "stream",
     "text": [
      "KMeans(algorithm='auto', copy_x=True, init='random', max_iter=300, n_clusters=3,\n",
      "       n_init=10, n_jobs=None, precompute_distances='auto', random_state=0,\n",
      "       tol=0.0001, verbose=0)\n",
      "[[14.64847222 14.46041667  2.64893333]\n",
      " [11.96441558 13.27480519  4.75974026]\n",
      " [18.72180328 16.29737705  3.60359016]]\n",
      "[0 0 0 0 0 0 0 0 0 0 0 0 0 0 0 0 1 0 0 1 0 0 0 0 0 0 1 0 0 0 0 0 0 0 0 0 0\n",
      " 2 0 1 0 0 0 0 0 0 0 0 0 0 0 0 0 0 0 0 0 0 0 0 1 1 1 1 0 0 0 0 0 1 2 2 2 2\n",
      " 2 2 2 2 2 2 2 2 2 2 2 2 2 2 2 2 2 2 2 2 2 2 2 2 2 2 0 2 2 2 2 2 2 2 2 2 2\n",
      " 2 2 2 2 2 2 2 2 2 2 2 0 2 0 2 2 2 2 2 2 2 0 0 0 0 2 0 0 0 1 1 1 1 1 1 1 1\n",
      " 1 1 1 1 1 1 1 1 1 1 1 1 1 1 1 1 1 1 1 1 1 1 1 1 1 1 1 1 1 1 1 0 1 1 1 1 1\n",
      " 1 1 1 1 1 1 1 1 1 1 1 1 1 1 1 1 0 1 1 1 1 1 1 1 1]\n",
      "Real  Predict\n",
      "0     0          60\n",
      "      1           9\n",
      "      2           1\n",
      "1     0          10\n",
      "      2          60\n",
      "2     0           2\n",
      "      1          68\n",
      "dtype: int64\n",
      "The purity score when implmenting feature selection is: 90%\n"
     ]
    }
   ],
   "source": [
    "# INSERT your code (or comment) here\n",
    "\n",
    "from sklearn.feature_selection import SelectKBest\n",
    "from sklearn.feature_selection import chi2\n",
    "from sklearn.datasets import make_blobs\n",
    "from sklearn.cluster import KMeans\n",
    "from sklearn import metrics\n",
    "\n",
    "X = Df_Q1\n",
    "Y = Df['Class']\n",
    "\n",
    "X_new = SelectKBest(chi2, k=3).fit_transform(X, Y)\n",
    "\n",
    "New_kmns = KMeans(n_clusters=3, init='random',random_state=0)\n",
    "print(New_kmns)\n",
    "New_kmns.fit(X_new)\n",
    "\n",
    "New_centroids= New_kmns.cluster_centers_\n",
    "New_labels= New_kmns.labels_\n",
    "\n",
    "print(New_centroids)\n",
    "print(New_labels)\n",
    "\n",
    "New_class_table = pd.DataFrame(columns = ['Real', 'Predict'])\n",
    "New_class_table['Real'] = Df['Class']\n",
    "New_class_table['Predict'] = New_labels\n",
    "\n",
    "New_group_class = New_class_table.groupby(['Real','Predict']).size()            \n",
    "print(New_group_class)\n",
    "\n",
    "New_Purity = (1/len(New_class_table))*(60+60+68)\n",
    "New_percentage = \"{:.0%}\". format(New_Purity)\n",
    "print(\"The purity score when implmenting feature selection is:\",New_percentage)"
   ]
  },
  {
   "cell_type": "markdown",
   "metadata": {
    "colab_type": "text",
    "id": "Key1p4RKLEW9"
   },
   "source": [
    "# Part-2 (Dimensionality Reduction using PCA/SVD) *(15 marks)*\n",
    "\n",
    "1. For the dataset (clustering.csv), perform PCA.\n",
    "    - plot the captured variance with respect to increasing latent dimensionality. __(2.5 marks)__\n",
    "  \n",
    "  What is the minimum dimension that captures:\n",
    "    - at least 89% variance? __(1.5 marks)__\n",
    "    - at least 99% variance? __(1 marks)__"
   ]
  },
  {
   "cell_type": "code",
   "execution_count": 174,
   "metadata": {
    "colab": {},
    "colab_type": "code",
    "id": "EkJU33yYKpen"
   },
   "outputs": [
    {
     "name": "stdout",
     "output_type": "stream",
     "text": [
      "[ 71.87  88.98  98.67  99.65  99.92 100.   100.01]\n",
      "At least 89% variance needs: 1\n",
      "At least 99% variance needs: 2\n"
     ]
    },
    {
     "data": {
      "image/png": "[encoded data removed]",
      "text/plain": [
       "<Figure size 432x288 with 1 Axes>"
      ]
     },
     "metadata": {
      "needs_background": "light"
     },
     "output_type": "display_data"
    }
   ],
   "source": [
    "# INSERT your code (or comment) here\n",
    "\n",
    "import numpy as np\n",
    "import pandas as pd\n",
    "import matplotlib. pyplot as plt\n",
    "from sklearn import metrics\n",
    "from sklearn.preprocessing import scale\n",
    "from sklearn.decomposition import PCA\n",
    "\n",
    "Df = pd.read_csv('clustering.csv')\n",
    "\n",
    "Df_Q2 = Df.iloc[:, [0,1,2,3,4,5,6]]\n",
    "\n",
    "Xnorm = scale(Df_Q2)\n",
    "pca = PCA(n_components=7)\n",
    "pca.fit(Xnorm) \n",
    "var=np.cumsum(np.round(pca.explained_variance_ratio_, decimals=4)*100)\n",
    "print(var)\n",
    "plt.plot(var)\n",
    "plt.xlabel(\"Principal components\")\n",
    "plt.ylabel(\"Variance captured\")\n",
    "\n",
    "print(\"At least 89% variance needs:\", 1)\n",
    "print(\"At least 99% variance needs:\", 2)"
   ]
  },
  {
   "cell_type": "markdown",
   "metadata": {
    "colab_type": "text",
    "id": "x9JPYP0vLKzp"
   },
   "source": [
    "2. Determine the purity of clusters formed by the number of principal components which captured 89% and 99% variances respectively. Plot a line graph of the purity scores against the captured variances. Discuss your findings. __(7 marks)__"
   ]
  },
  {
   "cell_type": "code",
   "execution_count": 192,
   "metadata": {
    "colab": {},
    "colab_type": "code",
    "id": "8_a-xp2PKpya"
   },
   "outputs": [
    {
     "name": "stdout",
     "output_type": "stream",
     "text": [
      "(210, 1)\n",
      "(210, 2)\n",
      "(210, 3)\n",
      "(210, 4)\n",
      "(210, 5)\n",
      "(210, 6)\n",
      "The purity score with 1 compounent is: 86%\n",
      "The purity score with 2 compounents is: 91%\n",
      "The purity score with 3 compounents is: 91%\n",
      "The purity score with 4 compounents is: 92%\n",
      "The purity score with 5 compounents is: 92%\n",
      "The purity score with 5 compounents is: 92%\n"
     ]
    },
    {
     "data": {
      "image/png": "[encoded data removed]",
      "text/plain": [
       "<Figure size 432x288 with 1 Axes>"
      ]
     },
     "metadata": {
      "needs_background": "light"
     },
     "output_type": "display_data"
    },
    {
     "name": "stdout",
     "output_type": "stream",
     "text": [
      "The purity score is increasing with the growing of the captured variance\n"
     ]
    }
   ],
   "source": [
    "# INSERT your code (or comment) here\n",
    "\n",
    "import matplotlib.pyplot as plt\n",
    "import numpy as np\n",
    "from sklearn.datasets import make_blobs\n",
    "from sklearn.cluster import KMeans\n",
    "from sklearn import metrics\n",
    "import pandas as pd\n",
    "\n",
    "from sklearn.preprocessing import scale\n",
    "from sklearn.decomposition import PCA\n",
    "\n",
    "pca_89 = PCA(n_components = 1)\n",
    "pca_89 = pca_89.fit(Xnorm)\n",
    "pca_1D = pca_89.transform(Xnorm)\n",
    "print(pca_1D.shape)\n",
    "\n",
    "pca_99 = PCA(n_components = 2)\n",
    "pca_99 = pca_99.fit(Xnorm)\n",
    "pca_2D = pca_99.transform(Xnorm)\n",
    "print(pca_2D.shape)\n",
    "\n",
    "pca_996 = PCA(n_components = 3)\n",
    "pca_996 = pca_996.fit(Xnorm)\n",
    "pca_3D = pca_996.transform(Xnorm)\n",
    "print(pca_3D.shape)\n",
    "\n",
    "pca_999 = PCA(n_components = 4)\n",
    "pca_999 = pca_999.fit(Xnorm)\n",
    "pca_4D = pca_999.transform(Xnorm)\n",
    "print(pca_4D.shape)\n",
    "\n",
    "pca_100 = PCA(n_components = 5)\n",
    "pca_100 = pca_100.fit(Xnorm)\n",
    "pca_5D = pca_100.transform(Xnorm)\n",
    "print(pca_5D.shape)\n",
    "\n",
    "pca_1001 = PCA(n_components = 6)\n",
    "pca_1001 = pca_1001.fit(Xnorm)\n",
    "pca_6D = pca_1001.transform(Xnorm)\n",
    "print(pca_6D.shape)\n",
    "\n",
    "#########################################################################################################################################\n",
    "#Clustering for 1 components 89%\n",
    "\n",
    "pca_1D_kmns = KMeans(n_clusters=3, init='random',random_state=0)\n",
    "#print(pca_1D_kmns)\n",
    "pca_1D_kmns.fit(pca_1D)\n",
    "\n",
    "pca_1D_centroids= pca_1D_kmns.cluster_centers_\n",
    "pca_1D_labels= pca_1D_kmns.labels_\n",
    "\n",
    "#########################################################################################################################################\n",
    "#Clustering for 2 components 99%\n",
    "\n",
    "pca_2D_kmns = KMeans(n_clusters=3, init='random',random_state=0)\n",
    "#print(pca_2D_kmns)\n",
    "pca_2D_kmns.fit(pca_2D)\n",
    "\n",
    "pca_2D_centroids= pca_2D_kmns.cluster_centers_\n",
    "pca_2D_labels= pca_2D_kmns.labels_\n",
    "\n",
    "#########################################################################################################################################\n",
    "#Clustering for 3 components \n",
    "\n",
    "pca_3D_kmns = KMeans(n_clusters=3, init='random',random_state=0)\n",
    "#print(pca_3D_kmns)\n",
    "pca_3D_kmns.fit(pca_3D)\n",
    "\n",
    "pca_3D_centroids= pca_3D_kmns.cluster_centers_\n",
    "pca_3D_labels= pca_3D_kmns.labels_\n",
    "\n",
    "#########################################################################################################################################\n",
    "#Clustering for 4 components \n",
    "\n",
    "pca_4D_kmns = KMeans(n_clusters=3, init='random',random_state=0)\n",
    "#print(pca_4D_kmns)\n",
    "pca_4D_kmns.fit(pca_4D)\n",
    "\n",
    "pca_4D_centroids= pca_4D_kmns.cluster_centers_\n",
    "pca_4D_labels= pca_4D_kmns.labels_\n",
    "\n",
    "#########################################################################################################################################\n",
    "#Clustering for 5 components \n",
    "\n",
    "pca_5D_kmns = KMeans(n_clusters=3, init='random',random_state=0)\n",
    "#print(pca_5D_kmns)\n",
    "pca_5D_kmns.fit(pca_5D)\n",
    "\n",
    "pca_5D_centroids= pca_5D_kmns.cluster_centers_\n",
    "pca_5D_labels= pca_5D_kmns.labels_\n",
    "\n",
    "#########################################################################################################################################\n",
    "#Clustering for 6 components \n",
    "\n",
    "pca_6D_kmns = KMeans(n_clusters=3, init='random',random_state=0)\n",
    "#print(pca_6D_kmns)\n",
    "pca_6D_kmns.fit(pca_6D)\n",
    "\n",
    "pca_6D_centroids= pca_6D_kmns.cluster_centers_\n",
    "pca_6D_labels= pca_6D_kmns.labels_\n",
    "\n",
    "##########################################################################################################################################\n",
    "#Purity\n",
    "\n",
    "#print(pca_1D_labels)\n",
    "#print(pca_2D_labels)\n",
    "#print(pca_3D_labels)\n",
    "#print(pca_4D_labels)\n",
    "#print(pca_5D_labels)\n",
    "#print(pca_6D_labels)\n",
    "\n",
    "pca_1D_class_table = pd.DataFrame(columns = ['Real', 'Predict'])\n",
    "pca_2D_class_table = pd.DataFrame(columns = ['Real', 'Predict'])\n",
    "pca_3D_class_table = pd.DataFrame(columns = ['Real', 'Predict'])\n",
    "pca_4D_class_table = pd.DataFrame(columns = ['Real', 'Predict'])\n",
    "pca_5D_class_table = pd.DataFrame(columns = ['Real', 'Predict'])\n",
    "pca_6D_class_table = pd.DataFrame(columns = ['Real', 'Predict'])\n",
    "\n",
    "pca_1D_class_table['Real'] = Df['Class']\n",
    "pca_2D_class_table['Real'] = Df['Class']\n",
    "pca_3D_class_table['Real'] = Df['Class']\n",
    "pca_4D_class_table['Real'] = Df['Class']\n",
    "pca_5D_class_table['Real'] = Df['Class']\n",
    "pca_6D_class_table['Real'] = Df['Class']\n",
    "\n",
    "pca_1D_class_table['Predict'] = pca_1D_labels\n",
    "pca_2D_class_table['Predict'] = pca_2D_labels\n",
    "pca_3D_class_table['Predict'] = pca_3D_labels\n",
    "pca_4D_class_table['Predict'] = pca_4D_labels\n",
    "pca_5D_class_table['Predict'] = pca_5D_labels\n",
    "pca_6D_class_table['Predict'] = pca_6D_labels\n",
    "\n",
    "pca_1D_group_class = pca_1D_class_table.groupby(['Real','Predict']).size()\n",
    "pca_2D_group_class = pca_2D_class_table.groupby(['Real','Predict']).size()\n",
    "pca_3D_group_class = pca_3D_class_table.groupby(['Real','Predict']).size()\n",
    "pca_4D_group_class = pca_4D_class_table.groupby(['Real','Predict']).size()\n",
    "pca_5D_group_class = pca_5D_class_table.groupby(['Real','Predict']).size()\n",
    "pca_6D_group_class = pca_6D_class_table.groupby(['Real','Predict']).size()\n",
    "           \n",
    "#print(pca_1D_group_class)\n",
    "#print(pca_2D_group_class)\n",
    "#print(pca_3D_group_class)\n",
    "#print(pca_4D_group_class)\n",
    "#print(pca_5D_group_class)\n",
    "#print(pca_6D_group_class)\n",
    "\n",
    "pca_1D_Purity = (1/len(pca_1D_class_table))*(53+57+70)\n",
    "pca_1D_percentage = \"{:.0%}\". format(pca_1D_Purity)\n",
    "print(\"The purity score with 1 compounent is:\",pca_1D_percentage)\n",
    "\n",
    "pca_2D_Purity = (1/len(pca_2D_class_table))*(60+65+66)\n",
    "pca_2D_percentage = \"{:.0%}\". format(pca_2D_Purity)\n",
    "print(\"The purity score with 2 compounents is:\",pca_2D_percentage)\n",
    "\n",
    "pca_3D_Purity = (1/len(pca_3D_class_table))*(60+65+66)\n",
    "pca_3D_percentage = \"{:.0%}\". format(pca_3D_Purity)\n",
    "print(\"The purity score with 3 compounents is:\",pca_3D_percentage)\n",
    "\n",
    "pca_4D_Purity = (1/len(pca_4D_class_table))*(62+65+66)\n",
    "pca_4D_percentage = \"{:.0%}\". format(pca_4D_Purity)\n",
    "print(\"The purity score with 4 compounents is:\",pca_4D_percentage)\n",
    "\n",
    "pca_5D_Purity = (1/len(pca_5D_class_table))*(62+65+66)\n",
    "pca_5D_percentage = \"{:.0%}\". format(pca_5D_Purity)\n",
    "print(\"The purity score with 5 compounents is:\",pca_5D_percentage)\n",
    "\n",
    "pca_6D_Purity = (1/len(pca_6D_class_table))*(62+65+66)\n",
    "pca_6D_percentage = \"{:.0%}\". format(pca_6D_Purity)\n",
    "print(\"The purity score with 5 compounents is:\",pca_6D_percentage)\n",
    "\n",
    "##########################################################################################################################################\n",
    "#Plot line chart\n",
    "\n",
    "Purity_Score_Total = [86, 91, 91, 92, 92, 92]\n",
    "Number_Components = [1, 2, 3, 4, 5, 6]\n",
    "plt.plot(Number_Components, Purity_Score_Total, label = \"Purity Score\")\n",
    "Df_Q2 = Df.iloc[:, [0,1,2,3,4,5,6]]\n",
    "Xnorm = scale(Df_Q2)\n",
    "pca = PCA(n_components=7)\n",
    "pca.fit(Xnorm) \n",
    "var=np.cumsum(np.round(pca.explained_variance_ratio_, decimals=4)*100)\n",
    "plt.plot(var, label = \"Captured Variance\")\n",
    "plt.xlabel(\"Principal components\")\n",
    "plt.legend()\n",
    "plt.show()\n",
    "\n",
    "print(\"The purity score is increasing with the growing of the captured variance\")"
   ]
  },
  {
   "cell_type": "markdown",
   "metadata": {
    "colab_type": "text",
    "id": "8RmhzV_MK-ia"
   },
   "source": [
    "3. Let's assume you have two datasets one is linear and another is curved structural data.\n",
    "    - Can we apply PCA on these datasets? Justify your answer. __(3 marks)__ "
   ]
  },
  {
   "cell_type": "code",
   "execution_count": 17,
   "metadata": {
    "colab": {},
    "colab_type": "code",
    "id": "_9NpVDBwKqD-"
   },
   "outputs": [
    {
     "data": {
      "image/png": "[encoded data removed]",
      "text/plain": [
       "<Figure size 432x288 with 3 Axes>"
      ]
     },
     "metadata": {
      "needs_background": "light"
     },
     "output_type": "display_data"
    },
    {
     "name": "stdout",
     "output_type": "stream",
     "text": [
      "KPCA could used for linear and curved structural data. However if the coefficient of correlation between variables is too weak then applying PCA would be useless\n"
     ]
    }
   ],
   "source": [
    "# INSERT your code (or comment) here\n",
    "\n",
    "#PCA for curved structural data. (KPCA)\n",
    "\n",
    "import numpy as np\n",
    "import matplotlib.pyplot as plt\n",
    "\n",
    "from sklearn.decomposition import PCA, KernelPCA\n",
    "from sklearn.datasets import make_circles\n",
    "\n",
    "np.random.seed(0)\n",
    "\n",
    "X, y = make_circles(n_samples=400, factor=.3, noise=.05)\n",
    "\n",
    "kpca = KernelPCA(kernel=\"rbf\", fit_inverse_transform=True, gamma=10)\n",
    "X_kpca = kpca.fit_transform(X)\n",
    "X_back = kpca.inverse_transform(X_kpca)\n",
    "pca = PCA()\n",
    "X_pca = pca.fit_transform(X)\n",
    "\n",
    "# Plot results\n",
    "\n",
    "plt.figure()\n",
    "plt.subplot(2, 2, 1, aspect='equal')\n",
    "plt.title(\"Original space\")\n",
    "reds = y == 0\n",
    "blues = y == 1\n",
    "\n",
    "plt.scatter(X[reds, 0], X[reds, 1], c=\"red\",\n",
    "            s=20, edgecolor='k')\n",
    "plt.scatter(X[blues, 0], X[blues, 1], c=\"blue\",\n",
    "            s=20, edgecolor='k')\n",
    "plt.xlabel(\"$x_1$\")\n",
    "plt.ylabel(\"$x_2$\")\n",
    "\n",
    "X1, X2 = np.meshgrid(np.linspace(-1.5, 1.5, 50), np.linspace(-1.5, 1.5, 50))\n",
    "X_grid = np.array([np.ravel(X1), np.ravel(X2)]).T\n",
    "# projection on the first principal component (in the phi space)\n",
    "Z_grid = kpca.transform(X_grid)[:, 0].reshape(X1.shape)\n",
    "plt.contour(X1, X2, Z_grid, colors='grey', linewidths=1, origin='lower')\n",
    "\n",
    "plt.subplot(2, 2, 2, aspect='equal')\n",
    "plt.scatter(X_pca[reds, 0], X_pca[reds, 1], c=\"red\",\n",
    "            s=20, edgecolor='k')\n",
    "plt.scatter(X_pca[blues, 0], X_pca[blues, 1], c=\"blue\",\n",
    "            s=20, edgecolor='k')\n",
    "plt.title(\"Projection by PCA\")\n",
    "plt.xlabel(\"1st principal component\")\n",
    "plt.ylabel(\"2nd component\")\n",
    "\n",
    "plt.subplot(2, 2, 3, aspect='equal')\n",
    "plt.scatter(X_kpca[reds, 0], X_kpca[reds, 1], c=\"red\",\n",
    "            s=20, edgecolor='k')\n",
    "plt.scatter(X_kpca[blues, 0], X_kpca[blues, 1], c=\"blue\",\n",
    "            s=20, edgecolor='k')\n",
    "plt.title(\"Projection by KPCA\")\n",
    "plt.xlabel(r\"1st principal component in space induced by $\\phi$\")\n",
    "plt.ylabel(\"2nd component\")\n",
    "\n",
    "plt.tight_layout()\n",
    "plt.show()\n",
    "print(\"KPCA could used for linear curved structural data. However if the coefficient of correlation between variables is too weak then applying PCA would be useless\")"
   ]
  },
  {
   "cell_type": "code",
   "execution_count": null,
   "metadata": {},
   "outputs": [],
   "source": []
  }
 ],
 "metadata": {
  "colab": {
   "collapsed_sections": [],
   "name": "A2.ipynb",
   "provenance": []
  },
  "kernelspec": {
   "display_name": "Python 3",
   "language": "python",
   "name": "python3"
  },
  "language_info": {
   "codemirror_mode": {
    "name": "ipython",
    "version": 3
   },
   "file_extension": ".py",
   "mimetype": "text/x-python",
   "name": "python",
   "nbconvert_exporter": "python",
   "pygments_lexer": "ipython3",
   "version": "3.7.6"
  }
 },
 "nbformat": 4,
 "nbformat_minor": 1
}
