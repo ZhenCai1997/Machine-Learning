{
 "cells": [
  {
   "cell_type": "markdown",
   "metadata": {
    "colab_type": "text",
    "id": "W0Swe_u6nGZq"
   },
   "source": [
    "# SIT 720 - Machine Learning\n",
    "\n",
    "Lecturer: Chandan Karmakar | karmakar@deakin.edu.au\n",
    "\n",
    "School of Information Technology,\n",
    "<br/>Deakin University, VIC 3125, Australia."
   ]
  },
  {
   "cell_type": "markdown",
   "metadata": {
    "colab_type": "text",
    "id": "_sL9JG_-nL2c"
   },
   "source": [
    "## Assessment Task 5 (35 marks)\n",
    "\n",
    "In this assignment, you will use a lot of concepts learnt in this course to come up with a good solution for a given chronic kidney disease prediction problem.\n",
    "\n",
    "## Submission Instruction\n",
    "1.  Student should insert Python code or text responses into the cell followed by the question.\n",
    "\n",
    "2.  For answers regarding discussion or explanation, **maximum ten sentences are suggested**.\n",
    "\n",
    "3.  Rename this notebook file appending your student ID. For example, for student ID 1234, the submitted file name should be A5_1234.ipynb.\n",
    "\n",
    "4.  Insert your student ID and name in the following cell."
   ]
  },
  {
   "cell_type": "code",
   "execution_count": null,
   "metadata": {
    "colab": {},
    "colab_type": "code",
    "id": "Shuy3nUxnPaL"
   },
   "outputs": [],
   "source": [
    "# Student ID: 219056512\n",
    "\n",
    "# Student name: Zhen Cai"
   ]
  },
  {
   "cell_type": "markdown",
   "metadata": {
    "colab_type": "text",
    "id": "z7L7fHziCZ4C"
   },
   "source": [
    "##The dataset\n",
    "\n",
    "**Dataset file name:** chronic_kidney_disease.csv\n",
    "\n",
    "**Attribute Information:** \n",
    "\n",
    "There are 24 features + class = 25 attributes\n",
    "1.  Age(numerical): age in years\n",
    "2.Blood Pressure (numerical): bp in mm/Hg\n",
    "3.Specific Gravity (categorical): sg - (1.005,1.010,1.015,1.020,1.025)\n",
    "4.Albumin (categorical): al - (0,1,2,3,4,5)\n",
    "5.Sugar (categorical): su - (0,1,2,3,4,5)\n",
    "6.Red Blood Cells (categorial): rbc - (0, 1)\n",
    "7.Pus Cell (categorical): pc - (0, 1)\n",
    "8.Pus Cell clumps (categorical): pcc - (0, 1)\n",
    "9.Bacteria (categorical): ba - (0, 1)\n",
    "10.Blood Glucose Random (numerical): bgr in mgs/dl\n",
    "11.Blood Urea (numerical): bu in mgs/dl\n",
    "12.Serum Creatinine (numerical): sc in mgs/dl\n",
    "13.Sodium (numerical): sod in mEq/L\n",
    "14.Potassium (numerical): pot in mEq/L\n",
    "15.Hemoglobin (numerical): hemo in gms\n",
    "16.Packed Cell Volume (numerical)\n",
    "17.White Blood Cell Count (numerical): wc in cells/cumm\n",
    "18.Red Blood Cell Count (numerical): rc in millions/cmm\n",
    "19.Hypertension (categorical): htn - (0, 1)\n",
    "20.Diabetes Mellitus (categorical): dm - (0, 1)\n",
    "21.Coronary Artery Disease (categorical): cad - (0, 1)\n",
    "22.Appetite (categorical): appet - (0, 1)\n",
    "23.Pedal Edema (categorical): pe - (0, 1)\n",
    "24.Anemia (categorical): ane - (0, 1)\n",
    "25.Class (categorical): class - (ckd, notckd)\n"
   ]
  },
  {
   "cell_type": "markdown",
   "metadata": {
    "colab_type": "text",
    "id": "el_YtqsIGgls"
   },
   "source": [
    "## Part 1: Short questions: **(6 marks)**\n",
    "\n",
    "\n"
   ]
  },
  {
   "cell_type": "markdown",
   "metadata": {
    "colab_type": "text",
    "id": "jEjryKNbwRdp"
   },
   "source": [
    "![image.png](data:image/png;base64,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)"
   ]
  },
  {
   "cell_type": "markdown",
   "metadata": {
    "colab_type": "text",
    "id": "IxGjw5XowM-e"
   },
   "source": [
    "\n",
    "1.  For the above figure, what value of k in KNN method will give the best accuracy for leave-one-out cross-validation. Report accuracy and k value. **(3 marks)**"
   ]
  },
  {
   "cell_type": "markdown",
   "metadata": {
    "colab": {},
    "colab_type": "code",
    "id": "UkTUz_M3ZRQJ"
   },
   "source": [
    "The accuracy is 1 - 8/28 = 71.4%. K = 14 or 18 will minimize the LOOCV."
   ]
  },
  {
   "cell_type": "markdown",
   "metadata": {
    "colab_type": "text",
    "id": "ROd6H3MDLUqi"
   },
   "source": [
    "2.  In classification, overfitting and underfitting is a big problem. Does it happen in Random Forest or not? Why? **(3 marks)**"
   ]
  },
  {
   "cell_type": "markdown",
   "metadata": {
    "colab": {},
    "colab_type": "code",
    "id": "Dt0mLoDbLy6A"
   },
   "source": [
    "Random forests could prevent overfitting and underfitting issues. The random forests is an ensemble learning method for classification that based on multitude of decision trees for training and provide the result of the mode of the classes. However by optimize the tuning parameter that govern the number of features based on cross-validation the over-fitting and under-fitting issues could be solved. \n",
    "\n"
   ]
  },
  {
   "cell_type": "markdown",
   "metadata": {
    "colab_type": "text",
    "id": "7MpUbHZtMMut"
   },
   "source": [
    "## Part 2: **(24 marks = 4 methods x 6)**\n",
    "\n",
    "Using the following four supervised machine learning methods, answer questions(A-D).\n",
    "1.   Support vector machine\n",
    "2.   K-Nearest Neighbour\n",
    "3.   Decision tree, and\n",
    "4.   Random forest\n",
    "\n",
    "**A.**  Build optimised classification model to predict the chronic kidney disease from the dataset. **(1 marks)**\n",
    "\n",
    "**B.** For each optimised model, answer the followings -  **(3 marks)**\n",
    "\n",
    "*  which hyperparameters were optimised? [Hint: For SVM, kernel can be considered as one of the hyperparameters.]\n",
    "\n",
    "*  what set or range of values were used for each hyperparameter?\n",
    "\n",
    "*  which metric was used to measure the performance?\n",
    "\n",
    "*  justify your design decisions.\n",
    "\n",
    "**C.**  Plot the prediction performance against hyperparameter values to visualise the optimisation process and mark the optimal value. **(1 marks)**\n",
    "\n",
    "**D.** Evaluate the model (obtained from A) performance on the test set. Report the confusion matrix, F1-score and accuracy. **(1 marks)**"
   ]
  },
  {
   "cell_type": "markdown",
   "metadata": {
    "colab": {},
    "colab_type": "code",
    "id": "wvRMDh4CTNui"
   },
   "source": [
    "# Question A "
   ]
  },
  {
   "cell_type": "code",
   "execution_count": 54,
   "metadata": {},
   "outputs": [],
   "source": [
    "import numpy as np\n",
    "import pandas as pd\n",
    "\n",
    "from numpy import nan\n",
    "from sklearn.model_selection import train_test_split\n",
    "from sklearn import svm\n",
    "from sklearn.model_selection import GridSearchCV\n",
    "from sklearn.metrics import classification_report, confusion_matrix\n",
    "from sklearn.metrics import accuracy_score, log_loss\n",
    "from sklearn.svm import SVC\n",
    "from sklearn.datasets import load_breast_cancer\n",
    "from sklearn.neighbors import KNeighborsClassifier\n",
    "from sklearn import metrics\n",
    "from sklearn import tree\n",
    "from sklearn.pipeline import Pipeline\n",
    "from sklearn.model_selection import GridSearchCV\n",
    "from sklearn.preprocessing import StandardScaler\n",
    "from sklearn.ensemble import RandomForestClassifier\n",
    "\n",
    "import matplotlib.pyplot as plt\n",
    "\n",
    "%matplotlib inline"
   ]
  },
  {
   "cell_type": "code",
   "execution_count": 2,
   "metadata": {},
   "outputs": [],
   "source": [
    "# Read Data & Replace Missing Values\n",
    "\n",
    "DataFrame = pd.read_csv('chronic_kidney_disease.csv')\n",
    "#DataFrame.head()\n",
    "\n",
    "X = DataFrame.iloc[:, 0:24]\n",
    "Y =  DataFrame.loc[:, ['class']]\n",
    "#X.head()\n",
    "#Y.head()\n",
    "\n",
    "# Mark Missing Values by NaN\n",
    "X = X.replace(\"?\", np.nan)\n",
    "\n",
    "#Transfer Object to Float\n",
    "X[\"age\"] = X.age.astype(float)\n",
    "X[\"bp\"] = X.bp.astype(float)\n",
    "X[\"sg\"] = X.sg.astype(float)\n",
    "X[\"al\"] = X.al.astype(float)\n",
    "X[\"su\"] = X.rbc.astype(float)\n",
    "X[\"bgr\"] = X.bgr.astype(float)\n",
    "X[\"bu\"] = X.bu.astype(float)\n",
    "X[\"sc\"] = X.sc.astype(float)\n",
    "X[\"sod\"] = X.sod.astype(float)\n",
    "X[\"pot\"] = X.pot.astype(float)\n",
    "X[\"hemo\"] = X.hemo.astype(float)\n",
    "#print(X.dtypes)\n",
    "\n",
    "#Replace Missing Value with Mean Value\n",
    "X = X.fillna(X.mean())\n",
    "#print(X)\n",
    "\n",
    "# Split Data\n",
    "Xtrain, Xtest, Ytrain, Ytest = train_test_split(X, Y, test_size=0.3, random_state=42)"
   ]
  },
  {
   "cell_type": "markdown",
   "metadata": {},
   "source": [
    "# SVM Model"
   ]
  },
  {
   "cell_type": "code",
   "execution_count": 3,
   "metadata": {},
   "outputs": [
    {
     "name": "stdout",
     "output_type": "stream",
     "text": [
      "              precision    recall  f1-score   support\n",
      "\n",
      "         ckd       0.88      0.59      0.71        76\n",
      "      notckd       0.55      0.86      0.67        44\n",
      "\n",
      "    accuracy                           0.69       120\n",
      "   macro avg       0.72      0.73      0.69       120\n",
      "weighted avg       0.76      0.69      0.70       120\n",
      "\n"
     ]
    }
   ],
   "source": [
    "# SVM without Optimize\n",
    "\n",
    "# Training Without Optimize\n",
    "\n",
    "model = SVC() \n",
    "model.fit(Xtrain, np.ravel(Ytrain))\n",
    "# print prediction results \n",
    "predictions = model.predict(Xtest) \n",
    "print(classification_report(Ytest, predictions)) \n"
   ]
  },
  {
   "cell_type": "code",
   "execution_count": 4,
   "metadata": {
    "scrolled": true
   },
   "outputs": [
    {
     "name": "stderr",
     "output_type": "stream",
     "text": [
      "[Parallel(n_jobs=1)]: Using backend SequentialBackend with 1 concurrent workers.\n",
      "[Parallel(n_jobs=1)]: Done   1 out of   1 | elapsed:    0.0s remaining:    0.0s\n",
      "[Parallel(n_jobs=1)]: Done   2 out of   2 | elapsed:    0.0s remaining:    0.0s\n"
     ]
    },
    {
     "name": "stdout",
     "output_type": "stream",
     "text": [
      "Fitting 5 folds for each of 50 candidates, totalling 250 fits\n",
      "[CV] C=0.1, gamma=1, kernel=rbf ......................................\n",
      "[CV] .......... C=0.1, gamma=1, kernel=rbf, score=0.625, total=   0.0s\n",
      "[CV] C=0.1, gamma=1, kernel=rbf ......................................\n",
      "[CV] .......... C=0.1, gamma=1, kernel=rbf, score=0.625, total=   0.0s\n",
      "[CV] C=0.1, gamma=1, kernel=rbf ......................................\n",
      "[CV] .......... C=0.1, gamma=1, kernel=rbf, score=0.625, total=   0.0s\n",
      "[CV] C=0.1, gamma=1, kernel=rbf ......................................\n",
      "[CV] .......... C=0.1, gamma=1, kernel=rbf, score=0.625, total=   0.0s\n",
      "[CV] C=0.1, gamma=1, kernel=rbf ......................................\n",
      "[CV] .......... C=0.1, gamma=1, kernel=rbf, score=0.607, total=   0.0s\n",
      "[CV] C=0.1, gamma=1, kernel=linear ...................................\n",
      "[CV] ....... C=0.1, gamma=1, kernel=linear, score=0.982, total=  12.4s\n",
      "[CV] C=0.1, gamma=1, kernel=linear ...................................\n",
      "[CV] ....... C=0.1, gamma=1, kernel=linear, score=0.982, total=  10.4s\n",
      "[CV] C=0.1, gamma=1, kernel=linear ...................................\n",
      "[CV] ....... C=0.1, gamma=1, kernel=linear, score=0.982, total=  13.8s\n",
      "[CV] C=0.1, gamma=1, kernel=linear ...................................\n",
      "[CV] ....... C=0.1, gamma=1, kernel=linear, score=0.982, total=   4.1s\n",
      "[CV] C=0.1, gamma=1, kernel=linear ...................................\n",
      "[CV] ....... C=0.1, gamma=1, kernel=linear, score=0.911, total=  27.4s\n",
      "[CV] C=0.1, gamma=0.1, kernel=rbf ....................................\n",
      "[CV] ........ C=0.1, gamma=0.1, kernel=rbf, score=0.625, total=   0.0s\n",
      "[CV] C=0.1, gamma=0.1, kernel=rbf ....................................\n",
      "[CV] ........ C=0.1, gamma=0.1, kernel=rbf, score=0.625, total=   0.0s\n",
      "[CV] C=0.1, gamma=0.1, kernel=rbf ....................................\n",
      "[CV] ........ C=0.1, gamma=0.1, kernel=rbf, score=0.625, total=   0.0s\n",
      "[CV] C=0.1, gamma=0.1, kernel=rbf ....................................\n",
      "[CV] ........ C=0.1, gamma=0.1, kernel=rbf, score=0.625, total=   0.0s\n",
      "[CV] C=0.1, gamma=0.1, kernel=rbf ....................................\n",
      "[CV] ........ C=0.1, gamma=0.1, kernel=rbf, score=0.607, total=   0.0s\n",
      "[CV] C=0.1, gamma=0.1, kernel=linear .................................\n",
      "[CV] ..... C=0.1, gamma=0.1, kernel=linear, score=0.982, total=  13.0s\n",
      "[CV] C=0.1, gamma=0.1, kernel=linear .................................\n",
      "[CV] ..... C=0.1, gamma=0.1, kernel=linear, score=0.982, total=  10.9s\n",
      "[CV] C=0.1, gamma=0.1, kernel=linear .................................\n",
      "[CV] ..... C=0.1, gamma=0.1, kernel=linear, score=0.982, total=  13.0s\n",
      "[CV] C=0.1, gamma=0.1, kernel=linear .................................\n",
      "[CV] ..... C=0.1, gamma=0.1, kernel=linear, score=0.982, total=   5.5s\n",
      "[CV] C=0.1, gamma=0.1, kernel=linear .................................\n",
      "[CV] ..... C=0.1, gamma=0.1, kernel=linear, score=0.911, total=  28.8s\n",
      "[CV] C=0.1, gamma=0.01, kernel=rbf ...................................\n",
      "[CV] ....... C=0.1, gamma=0.01, kernel=rbf, score=0.625, total=   0.0s\n",
      "[CV] C=0.1, gamma=0.01, kernel=rbf ...................................\n",
      "[CV] ....... C=0.1, gamma=0.01, kernel=rbf, score=0.625, total=   0.0s\n",
      "[CV] C=0.1, gamma=0.01, kernel=rbf ...................................\n",
      "[CV] ....... C=0.1, gamma=0.01, kernel=rbf, score=0.625, total=   0.0s\n",
      "[CV] C=0.1, gamma=0.01, kernel=rbf ...................................\n",
      "[CV] ....... C=0.1, gamma=0.01, kernel=rbf, score=0.625, total=   0.0s\n",
      "[CV] C=0.1, gamma=0.01, kernel=rbf ...................................\n",
      "[CV] ....... C=0.1, gamma=0.01, kernel=rbf, score=0.607, total=   0.0s\n",
      "[CV] C=0.1, gamma=0.01, kernel=linear ................................\n",
      "[CV] .... C=0.1, gamma=0.01, kernel=linear, score=0.982, total=  13.1s\n",
      "[CV] C=0.1, gamma=0.01, kernel=linear ................................\n",
      "[CV] .... C=0.1, gamma=0.01, kernel=linear, score=0.982, total=  13.1s\n",
      "[CV] C=0.1, gamma=0.01, kernel=linear ................................\n",
      "[CV] .... C=0.1, gamma=0.01, kernel=linear, score=0.982, total=  14.9s\n",
      "[CV] C=0.1, gamma=0.01, kernel=linear ................................\n",
      "[CV] .... C=0.1, gamma=0.01, kernel=linear, score=0.982, total=   4.1s\n",
      "[CV] C=0.1, gamma=0.01, kernel=linear ................................\n",
      "[CV] .... C=0.1, gamma=0.01, kernel=linear, score=0.911, total=  28.4s\n",
      "[CV] C=0.1, gamma=0.001, kernel=rbf ..................................\n",
      "[CV] ...... C=0.1, gamma=0.001, kernel=rbf, score=0.625, total=   0.0s\n",
      "[CV] C=0.1, gamma=0.001, kernel=rbf ..................................\n",
      "[CV] ...... C=0.1, gamma=0.001, kernel=rbf, score=0.625, total=   0.0s\n",
      "[CV] C=0.1, gamma=0.001, kernel=rbf ..................................\n",
      "[CV] ...... C=0.1, gamma=0.001, kernel=rbf, score=0.625, total=   0.0s\n",
      "[CV] C=0.1, gamma=0.001, kernel=rbf ..................................\n",
      "[CV] ...... C=0.1, gamma=0.001, kernel=rbf, score=0.625, total=   0.0s\n",
      "[CV] C=0.1, gamma=0.001, kernel=rbf ..................................\n",
      "[CV] ...... C=0.1, gamma=0.001, kernel=rbf, score=0.607, total=   0.0s\n",
      "[CV] C=0.1, gamma=0.001, kernel=linear ...............................\n",
      "[CV] ... C=0.1, gamma=0.001, kernel=linear, score=0.982, total=  13.6s\n",
      "[CV] C=0.1, gamma=0.001, kernel=linear ...............................\n",
      "[CV] ... C=0.1, gamma=0.001, kernel=linear, score=0.982, total=  12.7s\n",
      "[CV] C=0.1, gamma=0.001, kernel=linear ...............................\n",
      "[CV] ... C=0.1, gamma=0.001, kernel=linear, score=0.982, total=  16.3s\n",
      "[CV] C=0.1, gamma=0.001, kernel=linear ...............................\n",
      "[CV] ... C=0.1, gamma=0.001, kernel=linear, score=0.982, total=   5.3s\n",
      "[CV] C=0.1, gamma=0.001, kernel=linear ...............................\n",
      "[CV] ... C=0.1, gamma=0.001, kernel=linear, score=0.911, total=  28.8s\n",
      "[CV] C=0.1, gamma=0.0001, kernel=rbf .................................\n",
      "[CV] ..... C=0.1, gamma=0.0001, kernel=rbf, score=0.625, total=   0.0s\n",
      "[CV] C=0.1, gamma=0.0001, kernel=rbf .................................\n",
      "[CV] ..... C=0.1, gamma=0.0001, kernel=rbf, score=0.625, total=   0.0s\n",
      "[CV] C=0.1, gamma=0.0001, kernel=rbf .................................\n",
      "[CV] ..... C=0.1, gamma=0.0001, kernel=rbf, score=0.625, total=   0.0s\n",
      "[CV] C=0.1, gamma=0.0001, kernel=rbf .................................\n",
      "[CV] ..... C=0.1, gamma=0.0001, kernel=rbf, score=0.625, total=   0.0s\n",
      "[CV] C=0.1, gamma=0.0001, kernel=rbf .................................\n",
      "[CV] ..... C=0.1, gamma=0.0001, kernel=rbf, score=0.607, total=   0.0s\n",
      "[CV] C=0.1, gamma=0.0001, kernel=linear ..............................\n",
      "[CV] .. C=0.1, gamma=0.0001, kernel=linear, score=0.982, total=  14.1s\n",
      "[CV] C=0.1, gamma=0.0001, kernel=linear ..............................\n",
      "[CV] .. C=0.1, gamma=0.0001, kernel=linear, score=0.982, total=  11.4s\n",
      "[CV] C=0.1, gamma=0.0001, kernel=linear ..............................\n",
      "[CV] .. C=0.1, gamma=0.0001, kernel=linear, score=0.982, total=  14.5s\n",
      "[CV] C=0.1, gamma=0.0001, kernel=linear ..............................\n",
      "[CV] .. C=0.1, gamma=0.0001, kernel=linear, score=0.982, total=   5.6s\n",
      "[CV] C=0.1, gamma=0.0001, kernel=linear ..............................\n",
      "[CV] .. C=0.1, gamma=0.0001, kernel=linear, score=0.911, total=  29.5s\n",
      "[CV] C=1, gamma=1, kernel=rbf ........................................\n",
      "[CV] ............ C=1, gamma=1, kernel=rbf, score=0.625, total=   0.0s\n",
      "[CV] C=1, gamma=1, kernel=rbf ........................................\n",
      "[CV] ............ C=1, gamma=1, kernel=rbf, score=0.625, total=   0.0s\n",
      "[CV] C=1, gamma=1, kernel=rbf ........................................\n",
      "[CV] ............ C=1, gamma=1, kernel=rbf, score=0.625, total=   0.0s\n",
      "[CV] C=1, gamma=1, kernel=rbf ........................................\n",
      "[CV] ............ C=1, gamma=1, kernel=rbf, score=0.625, total=   0.0s\n",
      "[CV] C=1, gamma=1, kernel=rbf ........................................\n",
      "[CV] ............ C=1, gamma=1, kernel=rbf, score=0.607, total=   0.0s\n",
      "[CV] C=1, gamma=1, kernel=linear .....................................\n",
      "[CV] ......... C=1, gamma=1, kernel=linear, score=0.982, total=  41.6s\n",
      "[CV] C=1, gamma=1, kernel=linear .....................................\n",
      "[CV] ......... C=1, gamma=1, kernel=linear, score=0.982, total=  37.3s\n",
      "[CV] C=1, gamma=1, kernel=linear .....................................\n"
     ]
    },
    {
     "name": "stdout",
     "output_type": "stream",
     "text": [
      "[CV] ......... C=1, gamma=1, kernel=linear, score=0.964, total=  14.6s\n",
      "[CV] C=1, gamma=1, kernel=linear .....................................\n",
      "[CV] ......... C=1, gamma=1, kernel=linear, score=1.000, total= 1.4min\n",
      "[CV] C=1, gamma=1, kernel=linear .....................................\n",
      "[CV] ......... C=1, gamma=1, kernel=linear, score=0.893, total=  17.9s\n",
      "[CV] C=1, gamma=0.1, kernel=rbf ......................................\n",
      "[CV] .......... C=1, gamma=0.1, kernel=rbf, score=0.625, total=   0.0s\n",
      "[CV] C=1, gamma=0.1, kernel=rbf ......................................\n",
      "[CV] .......... C=1, gamma=0.1, kernel=rbf, score=0.625, total=   0.0s\n",
      "[CV] C=1, gamma=0.1, kernel=rbf ......................................\n",
      "[CV] .......... C=1, gamma=0.1, kernel=rbf, score=0.625, total=   0.0s\n",
      "[CV] C=1, gamma=0.1, kernel=rbf ......................................\n",
      "[CV] .......... C=1, gamma=0.1, kernel=rbf, score=0.625, total=   0.0s\n",
      "[CV] C=1, gamma=0.1, kernel=rbf ......................................\n",
      "[CV] .......... C=1, gamma=0.1, kernel=rbf, score=0.607, total=   0.0s\n",
      "[CV] C=1, gamma=0.1, kernel=linear ...................................\n",
      "[CV] ....... C=1, gamma=0.1, kernel=linear, score=0.982, total=  40.4s\n",
      "[CV] C=1, gamma=0.1, kernel=linear ...................................\n",
      "[CV] ....... C=1, gamma=0.1, kernel=linear, score=0.982, total=  35.3s\n",
      "[CV] C=1, gamma=0.1, kernel=linear ...................................\n",
      "[CV] ....... C=1, gamma=0.1, kernel=linear, score=0.964, total=  12.9s\n",
      "[CV] C=1, gamma=0.1, kernel=linear ...................................\n",
      "[CV] ....... C=1, gamma=0.1, kernel=linear, score=1.000, total= 1.4min\n",
      "[CV] C=1, gamma=0.1, kernel=linear ...................................\n",
      "[CV] ....... C=1, gamma=0.1, kernel=linear, score=0.893, total=  15.2s\n",
      "[CV] C=1, gamma=0.01, kernel=rbf .....................................\n",
      "[CV] ......... C=1, gamma=0.01, kernel=rbf, score=0.625, total=   0.0s\n",
      "[CV] C=1, gamma=0.01, kernel=rbf .....................................\n",
      "[CV] ......... C=1, gamma=0.01, kernel=rbf, score=0.625, total=   0.0s\n",
      "[CV] C=1, gamma=0.01, kernel=rbf .....................................\n",
      "[CV] ......... C=1, gamma=0.01, kernel=rbf, score=0.625, total=   0.0s\n",
      "[CV] C=1, gamma=0.01, kernel=rbf .....................................\n",
      "[CV] ......... C=1, gamma=0.01, kernel=rbf, score=0.625, total=   0.0s\n",
      "[CV] C=1, gamma=0.01, kernel=rbf .....................................\n",
      "[CV] ......... C=1, gamma=0.01, kernel=rbf, score=0.607, total=   0.0s\n",
      "[CV] C=1, gamma=0.01, kernel=linear ..................................\n",
      "[CV] ...... C=1, gamma=0.01, kernel=linear, score=0.982, total=  41.4s\n",
      "[CV] C=1, gamma=0.01, kernel=linear ..................................\n",
      "[CV] ...... C=1, gamma=0.01, kernel=linear, score=0.982, total=  36.1s\n",
      "[CV] C=1, gamma=0.01, kernel=linear ..................................\n",
      "[CV] ...... C=1, gamma=0.01, kernel=linear, score=0.964, total=  12.1s\n",
      "[CV] C=1, gamma=0.01, kernel=linear ..................................\n",
      "[CV] ...... C=1, gamma=0.01, kernel=linear, score=1.000, total= 1.4min\n",
      "[CV] C=1, gamma=0.01, kernel=linear ..................................\n",
      "[CV] ...... C=1, gamma=0.01, kernel=linear, score=0.893, total=  17.3s\n",
      "[CV] C=1, gamma=0.001, kernel=rbf ....................................\n",
      "[CV] ........ C=1, gamma=0.001, kernel=rbf, score=0.786, total=   0.0s\n",
      "[CV] C=1, gamma=0.001, kernel=rbf ....................................\n",
      "[CV] ........ C=1, gamma=0.001, kernel=rbf, score=0.732, total=   0.0s\n",
      "[CV] C=1, gamma=0.001, kernel=rbf ....................................\n",
      "[CV] ........ C=1, gamma=0.001, kernel=rbf, score=0.786, total=   0.0s\n",
      "[CV] C=1, gamma=0.001, kernel=rbf ....................................\n",
      "[CV] ........ C=1, gamma=0.001, kernel=rbf, score=0.750, total=   0.0s\n",
      "[CV] C=1, gamma=0.001, kernel=rbf ....................................\n",
      "[CV] ........ C=1, gamma=0.001, kernel=rbf, score=0.679, total=   0.0s\n",
      "[CV] C=1, gamma=0.001, kernel=linear .................................\n",
      "[CV] ..... C=1, gamma=0.001, kernel=linear, score=0.982, total=  38.6s\n",
      "[CV] C=1, gamma=0.001, kernel=linear .................................\n",
      "[CV] ..... C=1, gamma=0.001, kernel=linear, score=0.982, total=  34.4s\n",
      "[CV] C=1, gamma=0.001, kernel=linear .................................\n",
      "[CV] ..... C=1, gamma=0.001, kernel=linear, score=0.964, total=  12.8s\n",
      "[CV] C=1, gamma=0.001, kernel=linear .................................\n",
      "[CV] ..... C=1, gamma=0.001, kernel=linear, score=1.000, total= 1.3min\n",
      "[CV] C=1, gamma=0.001, kernel=linear .................................\n",
      "[CV] ..... C=1, gamma=0.001, kernel=linear, score=0.893, total=  18.0s\n",
      "[CV] C=1, gamma=0.0001, kernel=rbf ...................................\n",
      "[CV] ....... C=1, gamma=0.0001, kernel=rbf, score=0.750, total=   0.0s\n",
      "[CV] C=1, gamma=0.0001, kernel=rbf ...................................\n",
      "[CV] ....... C=1, gamma=0.0001, kernel=rbf, score=0.804, total=   0.0s\n",
      "[CV] C=1, gamma=0.0001, kernel=rbf ...................................\n",
      "[CV] ....... C=1, gamma=0.0001, kernel=rbf, score=0.857, total=   0.0s\n",
      "[CV] C=1, gamma=0.0001, kernel=rbf ...................................\n",
      "[CV] ....... C=1, gamma=0.0001, kernel=rbf, score=0.786, total=   0.0s\n",
      "[CV] C=1, gamma=0.0001, kernel=rbf ...................................\n",
      "[CV] ....... C=1, gamma=0.0001, kernel=rbf, score=0.696, total=   0.0s\n",
      "[CV] C=1, gamma=0.0001, kernel=linear ................................\n",
      "[CV] .... C=1, gamma=0.0001, kernel=linear, score=0.982, total=  39.5s\n",
      "[CV] C=1, gamma=0.0001, kernel=linear ................................\n",
      "[CV] .... C=1, gamma=0.0001, kernel=linear, score=0.982, total=  32.9s\n",
      "[CV] C=1, gamma=0.0001, kernel=linear ................................\n",
      "[CV] .... C=1, gamma=0.0001, kernel=linear, score=0.964, total=  14.6s\n",
      "[CV] C=1, gamma=0.0001, kernel=linear ................................\n",
      "[CV] .... C=1, gamma=0.0001, kernel=linear, score=1.000, total= 1.4min\n",
      "[CV] C=1, gamma=0.0001, kernel=linear ................................\n",
      "[CV] .... C=1, gamma=0.0001, kernel=linear, score=0.893, total=  15.7s\n",
      "[CV] C=10, gamma=1, kernel=rbf .......................................\n",
      "[CV] ........... C=10, gamma=1, kernel=rbf, score=0.625, total=   0.0s\n",
      "[CV] C=10, gamma=1, kernel=rbf .......................................\n",
      "[CV] ........... C=10, gamma=1, kernel=rbf, score=0.625, total=   0.0s\n",
      "[CV] C=10, gamma=1, kernel=rbf .......................................\n",
      "[CV] ........... C=10, gamma=1, kernel=rbf, score=0.625, total=   0.0s\n",
      "[CV] C=10, gamma=1, kernel=rbf .......................................\n",
      "[CV] ........... C=10, gamma=1, kernel=rbf, score=0.625, total=   0.0s\n",
      "[CV] C=10, gamma=1, kernel=rbf .......................................\n",
      "[CV] ........... C=10, gamma=1, kernel=rbf, score=0.607, total=   0.0s\n",
      "[CV] C=10, gamma=1, kernel=linear ....................................\n",
      "[CV] ........ C=10, gamma=1, kernel=linear, score=0.964, total=  34.4s\n",
      "[CV] C=10, gamma=1, kernel=linear ....................................\n",
      "[CV] ........ C=10, gamma=1, kernel=linear, score=0.946, total= 1.1min\n",
      "[CV] C=10, gamma=1, kernel=linear ....................................\n",
      "[CV] ........ C=10, gamma=1, kernel=linear, score=0.964, total= 1.3min\n",
      "[CV] C=10, gamma=1, kernel=linear ....................................\n",
      "[CV] ........ C=10, gamma=1, kernel=linear, score=0.964, total= 1.2min\n",
      "[CV] C=10, gamma=1, kernel=linear ....................................\n",
      "[CV] ........ C=10, gamma=1, kernel=linear, score=0.911, total=  18.7s\n",
      "[CV] C=10, gamma=0.1, kernel=rbf .....................................\n",
      "[CV] ......... C=10, gamma=0.1, kernel=rbf, score=0.625, total=   0.0s\n",
      "[CV] C=10, gamma=0.1, kernel=rbf .....................................\n",
      "[CV] ......... C=10, gamma=0.1, kernel=rbf, score=0.625, total=   0.0s\n",
      "[CV] C=10, gamma=0.1, kernel=rbf .....................................\n",
      "[CV] ......... C=10, gamma=0.1, kernel=rbf, score=0.625, total=   0.0s\n",
      "[CV] C=10, gamma=0.1, kernel=rbf .....................................\n",
      "[CV] ......... C=10, gamma=0.1, kernel=rbf, score=0.625, total=   0.0s\n",
      "[CV] C=10, gamma=0.1, kernel=rbf .....................................\n",
      "[CV] ......... C=10, gamma=0.1, kernel=rbf, score=0.607, total=   0.0s\n",
      "[CV] C=10, gamma=0.1, kernel=linear ..................................\n"
     ]
    },
    {
     "name": "stdout",
     "output_type": "stream",
     "text": [
      "[CV] ...... C=10, gamma=0.1, kernel=linear, score=0.964, total=  33.8s\n",
      "[CV] C=10, gamma=0.1, kernel=linear ..................................\n",
      "[CV] ...... C=10, gamma=0.1, kernel=linear, score=0.946, total= 1.1min\n",
      "[CV] C=10, gamma=0.1, kernel=linear ..................................\n",
      "[CV] ...... C=10, gamma=0.1, kernel=linear, score=0.964, total= 1.3min\n",
      "[CV] C=10, gamma=0.1, kernel=linear ..................................\n",
      "[CV] ...... C=10, gamma=0.1, kernel=linear, score=0.964, total= 1.1min\n",
      "[CV] C=10, gamma=0.1, kernel=linear ..................................\n",
      "[CV] ...... C=10, gamma=0.1, kernel=linear, score=0.911, total=  17.3s\n",
      "[CV] C=10, gamma=0.01, kernel=rbf ....................................\n",
      "[CV] ........ C=10, gamma=0.01, kernel=rbf, score=0.625, total=   0.0s\n",
      "[CV] C=10, gamma=0.01, kernel=rbf ....................................\n",
      "[CV] ........ C=10, gamma=0.01, kernel=rbf, score=0.625, total=   0.0s\n",
      "[CV] C=10, gamma=0.01, kernel=rbf ....................................\n",
      "[CV] ........ C=10, gamma=0.01, kernel=rbf, score=0.625, total=   0.0s\n",
      "[CV] C=10, gamma=0.01, kernel=rbf ....................................\n",
      "[CV] ........ C=10, gamma=0.01, kernel=rbf, score=0.625, total=   0.0s\n",
      "[CV] C=10, gamma=0.01, kernel=rbf ....................................\n",
      "[CV] ........ C=10, gamma=0.01, kernel=rbf, score=0.607, total=   0.0s\n",
      "[CV] C=10, gamma=0.01, kernel=linear .................................\n",
      "[CV] ..... C=10, gamma=0.01, kernel=linear, score=0.964, total=  34.2s\n",
      "[CV] C=10, gamma=0.01, kernel=linear .................................\n",
      "[CV] ..... C=10, gamma=0.01, kernel=linear, score=0.946, total= 1.1min\n",
      "[CV] C=10, gamma=0.01, kernel=linear .................................\n",
      "[CV] ..... C=10, gamma=0.01, kernel=linear, score=0.964, total= 1.4min\n",
      "[CV] C=10, gamma=0.01, kernel=linear .................................\n",
      "[CV] ..... C=10, gamma=0.01, kernel=linear, score=0.964, total= 1.1min\n",
      "[CV] C=10, gamma=0.01, kernel=linear .................................\n",
      "[CV] ..... C=10, gamma=0.01, kernel=linear, score=0.911, total=  20.4s\n",
      "[CV] C=10, gamma=0.001, kernel=rbf ...................................\n",
      "[CV] ....... C=10, gamma=0.001, kernel=rbf, score=0.804, total=   0.0s\n",
      "[CV] C=10, gamma=0.001, kernel=rbf ...................................\n",
      "[CV] ....... C=10, gamma=0.001, kernel=rbf, score=0.786, total=   0.0s\n",
      "[CV] C=10, gamma=0.001, kernel=rbf ...................................\n",
      "[CV] ....... C=10, gamma=0.001, kernel=rbf, score=0.750, total=   0.0s\n",
      "[CV] C=10, gamma=0.001, kernel=rbf ...................................\n",
      "[CV] ....... C=10, gamma=0.001, kernel=rbf, score=0.786, total=   0.0s\n",
      "[CV] C=10, gamma=0.001, kernel=rbf ...................................\n",
      "[CV] ....... C=10, gamma=0.001, kernel=rbf, score=0.732, total=   0.0s\n",
      "[CV] C=10, gamma=0.001, kernel=linear ................................\n",
      "[CV] .... C=10, gamma=0.001, kernel=linear, score=0.964, total=  33.1s\n",
      "[CV] C=10, gamma=0.001, kernel=linear ................................\n",
      "[CV] .... C=10, gamma=0.001, kernel=linear, score=0.946, total= 1.2min\n",
      "[CV] C=10, gamma=0.001, kernel=linear ................................\n",
      "[CV] .... C=10, gamma=0.001, kernel=linear, score=0.964, total= 1.3min\n",
      "[CV] C=10, gamma=0.001, kernel=linear ................................\n",
      "[CV] .... C=10, gamma=0.001, kernel=linear, score=0.964, total= 1.1min\n",
      "[CV] C=10, gamma=0.001, kernel=linear ................................\n",
      "[CV] .... C=10, gamma=0.001, kernel=linear, score=0.911, total=  19.7s\n",
      "[CV] C=10, gamma=0.0001, kernel=rbf ..................................\n",
      "[CV] ...... C=10, gamma=0.0001, kernel=rbf, score=0.821, total=   0.0s\n",
      "[CV] C=10, gamma=0.0001, kernel=rbf ..................................\n",
      "[CV] ...... C=10, gamma=0.0001, kernel=rbf, score=0.839, total=   0.0s\n",
      "[CV] C=10, gamma=0.0001, kernel=rbf ..................................\n",
      "[CV] ...... C=10, gamma=0.0001, kernel=rbf, score=0.839, total=   0.0s\n",
      "[CV] C=10, gamma=0.0001, kernel=rbf ..................................\n",
      "[CV] ...... C=10, gamma=0.0001, kernel=rbf, score=0.839, total=   0.0s\n",
      "[CV] C=10, gamma=0.0001, kernel=rbf ..................................\n",
      "[CV] ...... C=10, gamma=0.0001, kernel=rbf, score=0.732, total=   0.0s\n",
      "[CV] C=10, gamma=0.0001, kernel=linear ...............................\n",
      "[CV] ... C=10, gamma=0.0001, kernel=linear, score=0.964, total=  33.1s\n",
      "[CV] C=10, gamma=0.0001, kernel=linear ...............................\n",
      "[CV] ... C=10, gamma=0.0001, kernel=linear, score=0.946, total= 1.1min\n",
      "[CV] C=10, gamma=0.0001, kernel=linear ...............................\n",
      "[CV] ... C=10, gamma=0.0001, kernel=linear, score=0.964, total= 1.4min\n",
      "[CV] C=10, gamma=0.0001, kernel=linear ...............................\n",
      "[CV] ... C=10, gamma=0.0001, kernel=linear, score=0.964, total= 1.1min\n",
      "[CV] C=10, gamma=0.0001, kernel=linear ...............................\n",
      "[CV] ... C=10, gamma=0.0001, kernel=linear, score=0.911, total=  17.0s\n",
      "[CV] C=100, gamma=1, kernel=rbf ......................................\n",
      "[CV] .......... C=100, gamma=1, kernel=rbf, score=0.625, total=   0.0s\n",
      "[CV] C=100, gamma=1, kernel=rbf ......................................\n",
      "[CV] .......... C=100, gamma=1, kernel=rbf, score=0.625, total=   0.0s\n",
      "[CV] C=100, gamma=1, kernel=rbf ......................................\n",
      "[CV] .......... C=100, gamma=1, kernel=rbf, score=0.625, total=   0.0s\n",
      "[CV] C=100, gamma=1, kernel=rbf ......................................\n",
      "[CV] .......... C=100, gamma=1, kernel=rbf, score=0.625, total=   0.0s\n",
      "[CV] C=100, gamma=1, kernel=rbf ......................................\n",
      "[CV] .......... C=100, gamma=1, kernel=rbf, score=0.607, total=   0.0s\n",
      "[CV] C=100, gamma=1, kernel=linear ...................................\n",
      "[CV] ....... C=100, gamma=1, kernel=linear, score=0.964, total=  50.5s\n",
      "[CV] C=100, gamma=1, kernel=linear ...................................\n",
      "[CV] ....... C=100, gamma=1, kernel=linear, score=0.946, total= 4.4min\n",
      "[CV] C=100, gamma=1, kernel=linear ...................................\n",
      "[CV] ....... C=100, gamma=1, kernel=linear, score=0.964, total= 1.8min\n",
      "[CV] C=100, gamma=1, kernel=linear ...................................\n",
      "[CV] ....... C=100, gamma=1, kernel=linear, score=0.946, total=  27.2s\n",
      "[CV] C=100, gamma=1, kernel=linear ...................................\n",
      "[CV] ....... C=100, gamma=1, kernel=linear, score=0.911, total=  20.3s\n",
      "[CV] C=100, gamma=0.1, kernel=rbf ....................................\n",
      "[CV] ........ C=100, gamma=0.1, kernel=rbf, score=0.625, total=   0.0s\n",
      "[CV] C=100, gamma=0.1, kernel=rbf ....................................\n",
      "[CV] ........ C=100, gamma=0.1, kernel=rbf, score=0.625, total=   0.0s\n",
      "[CV] C=100, gamma=0.1, kernel=rbf ....................................\n",
      "[CV] ........ C=100, gamma=0.1, kernel=rbf, score=0.625, total=   0.0s\n",
      "[CV] C=100, gamma=0.1, kernel=rbf ....................................\n",
      "[CV] ........ C=100, gamma=0.1, kernel=rbf, score=0.625, total=   0.0s\n",
      "[CV] C=100, gamma=0.1, kernel=rbf ....................................\n",
      "[CV] ........ C=100, gamma=0.1, kernel=rbf, score=0.607, total=   0.0s\n",
      "[CV] C=100, gamma=0.1, kernel=linear .................................\n",
      "[CV] ..... C=100, gamma=0.1, kernel=linear, score=0.964, total=  51.5s\n",
      "[CV] C=100, gamma=0.1, kernel=linear .................................\n",
      "[CV] ..... C=100, gamma=0.1, kernel=linear, score=0.946, total= 4.5min\n",
      "[CV] C=100, gamma=0.1, kernel=linear .................................\n",
      "[CV] ..... C=100, gamma=0.1, kernel=linear, score=0.964, total= 1.8min\n",
      "[CV] C=100, gamma=0.1, kernel=linear .................................\n",
      "[CV] ..... C=100, gamma=0.1, kernel=linear, score=0.946, total=  28.9s\n",
      "[CV] C=100, gamma=0.1, kernel=linear .................................\n",
      "[CV] ..... C=100, gamma=0.1, kernel=linear, score=0.911, total=  19.1s\n",
      "[CV] C=100, gamma=0.01, kernel=rbf ...................................\n",
      "[CV] ....... C=100, gamma=0.01, kernel=rbf, score=0.625, total=   0.0s\n",
      "[CV] C=100, gamma=0.01, kernel=rbf ...................................\n",
      "[CV] ....... C=100, gamma=0.01, kernel=rbf, score=0.625, total=   0.0s\n",
      "[CV] C=100, gamma=0.01, kernel=rbf ...................................\n",
      "[CV] ....... C=100, gamma=0.01, kernel=rbf, score=0.625, total=   0.0s\n",
      "[CV] C=100, gamma=0.01, kernel=rbf ...................................\n",
      "[CV] ....... C=100, gamma=0.01, kernel=rbf, score=0.625, total=   0.0s\n",
      "[CV] C=100, gamma=0.01, kernel=rbf ...................................\n",
      "[CV] ....... C=100, gamma=0.01, kernel=rbf, score=0.607, total=   0.0s\n",
      "[CV] C=100, gamma=0.01, kernel=linear ................................\n"
     ]
    },
    {
     "name": "stdout",
     "output_type": "stream",
     "text": [
      "[CV] .... C=100, gamma=0.01, kernel=linear, score=0.964, total=  47.9s\n",
      "[CV] C=100, gamma=0.01, kernel=linear ................................\n",
      "[CV] .... C=100, gamma=0.01, kernel=linear, score=0.946, total= 4.3min\n",
      "[CV] C=100, gamma=0.01, kernel=linear ................................\n",
      "[CV] .... C=100, gamma=0.01, kernel=linear, score=0.964, total= 1.7min\n",
      "[CV] C=100, gamma=0.01, kernel=linear ................................\n",
      "[CV] .... C=100, gamma=0.01, kernel=linear, score=0.946, total=  27.1s\n",
      "[CV] C=100, gamma=0.01, kernel=linear ................................\n",
      "[CV] .... C=100, gamma=0.01, kernel=linear, score=0.911, total=  17.0s\n",
      "[CV] C=100, gamma=0.001, kernel=rbf ..................................\n",
      "[CV] ...... C=100, gamma=0.001, kernel=rbf, score=0.804, total=   0.0s\n",
      "[CV] C=100, gamma=0.001, kernel=rbf ..................................\n",
      "[CV] ...... C=100, gamma=0.001, kernel=rbf, score=0.786, total=   0.0s\n",
      "[CV] C=100, gamma=0.001, kernel=rbf ..................................\n",
      "[CV] ...... C=100, gamma=0.001, kernel=rbf, score=0.750, total=   0.0s\n",
      "[CV] C=100, gamma=0.001, kernel=rbf ..................................\n",
      "[CV] ...... C=100, gamma=0.001, kernel=rbf, score=0.786, total=   0.0s\n",
      "[CV] C=100, gamma=0.001, kernel=rbf ..................................\n",
      "[CV] ...... C=100, gamma=0.001, kernel=rbf, score=0.732, total=   0.0s\n",
      "[CV] C=100, gamma=0.001, kernel=linear ...............................\n",
      "[CV] ... C=100, gamma=0.001, kernel=linear, score=0.964, total=  50.3s\n",
      "[CV] C=100, gamma=0.001, kernel=linear ...............................\n",
      "[CV] ... C=100, gamma=0.001, kernel=linear, score=0.946, total= 4.2min\n",
      "[CV] C=100, gamma=0.001, kernel=linear ...............................\n",
      "[CV] ... C=100, gamma=0.001, kernel=linear, score=0.964, total= 1.7min\n",
      "[CV] C=100, gamma=0.001, kernel=linear ...............................\n",
      "[CV] ... C=100, gamma=0.001, kernel=linear, score=0.946, total=  25.0s\n",
      "[CV] C=100, gamma=0.001, kernel=linear ...............................\n",
      "[CV] ... C=100, gamma=0.001, kernel=linear, score=0.911, total=  18.8s\n",
      "[CV] C=100, gamma=0.0001, kernel=rbf .................................\n",
      "[CV] ..... C=100, gamma=0.0001, kernel=rbf, score=0.857, total=   0.0s\n",
      "[CV] C=100, gamma=0.0001, kernel=rbf .................................\n",
      "[CV] ..... C=100, gamma=0.0001, kernel=rbf, score=0.821, total=   0.0s\n",
      "[CV] C=100, gamma=0.0001, kernel=rbf .................................\n",
      "[CV] ..... C=100, gamma=0.0001, kernel=rbf, score=0.821, total=   0.0s\n",
      "[CV] C=100, gamma=0.0001, kernel=rbf .................................\n",
      "[CV] ..... C=100, gamma=0.0001, kernel=rbf, score=0.821, total=   0.0s\n",
      "[CV] C=100, gamma=0.0001, kernel=rbf .................................\n",
      "[CV] ..... C=100, gamma=0.0001, kernel=rbf, score=0.714, total=   0.0s\n",
      "[CV] C=100, gamma=0.0001, kernel=linear ..............................\n",
      "[CV] .. C=100, gamma=0.0001, kernel=linear, score=0.964, total=  48.9s\n",
      "[CV] C=100, gamma=0.0001, kernel=linear ..............................\n",
      "[CV] .. C=100, gamma=0.0001, kernel=linear, score=0.946, total= 4.3min\n",
      "[CV] C=100, gamma=0.0001, kernel=linear ..............................\n",
      "[CV] .. C=100, gamma=0.0001, kernel=linear, score=0.964, total= 1.8min\n",
      "[CV] C=100, gamma=0.0001, kernel=linear ..............................\n",
      "[CV] .. C=100, gamma=0.0001, kernel=linear, score=0.946, total=  29.8s\n",
      "[CV] C=100, gamma=0.0001, kernel=linear ..............................\n",
      "[CV] .. C=100, gamma=0.0001, kernel=linear, score=0.911, total=  18.7s\n",
      "[CV] C=1000, gamma=1, kernel=rbf .....................................\n",
      "[CV] ......... C=1000, gamma=1, kernel=rbf, score=0.625, total=   0.0s\n",
      "[CV] C=1000, gamma=1, kernel=rbf .....................................\n",
      "[CV] ......... C=1000, gamma=1, kernel=rbf, score=0.625, total=   0.0s\n",
      "[CV] C=1000, gamma=1, kernel=rbf .....................................\n",
      "[CV] ......... C=1000, gamma=1, kernel=rbf, score=0.625, total=   0.0s\n",
      "[CV] C=1000, gamma=1, kernel=rbf .....................................\n",
      "[CV] ......... C=1000, gamma=1, kernel=rbf, score=0.625, total=   0.0s\n",
      "[CV] C=1000, gamma=1, kernel=rbf .....................................\n",
      "[CV] ......... C=1000, gamma=1, kernel=rbf, score=0.607, total=   0.0s\n",
      "[CV] C=1000, gamma=1, kernel=linear ..................................\n",
      "[CV] ...... C=1000, gamma=1, kernel=linear, score=0.964, total=  46.6s\n",
      "[CV] C=1000, gamma=1, kernel=linear ..................................\n",
      "[CV] ...... C=1000, gamma=1, kernel=linear, score=0.946, total= 5.3min\n",
      "[CV] C=1000, gamma=1, kernel=linear ..................................\n",
      "[CV] ...... C=1000, gamma=1, kernel=linear, score=0.964, total= 2.1min\n",
      "[CV] C=1000, gamma=1, kernel=linear ..................................\n",
      "[CV] ...... C=1000, gamma=1, kernel=linear, score=0.946, total=  33.9s\n",
      "[CV] C=1000, gamma=1, kernel=linear ..................................\n",
      "[CV] ...... C=1000, gamma=1, kernel=linear, score=0.911, total=  16.8s\n",
      "[CV] C=1000, gamma=0.1, kernel=rbf ...................................\n",
      "[CV] ....... C=1000, gamma=0.1, kernel=rbf, score=0.625, total=   0.0s\n",
      "[CV] C=1000, gamma=0.1, kernel=rbf ...................................\n",
      "[CV] ....... C=1000, gamma=0.1, kernel=rbf, score=0.625, total=   0.0s\n",
      "[CV] C=1000, gamma=0.1, kernel=rbf ...................................\n",
      "[CV] ....... C=1000, gamma=0.1, kernel=rbf, score=0.625, total=   0.0s\n",
      "[CV] C=1000, gamma=0.1, kernel=rbf ...................................\n",
      "[CV] ....... C=1000, gamma=0.1, kernel=rbf, score=0.625, total=   0.0s\n",
      "[CV] C=1000, gamma=0.1, kernel=rbf ...................................\n",
      "[CV] ....... C=1000, gamma=0.1, kernel=rbf, score=0.607, total=   0.0s\n",
      "[CV] C=1000, gamma=0.1, kernel=linear ................................\n",
      "[CV] .... C=1000, gamma=0.1, kernel=linear, score=0.964, total=  48.2s\n",
      "[CV] C=1000, gamma=0.1, kernel=linear ................................\n",
      "[CV] .... C=1000, gamma=0.1, kernel=linear, score=0.946, total= 5.5min\n",
      "[CV] C=1000, gamma=0.1, kernel=linear ................................\n",
      "[CV] .... C=1000, gamma=0.1, kernel=linear, score=0.964, total= 2.3min\n",
      "[CV] C=1000, gamma=0.1, kernel=linear ................................\n",
      "[CV] .... C=1000, gamma=0.1, kernel=linear, score=0.946, total=  33.0s\n",
      "[CV] C=1000, gamma=0.1, kernel=linear ................................\n",
      "[CV] .... C=1000, gamma=0.1, kernel=linear, score=0.911, total=  19.0s\n",
      "[CV] C=1000, gamma=0.01, kernel=rbf ..................................\n",
      "[CV] ...... C=1000, gamma=0.01, kernel=rbf, score=0.625, total=   0.0s\n",
      "[CV] C=1000, gamma=0.01, kernel=rbf ..................................\n",
      "[CV] ...... C=1000, gamma=0.01, kernel=rbf, score=0.625, total=   0.0s\n",
      "[CV] C=1000, gamma=0.01, kernel=rbf ..................................\n",
      "[CV] ...... C=1000, gamma=0.01, kernel=rbf, score=0.625, total=   0.0s\n",
      "[CV] C=1000, gamma=0.01, kernel=rbf ..................................\n",
      "[CV] ...... C=1000, gamma=0.01, kernel=rbf, score=0.625, total=   0.0s\n",
      "[CV] C=1000, gamma=0.01, kernel=rbf ..................................\n",
      "[CV] ...... C=1000, gamma=0.01, kernel=rbf, score=0.607, total=   0.0s\n",
      "[CV] C=1000, gamma=0.01, kernel=linear ...............................\n",
      "[CV] ... C=1000, gamma=0.01, kernel=linear, score=0.964, total=  47.8s\n",
      "[CV] C=1000, gamma=0.01, kernel=linear ...............................\n",
      "[CV] ... C=1000, gamma=0.01, kernel=linear, score=0.946, total= 5.3min\n",
      "[CV] C=1000, gamma=0.01, kernel=linear ...............................\n",
      "[CV] ... C=1000, gamma=0.01, kernel=linear, score=0.964, total= 2.1min\n",
      "[CV] C=1000, gamma=0.01, kernel=linear ...............................\n",
      "[CV] ... C=1000, gamma=0.01, kernel=linear, score=0.946, total=  33.7s\n",
      "[CV] C=1000, gamma=0.01, kernel=linear ...............................\n",
      "[CV] ... C=1000, gamma=0.01, kernel=linear, score=0.911, total=  18.6s\n",
      "[CV] C=1000, gamma=0.001, kernel=rbf .................................\n",
      "[CV] ..... C=1000, gamma=0.001, kernel=rbf, score=0.804, total=   0.0s\n",
      "[CV] C=1000, gamma=0.001, kernel=rbf .................................\n",
      "[CV] ..... C=1000, gamma=0.001, kernel=rbf, score=0.786, total=   0.0s\n",
      "[CV] C=1000, gamma=0.001, kernel=rbf .................................\n",
      "[CV] ..... C=1000, gamma=0.001, kernel=rbf, score=0.750, total=   0.0s\n",
      "[CV] C=1000, gamma=0.001, kernel=rbf .................................\n",
      "[CV] ..... C=1000, gamma=0.001, kernel=rbf, score=0.786, total=   0.0s\n",
      "[CV] C=1000, gamma=0.001, kernel=rbf .................................\n",
      "[CV] ..... C=1000, gamma=0.001, kernel=rbf, score=0.732, total=   0.0s\n",
      "[CV] C=1000, gamma=0.001, kernel=linear ..............................\n"
     ]
    },
    {
     "name": "stdout",
     "output_type": "stream",
     "text": [
      "[CV] .. C=1000, gamma=0.001, kernel=linear, score=0.964, total=  46.4s\n",
      "[CV] C=1000, gamma=0.001, kernel=linear ..............................\n",
      "[CV] .. C=1000, gamma=0.001, kernel=linear, score=0.946, total= 5.3min\n",
      "[CV] C=1000, gamma=0.001, kernel=linear ..............................\n",
      "[CV] .. C=1000, gamma=0.001, kernel=linear, score=0.964, total= 2.1min\n",
      "[CV] C=1000, gamma=0.001, kernel=linear ..............................\n",
      "[CV] .. C=1000, gamma=0.001, kernel=linear, score=0.946, total=  33.1s\n",
      "[CV] C=1000, gamma=0.001, kernel=linear ..............................\n",
      "[CV] .. C=1000, gamma=0.001, kernel=linear, score=0.911, total=  19.1s\n",
      "[CV] C=1000, gamma=0.0001, kernel=rbf ................................\n",
      "[CV] .... C=1000, gamma=0.0001, kernel=rbf, score=0.857, total=   0.0s\n",
      "[CV] C=1000, gamma=0.0001, kernel=rbf ................................\n",
      "[CV] .... C=1000, gamma=0.0001, kernel=rbf, score=0.804, total=   0.0s\n",
      "[CV] C=1000, gamma=0.0001, kernel=rbf ................................\n",
      "[CV] .... C=1000, gamma=0.0001, kernel=rbf, score=0.839, total=   0.0s\n",
      "[CV] C=1000, gamma=0.0001, kernel=rbf ................................\n",
      "[CV] .... C=1000, gamma=0.0001, kernel=rbf, score=0.821, total=   0.0s\n",
      "[CV] C=1000, gamma=0.0001, kernel=rbf ................................\n",
      "[CV] .... C=1000, gamma=0.0001, kernel=rbf, score=0.714, total=   0.0s\n",
      "[CV] C=1000, gamma=0.0001, kernel=linear .............................\n",
      "[CV] . C=1000, gamma=0.0001, kernel=linear, score=0.964, total=  51.8s\n",
      "[CV] C=1000, gamma=0.0001, kernel=linear .............................\n",
      "[CV] . C=1000, gamma=0.0001, kernel=linear, score=0.946, total= 5.7min\n",
      "[CV] C=1000, gamma=0.0001, kernel=linear .............................\n",
      "[CV] . C=1000, gamma=0.0001, kernel=linear, score=0.964, total= 2.3min\n",
      "[CV] C=1000, gamma=0.0001, kernel=linear .............................\n",
      "[CV] . C=1000, gamma=0.0001, kernel=linear, score=0.946, total=  35.9s\n",
      "[CV] C=1000, gamma=0.0001, kernel=linear .............................\n",
      "[CV] . C=1000, gamma=0.0001, kernel=linear, score=0.911, total=  19.5s\n"
     ]
    },
    {
     "name": "stderr",
     "output_type": "stream",
     "text": [
      "[Parallel(n_jobs=1)]: Done 250 out of 250 | elapsed: 129.4min finished\n"
     ]
    },
    {
     "data": {
      "text/plain": [
       "GridSearchCV(cv=None, error_score=nan,\n",
       "             estimator=SVC(C=1.0, break_ties=False, cache_size=200,\n",
       "                           class_weight=None, coef0=0.0,\n",
       "                           decision_function_shape='ovr', degree=3,\n",
       "                           gamma='scale', kernel='rbf', max_iter=-1,\n",
       "                           probability=False, random_state=None, shrinking=True,\n",
       "                           tol=0.001, verbose=False),\n",
       "             iid='deprecated', n_jobs=None,\n",
       "             param_grid={'C': [0.1, 1, 10, 100, 1000],\n",
       "                         'gamma': [1, 0.1, 0.01, 0.001, 0.0001],\n",
       "                         'kernel': ['rbf', 'linear']},\n",
       "             pre_dispatch='2*n_jobs', refit=True, return_train_score=False,\n",
       "             scoring=None, verbose=3)"
      ]
     },
     "execution_count": 4,
     "metadata": {},
     "output_type": "execute_result"
    }
   ],
   "source": [
    "# SVM optimize\n",
    "\n",
    "# defining parameter range \n",
    "param_grid = {'C': [0.1, 1, 10, 100, 1000],  \n",
    "              'gamma': [1, 0.1, 0.01, 0.001, 0.0001], \n",
    "              'kernel': ['rbf','linear']}  \n",
    "  \n",
    "grid = GridSearchCV(SVC(), param_grid, refit = True, verbose = 3) \n",
    "  \n",
    "# fitting the model for grid search \n",
    "grid.fit(Xtrain, np.ravel(Ytrain)) \n"
   ]
  },
  {
   "cell_type": "code",
   "execution_count": 5,
   "metadata": {},
   "outputs": [
    {
     "name": "stdout",
     "output_type": "stream",
     "text": [
      "{'C': 0.1, 'gamma': 1, 'kernel': 'linear'}\n",
      "SVC(C=0.1, break_ties=False, cache_size=200, class_weight=None, coef0=0.0,\n",
      "    decision_function_shape='ovr', degree=3, gamma=1, kernel='linear',\n",
      "    max_iter=-1, probability=False, random_state=None, shrinking=True,\n",
      "    tol=0.001, verbose=False)\n"
     ]
    }
   ],
   "source": [
    "# print best parameter after tuning \n",
    "print(grid.best_params_) \n",
    "  \n",
    "# print how our model looks after hyper-parameter tuning \n",
    "print(grid.best_estimator_) "
   ]
  },
  {
   "cell_type": "code",
   "execution_count": 26,
   "metadata": {},
   "outputs": [],
   "source": [
    "# Accuracy against the parameter value RBF\n",
    "\n",
    "C_range = [0.1, 1, 10, 100, 1000]\n",
    "Gamma_range = [1, 0.1, 0.01, 0.001, 0.0001]\n",
    "\n",
    "test_accuracy_C = []\n",
    "test_accuracy_Gamma = []\n",
    "train_accuracy_C = []\n",
    "train_accuracy_Gamma = []\n",
    "\n",
    "for i in C_range:\n",
    "    \n",
    "    # creating classifier\n",
    "    Model_1 = SVC(C=i, kernel='rbf')\n",
    "    # fitting the model\n",
    "    Model_1.fit(Xtrain, np.ravel(Ytrain))\n",
    "    #recording the accuracy of the testing set\n",
    "    test_accuracy_C.append(metrics.accuracy_score(Ytest, Model_1.predict(Xtest)))\n",
    "    #recording the accuracy of the traininging set\n",
    "    train_accuracy_C.append(metrics.accuracy_score(Ytrain, Model_1.predict(Xtrain)))\n",
    "\n",
    "\n",
    "for g in Gamma_range:\n",
    "    \n",
    "    # creating classifier\n",
    "    Model_2 = SVC(gamma=g, kernel='rbf')\n",
    "    # fitting the model\n",
    "    Model_2.fit(Xtrain, np.ravel(Ytrain))\n",
    "    #recording the accuracy of the testing set\n",
    "    test_accuracy_Gamma.append(metrics.accuracy_score(Ytest, Model_2.predict(Xtest)))\n",
    "    #recording the accuracy of the traininging set\n",
    "    train_accuracy_Gamma.append(metrics.accuracy_score(Ytrain, Model_2.predict(Xtrain)))\n",
    "    "
   ]
  },
  {
   "cell_type": "code",
   "execution_count": 27,
   "metadata": {},
   "outputs": [
    {
     "data": {
      "text/plain": [
       "<matplotlib.legend.Legend at 0x1fe57527fc8>"
      ]
     },
     "execution_count": 27,
     "metadata": {},
     "output_type": "execute_result"
    },
    {
     "data": {
      "image/png": "[encoded data removed]",
      "text/plain": [
       "<Figure size 432x288 with 1 Axes>"
      ]
     },
     "metadata": {
      "needs_background": "light"
     },
     "output_type": "display_data"
    }
   ],
   "source": [
    "plt.title('Accuracy against C RBF')\n",
    "plt.plot(C_range, train_accuracy_C, label='Accuracy of the Train Set')    \n",
    "plt.plot(C_range, test_accuracy_C, label='Accuracy of the Test Set')\n",
    "plt.ylabel('Accuracy')\n",
    "plt.xlabel('C Number')\n",
    "plt.legend()\n"
   ]
  },
  {
   "cell_type": "code",
   "execution_count": 28,
   "metadata": {},
   "outputs": [
    {
     "data": {
      "text/plain": [
       "<matplotlib.legend.Legend at 0x1fe575aae48>"
      ]
     },
     "execution_count": 28,
     "metadata": {},
     "output_type": "execute_result"
    },
    {
     "data": {
      "image/png": "[encoded data removed]",
      "text/plain": [
       "<Figure size 432x288 with 1 Axes>"
      ]
     },
     "metadata": {
      "needs_background": "light"
     },
     "output_type": "display_data"
    }
   ],
   "source": [
    "plt.title('Accuracy against Gamma RBF')\n",
    "plt.plot(C_range, train_accuracy_Gamma, label='Accuracy of the Train Set')    \n",
    "plt.plot(C_range, test_accuracy_Gamma, label='Accuracy of the Test Set')\n",
    "plt.ylabel('Accuracy')\n",
    "plt.xlabel('Gamma Number')\n",
    "plt.legend()\n"
   ]
  },
  {
   "cell_type": "code",
   "execution_count": 23,
   "metadata": {},
   "outputs": [],
   "source": [
    "# Accuracy against the parameter value Linear\n",
    "\n",
    "C_range = [0.1, 1, 10, 100, 1000]\n",
    "Gamma_range = [1, 0.1, 0.01, 0.001, 0.0001]\n",
    "\n",
    "test_accuracy_C = []\n",
    "test_accuracy_Gamma = []\n",
    "train_accuracy_C = []\n",
    "train_accuracy_Gamma = []\n",
    "\n",
    "for i in C_range:\n",
    "    \n",
    "    # creating classifier\n",
    "    Model_3 = SVC(C=i, kernel='linear')\n",
    "    # fitting the model\n",
    "    Model_3.fit(Xtrain, np.ravel(Ytrain))\n",
    "    #recording the accuracy of the testing set\n",
    "    test_accuracy_C.append(metrics.accuracy_score(Ytest, Model_3.predict(Xtest)))\n",
    "    #recording the accuracy of the traininging set\n",
    "    train_accuracy_C.append(metrics.accuracy_score(Ytrain, Model_3.predict(Xtrain)))\n",
    "\n",
    "\n",
    "for g in Gamma_range:\n",
    "    \n",
    "    # creating classifier\n",
    "    Model_4 = SVC(gamma=g, kernel='linear')\n",
    "    # fitting the model\n",
    "    Model_4.fit(Xtrain, np.ravel(Ytrain))\n",
    "    #recording the accuracy of the testing set\n",
    "    test_accuracy_Gamma.append(metrics.accuracy_score(Ytest, Model_4.predict(Xtest)))\n",
    "    #recording the accuracy of the traininging set\n",
    "    train_accuracy_Gamma.append(metrics.accuracy_score(Ytrain, Model_4.predict(Xtrain)))"
   ]
  },
  {
   "cell_type": "code",
   "execution_count": 24,
   "metadata": {},
   "outputs": [
    {
     "data": {
      "text/plain": [
       "<matplotlib.legend.Legend at 0x1fe57448c48>"
      ]
     },
     "execution_count": 24,
     "metadata": {},
     "output_type": "execute_result"
    },
    {
     "data": {
      "image/png": "[encoded data removed]",
      "text/plain": [
       "<Figure size 432x288 with 1 Axes>"
      ]
     },
     "metadata": {
      "needs_background": "light"
     },
     "output_type": "display_data"
    }
   ],
   "source": [
    "plt.title('Accuracy against C Linear')\n",
    "plt.plot(C_range, train_accuracy_C, label='Accuracy of the Train Set')    \n",
    "plt.plot(C_range, test_accuracy_C, label='Accuracy of the Test Set')\n",
    "plt.ylabel('Accuracy')\n",
    "plt.xlabel('C Number')\n",
    "plt.legend()"
   ]
  },
  {
   "cell_type": "code",
   "execution_count": 25,
   "metadata": {},
   "outputs": [
    {
     "data": {
      "text/plain": [
       "<matplotlib.legend.Legend at 0x1fe574b7b88>"
      ]
     },
     "execution_count": 25,
     "metadata": {},
     "output_type": "execute_result"
    },
    {
     "data": {
      "image/png": "[encoded data removed]",
      "text/plain": [
       "<Figure size 432x288 with 1 Axes>"
      ]
     },
     "metadata": {
      "needs_background": "light"
     },
     "output_type": "display_data"
    }
   ],
   "source": [
    "plt.title('Accuracy against Gamma Linear')\n",
    "plt.plot(C_range, train_accuracy_Gamma, label='Accuracy of the Train Set')    \n",
    "plt.plot(C_range, test_accuracy_Gamma, label='Accuracy of the Test Set')\n",
    "plt.ylabel('Accuracy')\n",
    "plt.xlabel('Gamma Number')\n",
    "plt.legend()\n"
   ]
  },
  {
   "cell_type": "code",
   "execution_count": 6,
   "metadata": {},
   "outputs": [
    {
     "name": "stdout",
     "output_type": "stream",
     "text": [
      "              precision    recall  f1-score   support\n",
      "\n",
      "         ckd       0.99      0.97      0.98        76\n",
      "      notckd       0.96      0.98      0.97        44\n",
      "\n",
      "    accuracy                           0.97       120\n",
      "   macro avg       0.97      0.98      0.97       120\n",
      "weighted avg       0.98      0.97      0.98       120\n",
      "\n"
     ]
    }
   ],
   "source": [
    "# Optimized SVM\n",
    "\n",
    "grid_predictions = grid.predict(Xtest) \n",
    "  \n",
    "# print classification report \n",
    "print(classification_report(Ytest, grid_predictions))"
   ]
  },
  {
   "cell_type": "markdown",
   "metadata": {},
   "source": [
    "# KNN"
   ]
  },
  {
   "cell_type": "code",
   "execution_count": 65,
   "metadata": {},
   "outputs": [
    {
     "name": "stdout",
     "output_type": "stream",
     "text": [
      "              precision    recall  f1-score   support\n",
      "\n",
      "         ckd       0.93      0.66      0.77        76\n",
      "      notckd       0.61      0.91      0.73        44\n",
      "\n",
      "    accuracy                           0.75       120\n",
      "   macro avg       0.77      0.78      0.75       120\n",
      "weighted avg       0.81      0.75      0.75       120\n",
      "\n"
     ]
    }
   ],
   "source": [
    "# KNN Model without Optimization\n",
    "\n",
    "KNN = KNeighborsClassifier()\n",
    "KNN = KNN.fit(Xtrain, np.ravel(Ytrain))\n",
    "\n",
    "print(classification_report(Ytest, KNN.predict(Xtest)))"
   ]
  },
  {
   "cell_type": "code",
   "execution_count": 66,
   "metadata": {},
   "outputs": [
    {
     "name": "stdout",
     "output_type": "stream",
     "text": [
      "Fitting 3 folds for each of 1444 candidates, totalling 4332 fits\n"
     ]
    },
    {
     "name": "stderr",
     "output_type": "stream",
     "text": [
      "[Parallel(n_jobs=1)]: Using backend SequentialBackend with 1 concurrent workers.\n"
     ]
    },
    {
     "name": "stdout",
     "output_type": "stream",
     "text": [
      "n_neighbors: 1\n",
      "Best weights: uniform\n",
      "Best leaf_size: 2\n"
     ]
    },
    {
     "name": "stderr",
     "output_type": "stream",
     "text": [
      "[Parallel(n_jobs=1)]: Done 4332 out of 4332 | elapsed:   30.5s finished\n"
     ]
    }
   ],
   "source": [
    "# KNN Optimization\n",
    "\n",
    "# Creating a list all the parameter options \n",
    "params = {'n_neighbors': list(range(1,20)), 'weights': ['uniform', 'distance'],\n",
    "         'leaf_size': list(range(2, 40))}\n",
    "\n",
    "# Conducting Parameter Optmization With Pipeline\n",
    "# Creating a grid search object\n",
    "clf_KNN = GridSearchCV(KNeighborsClassifier(), params, verbose=1, cv=3)\n",
    "# Fitting the grid search\n",
    "clf_KNN.fit(Xtrain, np.ravel(Ytrain))\n",
    "\n",
    "# Viewing The Best Parameters\n",
    "print('n_neighbors:', clf_KNN.best_estimator_.get_params()['n_neighbors'])\n",
    "print('Best weights:', clf_KNN.best_estimator_.get_params()['weights'])\n",
    "print('Best leaf_size:', clf_KNN.best_estimator_.get_params()['leaf_size'])"
   ]
  },
  {
   "cell_type": "code",
   "execution_count": 67,
   "metadata": {},
   "outputs": [
    {
     "data": {
      "text/plain": [
       "<matplotlib.legend.Legend at 0x1fe57aaa6c8>"
      ]
     },
     "execution_count": 67,
     "metadata": {},
     "output_type": "execute_result"
    },
    {
     "data": {
      "image/png": "[encoded data removed]",
      "text/plain": [
       "<Figure size 432x288 with 1 Axes>"
      ]
     },
     "metadata": {
      "needs_background": "light"
     },
     "output_type": "display_data"
    }
   ],
   "source": [
    "# Accuracy against Parameters\n",
    "\n",
    "# Number of Neighbours\n",
    "\n",
    "train_accuracy_n_uniform = []\n",
    "train_accuracy_n_distance = []\n",
    "n_neighbors = range(1,10)\n",
    "\n",
    "for n in n_neighbors:\n",
    "    \n",
    "    # creating the KNN classifier\n",
    "    clf_uni = KNeighborsClassifier(n_neighbors = n, weights = \"uniform\")\n",
    "    clf_dis = KNeighborsClassifier(n_neighbors = n, weights = \"distance\")\n",
    "    # fitting the model\n",
    "    clf_uni.fit(Xtrain, np.ravel(Ytrain))\n",
    "    clf_dis.fit(Xtrain, np.ravel(Ytrain))\n",
    "    #recording the accuracy of the training set\n",
    "    train_accuracy_n_uniform.append(metrics.accuracy_score(Ytrain, clf_uni.predict(Xtrain)))\n",
    "    train_accuracy_n_distance.append(metrics.accuracy_score(Ytrain, clf_dis.predict(Xtrain)))\n",
    "\n",
    "plt.plot(n_neighbors, train_accuracy_n_uniform, label='Accuracy of Uniform')    \n",
    "plt.plot(n_neighbors, train_accuracy_n_distance, label='Accuracy of Distance')\n",
    "plt.ylabel('Accuracy')\n",
    "plt.xlabel('Number of Neighbors')\n",
    "plt.legend()"
   ]
  },
  {
   "cell_type": "code",
   "execution_count": 69,
   "metadata": {},
   "outputs": [
    {
     "data": {
      "text/plain": [
       "<matplotlib.legend.Legend at 0x1fe57abdcc8>"
      ]
     },
     "execution_count": 69,
     "metadata": {},
     "output_type": "execute_result"
    },
    {
     "data": {
      "image/png": "[encoded data removed]",
      "text/plain": [
       "<Figure size 432x288 with 1 Axes>"
      ]
     },
     "metadata": {
      "needs_background": "light"
     },
     "output_type": "display_data"
    }
   ],
   "source": [
    "# Number of Neighbours\n",
    "\n",
    "train_accuracy_leaf_size_uniform = []\n",
    "train_accuracy_leaf_size_distance = []\n",
    "leaf_size = range(2,40)\n",
    "\n",
    "for n in leaf_size:\n",
    "    \n",
    "    # creating the KNN classifier\n",
    "    clf_uni = KNeighborsClassifier(leaf_size = n, weights = \"uniform\")\n",
    "    clf_dis = KNeighborsClassifier(leaf_size = n, weights = \"distance\")\n",
    "    # fitting the model\n",
    "    clf_uni.fit(Xtrain, np.ravel(Ytrain))\n",
    "    clf_dis.fit(Xtrain, np.ravel(Ytrain))\n",
    "    #recording the accuracy of the training set\n",
    "    train_accuracy_leaf_size_uniform.append(metrics.accuracy_score(Ytrain, clf_uni.predict(Xtrain)))\n",
    "    train_accuracy_leaf_size_distance.append(metrics.accuracy_score(Ytrain, clf_dis.predict(Xtrain)))\n",
    "\n",
    "plt.plot(leaf_size, train_accuracy_leaf_size_uniform, label='Accuracy of Uniform')    \n",
    "plt.plot(leaf_size, train_accuracy_leaf_size_distance, label='Accuracy of Distance')\n",
    "plt.ylabel('Accuracy')\n",
    "plt.xlabel('Leaf Size')\n",
    "plt.legend()"
   ]
  },
  {
   "cell_type": "code",
   "execution_count": 71,
   "metadata": {},
   "outputs": [
    {
     "name": "stdout",
     "output_type": "stream",
     "text": [
      "              precision    recall  f1-score   support\n",
      "\n",
      "         ckd       0.88      0.76      0.82        76\n",
      "      notckd       0.67      0.82      0.73        44\n",
      "\n",
      "    accuracy                           0.78       120\n",
      "   macro avg       0.77      0.79      0.78       120\n",
      "weighted avg       0.80      0.78      0.79       120\n",
      "\n"
     ]
    }
   ],
   "source": [
    "# KNN after Optimization\n",
    "\n",
    "clf = KNeighborsClassifier(n_neighbors = 1, weights = \"uniform\", leaf_size = 2)\n",
    "\n",
    "clf.fit(Xtrain, np.ravel(Ytrain))\n",
    "\n",
    "print(classification_report(Ytest, clf.predict(Xtest)))"
   ]
  },
  {
   "cell_type": "markdown",
   "metadata": {},
   "source": [
    "# Decision Tree"
   ]
  },
  {
   "cell_type": "code",
   "execution_count": 30,
   "metadata": {},
   "outputs": [
    {
     "name": "stdout",
     "output_type": "stream",
     "text": [
      "              precision    recall  f1-score   support\n",
      "\n",
      "         ckd       1.00      0.96      0.98        76\n",
      "      notckd       0.94      1.00      0.97        44\n",
      "\n",
      "    accuracy                           0.97       120\n",
      "   macro avg       0.97      0.98      0.97       120\n",
      "weighted avg       0.98      0.97      0.98       120\n",
      "\n"
     ]
    }
   ],
   "source": [
    "# Decision Tree Without Ooptimization\n",
    "\n",
    "DT = tree.DecisionTreeClassifier()\n",
    "DT = DT.fit(Xtrain, Ytrain)\n",
    "\n",
    "print(classification_report(Ytest, DT.predict(Xtest)))"
   ]
  },
  {
   "cell_type": "code",
   "execution_count": 59,
   "metadata": {},
   "outputs": [
    {
     "name": "stdout",
     "output_type": "stream",
     "text": [
      "Fitting 3 folds for each of 684 candidates, totalling 2052 fits\n"
     ]
    },
    {
     "name": "stderr",
     "output_type": "stream",
     "text": [
      "[Parallel(n_jobs=1)]: Using backend SequentialBackend with 1 concurrent workers.\n"
     ]
    },
    {
     "name": "stdout",
     "output_type": "stream",
     "text": [
      "Best Criterion: gini\n",
      "Best max_depth: 2\n",
      "Max_leaf_nodes: 3\n"
     ]
    },
    {
     "name": "stderr",
     "output_type": "stream",
     "text": [
      "[Parallel(n_jobs=1)]: Done 2052 out of 2052 | elapsed:   10.3s finished\n"
     ]
    }
   ],
   "source": [
    "# Decision Optimization\n",
    "\n",
    "# Creating Parameter Space\n",
    "\n",
    "# Creating a list all the parameter options \n",
    "params = {'criterion': ['gini', 'entropy'], 'max_depth': list(range(1,20)),\n",
    "         'max_leaf_nodes': list(range(2, 20))}\n",
    "\n",
    "# Conducting Parameter Optmization With Pipeline\n",
    "# Creating a grid search object\n",
    "clf_GS = GridSearchCV(tree.DecisionTreeClassifier(), params, verbose=1, cv=3)\n",
    "# Fitting the grid search\n",
    "clf_GS.fit(Xtrain, Ytrain)\n",
    "\n",
    "# Viewing The Best Parameters\n",
    "print('Best Criterion:', clf_GS.best_estimator_.get_params()['criterion'])\n",
    "print('Best max_depth:', clf_GS.best_estimator_.get_params()['max_depth'])\n",
    "print('Max_leaf_nodes:', clf_GS.best_estimator_.get_params()['max_leaf_nodes'])"
   ]
  },
  {
   "cell_type": "code",
   "execution_count": 46,
   "metadata": {},
   "outputs": [
    {
     "name": "stdout",
     "output_type": "stream",
     "text": [
      "              precision    recall  f1-score   support\n",
      "\n",
      "         ckd       1.00      0.99      0.99        76\n",
      "      notckd       0.98      1.00      0.99        44\n",
      "\n",
      "    accuracy                           0.99       120\n",
      "   macro avg       0.99      0.99      0.99       120\n",
      "weighted avg       0.99      0.99      0.99       120\n",
      "\n"
     ]
    }
   ],
   "source": [
    "# Decision Tree after Optimization\n",
    "\n",
    "clf = tree.DecisionTreeClassifier(criterion = \"gini\", max_depth = 2,\n",
    "                                  max_leaf_nodes = 3, min_samples_split = 2)\n",
    "\n",
    "clf.fit(Xtrain, Ytrain)\n",
    "\n",
    "print(classification_report(Ytest, clf.predict(Xtest)))"
   ]
  },
  {
   "cell_type": "code",
   "execution_count": 77,
   "metadata": {
    "scrolled": true
   },
   "outputs": [
    {
     "data": {
      "text/plain": [
       "<matplotlib.legend.Legend at 0x1fe57b57bc8>"
      ]
     },
     "execution_count": 77,
     "metadata": {},
     "output_type": "execute_result"
    },
    {
     "data": {
      "image/png": "[encoded data removed]",
      "text/plain": [
       "<Figure size 432x288 with 1 Axes>"
      ]
     },
     "metadata": {
      "needs_background": "light"
     },
     "output_type": "display_data"
    }
   ],
   "source": [
    "# Accuracy against Parameters\n",
    "\n",
    "# Max_depth\n",
    "\n",
    "test_accuracy_max_depth_gini = []\n",
    "test_accuracy_max_depth_entropy = []\n",
    "max_depth_range = range(1,10)\n",
    "\n",
    "for i in max_depth_range:\n",
    "    \n",
    "    # creating classifier\n",
    "    DT_Gini = tree.DecisionTreeClassifier(criterion = \"gini\", max_depth = i)\n",
    "    DT_Entropy = tree.DecisionTreeClassifier(criterion = \"entropy\", max_depth = i)\n",
    "    # fitting the model\n",
    "    DT_Gini.fit(Xtrain, np.ravel(Ytrain))\n",
    "    DT_Entropy.fit(Xtrain, np.ravel(Ytrain))\n",
    "    #recording the accuracy of the testing set\n",
    "    test_accuracy_max_depth_gini.append(metrics.accuracy_score(Ytrain, DT_Gini.predict(Xtrain)))\n",
    "    test_accuracy_max_depth_entropy.append(metrics.accuracy_score(Ytrain, DT_Entropy.predict(Xtrain)))\n",
    "    \n",
    "plt.plot(max_depth_range, test_accuracy_max_depth_gini, label='Accuracy of Gini')    \n",
    "plt.plot(max_depth_range, test_accuracy_max_depth_entropy, label='Accuracy of Entropy')\n",
    "plt.ylabel('Accuracy')\n",
    "plt.xlabel('max_depth')\n",
    "plt.legend() "
   ]
  },
  {
   "cell_type": "code",
   "execution_count": 75,
   "metadata": {},
   "outputs": [
    {
     "data": {
      "text/plain": [
       "<matplotlib.legend.Legend at 0x1fe578a7888>"
      ]
     },
     "execution_count": 75,
     "metadata": {},
     "output_type": "execute_result"
    },
    {
     "data": {
      "image/png": "[encoded data removed]",
      "text/plain": [
       "<Figure size 432x288 with 1 Axes>"
      ]
     },
     "metadata": {
      "needs_background": "light"
     },
     "output_type": "display_data"
    }
   ],
   "source": [
    "# max_leaf_nodes\n",
    "\n",
    "train_accuracy_max_leaf_gini = []\n",
    "train_accuracy_max_leaf_entropy = []\n",
    "max_leaf_nodes = range(2,10)\n",
    "\n",
    "for i in max_leaf_nodes:\n",
    "    \n",
    "    # creating classifier\n",
    "    DT_Gini = tree.DecisionTreeClassifier(criterion = \"gini\", max_leaf_nodes = i)\n",
    "    DT_Entropy = tree.DecisionTreeClassifier(criterion = \"entropy\", max_leaf_nodes = i)\n",
    "    # fitting the model\n",
    "    DT_Gini.fit(Xtrain, np.ravel(Ytrain))\n",
    "    DT_Entropy.fit(Xtrain, np.ravel(Ytrain))\n",
    "    #recording the accuracy of the testing set\n",
    "    train_accuracy_max_leaf_gini.append(metrics.accuracy_score(Ytrain, DT_Gini.predict(Xtrain)))\n",
    "    train_accuracy_max_leaf_entropy.append(metrics.accuracy_score(Ytrain, DT_Entropy.predict(Xtrain)))\n",
    "\n",
    "\n",
    "plt.plot(max_leaf_nodes, train_accuracy_max_leaf_gini, label='Accuracy of Gini')    \n",
    "plt.plot(max_leaf_nodes, train_accuracy_max_leaf_entropy, label='Accuracy of Entropy')\n",
    "plt.ylabel('Accuracy')\n",
    "plt.xlabel('max_leaf_nodes')\n",
    "plt.legend() "
   ]
  },
  {
   "cell_type": "markdown",
   "metadata": {},
   "source": [
    "# Random Forest"
   ]
  },
  {
   "cell_type": "code",
   "execution_count": 56,
   "metadata": {},
   "outputs": [
    {
     "name": "stdout",
     "output_type": "stream",
     "text": [
      "              precision    recall  f1-score   support\n",
      "\n",
      "         ckd       1.00      0.99      0.99        76\n",
      "      notckd       0.98      1.00      0.99        44\n",
      "\n",
      "    accuracy                           0.99       120\n",
      "   macro avg       0.99      0.99      0.99       120\n",
      "weighted avg       0.99      0.99      0.99       120\n",
      "\n"
     ]
    }
   ],
   "source": [
    "# Random Forest Without Ooptimization\n",
    "\n",
    "RF = RandomForestClassifier()\n",
    "RF = RF.fit(Xtrain, np.ravel(Ytrain))\n",
    "\n",
    "print(classification_report(Ytest, RF.predict(Xtest)))"
   ]
  },
  {
   "cell_type": "code",
   "execution_count": 58,
   "metadata": {},
   "outputs": [
    {
     "name": "stdout",
     "output_type": "stream",
     "text": [
      "Fitting 3 folds for each of 684 candidates, totalling 2052 fits\n"
     ]
    },
    {
     "name": "stderr",
     "output_type": "stream",
     "text": [
      "[Parallel(n_jobs=1)]: Using backend SequentialBackend with 1 concurrent workers.\n"
     ]
    },
    {
     "name": "stdout",
     "output_type": "stream",
     "text": [
      "Best Criterion: gini\n",
      "Best max_depth: 11\n",
      "Max_leaf_nodes: 7\n"
     ]
    },
    {
     "name": "stderr",
     "output_type": "stream",
     "text": [
      "[Parallel(n_jobs=1)]: Done 2052 out of 2052 | elapsed:  7.5min finished\n"
     ]
    }
   ],
   "source": [
    "# Creating Parameter Space\n",
    "\n",
    "# Creating a list all the parameter options \n",
    "params = {'criterion': ['gini', 'entropy'], 'max_depth': list(range(1,20)),\n",
    "         'max_leaf_nodes': list(range(2, 20))}\n",
    "\n",
    "# Conducting Parameter Optmization With Pipeline\n",
    "# Creating a grid search object\n",
    "clf_RF = GridSearchCV(RandomForestClassifier(), params, verbose=1, cv=3)\n",
    "# Fitting the grid search\n",
    "clf_RF.fit(Xtrain, np.ravel(Ytrain))\n",
    "\n",
    "# Viewing The Best Parameters\n",
    "print('Best Criterion:', clf_RF.best_estimator_.get_params()['criterion'])\n",
    "print('Best max_depth:', clf_RF.best_estimator_.get_params()['max_depth'])\n",
    "print('Max_leaf_nodes:', clf_RF.best_estimator_.get_params()['max_leaf_nodes'])"
   ]
  },
  {
   "cell_type": "code",
   "execution_count": 60,
   "metadata": {},
   "outputs": [
    {
     "name": "stdout",
     "output_type": "stream",
     "text": [
      "              precision    recall  f1-score   support\n",
      "\n",
      "         ckd       1.00      1.00      1.00        76\n",
      "      notckd       1.00      1.00      1.00        44\n",
      "\n",
      "    accuracy                           1.00       120\n",
      "   macro avg       1.00      1.00      1.00       120\n",
      "weighted avg       1.00      1.00      1.00       120\n",
      "\n"
     ]
    }
   ],
   "source": [
    "# Random Forest after Optimization\n",
    "\n",
    "clf = RandomForestClassifier(criterion = \"gini\", max_depth = 11,\n",
    "                                  max_leaf_nodes = 7)\n",
    "\n",
    "clf.fit(Xtrain, np.ravel(Ytrain))\n",
    "\n",
    "print(classification_report(Ytest, clf.predict(Xtest)))"
   ]
  },
  {
   "cell_type": "code",
   "execution_count": 74,
   "metadata": {},
   "outputs": [
    {
     "data": {
      "text/plain": [
       "<matplotlib.legend.Legend at 0x1fe577ac308>"
      ]
     },
     "execution_count": 74,
     "metadata": {},
     "output_type": "execute_result"
    },
    {
     "data": {
      "image/png": "[encoded data removed]",
      "text/plain": [
       "<Figure size 432x288 with 1 Axes>"
      ]
     },
     "metadata": {
      "needs_background": "light"
     },
     "output_type": "display_data"
    }
   ],
   "source": [
    "# Accuracy against Parameters\n",
    "\n",
    "# Max_depth\n",
    "\n",
    "train_accuracy_max_depth_gini = []\n",
    "train_accuracy_max_depth_entropy = []\n",
    "max_depth_range = range(1,20)\n",
    "\n",
    "for i in max_depth_range:\n",
    "    \n",
    "    # creating classifier\n",
    "    RF_Gini = RandomForestClassifier(criterion = \"gini\", max_depth = i)\n",
    "    RF_Entropy = RandomForestClassifier(criterion = \"entropy\", max_depth = i)\n",
    "    # fitting the model\n",
    "    RF_Gini.fit(Xtrain, np.ravel(Ytrain))\n",
    "    RF_Entropy.fit(Xtrain, np.ravel(Ytrain))\n",
    "    #recording the accuracy of the testing set\n",
    "    train_accuracy_max_depth_gini.append(metrics.accuracy_score(Ytrain, RF_Gini.predict(Xtrain)))\n",
    "    train_accuracy_max_depth_entropy.append(metrics.accuracy_score(Ytrain, RF_Entropy.predict(Xtrain)))\n",
    "    \n",
    "plt.plot(max_depth_range, train_accuracy_max_depth_gini, label='Accuracy of Gini')    \n",
    "plt.plot(max_depth_range, train_accuracy_max_depth_entropy, label='Accuracy of Entropy')\n",
    "plt.ylabel('Accuracy')\n",
    "plt.xlabel('max_depth')\n",
    "plt.legend() "
   ]
  },
  {
   "cell_type": "code",
   "execution_count": 73,
   "metadata": {},
   "outputs": [
    {
     "data": {
      "text/plain": [
       "<matplotlib.legend.Legend at 0x1fe57927a08>"
      ]
     },
     "execution_count": 73,
     "metadata": {},
     "output_type": "execute_result"
    },
    {
     "data": {
      "image/png": "[encoded data removed]",
      "text/plain": [
       "<Figure size 432x288 with 1 Axes>"
      ]
     },
     "metadata": {
      "needs_background": "light"
     },
     "output_type": "display_data"
    }
   ],
   "source": [
    "# max_leaf_nodes\n",
    "\n",
    "train_accuracy_max_leaf_gini = []\n",
    "train_accuracy_max_leaf_entropy = []\n",
    "max_leaf_nodes = range(2,20)\n",
    "\n",
    "for i in max_leaf_nodes:\n",
    "    \n",
    "    # creating classifier\n",
    "    RF_Gini = RandomForestClassifier(criterion = \"gini\", max_leaf_nodes = i)\n",
    "    RF_Entropy = RandomForestClassifier(criterion = \"entropy\", max_leaf_nodes = i)\n",
    "    # fitting the model\n",
    "    RF_Gini.fit(Xtrain, np.ravel(Ytrain))\n",
    "    RF_Entropy.fit(Xtrain, np.ravel(Ytrain))\n",
    "    #recording the accuracy of the testing set\n",
    "    train_accuracy_max_leaf_gini.append(metrics.accuracy_score(Ytrain, RF_Gini.predict(Xtrain)))\n",
    "    train_accuracy_max_leaf_entropy.append(metrics.accuracy_score(Ytrain, RF_Entropy.predict(Xtrain)))\n",
    "\n",
    "\n",
    "plt.plot(max_leaf_nodes, train_accuracy_max_leaf_gini, label='Accuracy of Gini')    \n",
    "plt.plot(max_leaf_nodes, train_accuracy_max_leaf_entropy, label='Accuracy of Entropy')\n",
    "plt.ylabel('Accuracy')\n",
    "plt.xlabel('max_leaf_nodes')\n",
    "plt.legend() "
   ]
  },
  {
   "cell_type": "markdown",
   "metadata": {
    "colab_type": "text",
    "id": "gmRFTQ_ZTQNv"
   },
   "source": [
    "## Part 3: Discussion **(5 marks)**\n",
    "\n",
    "Based on the results obtained in Part-2, which classification method showed the best performance and why? Do you have any suggestions to further improve the model performances? **(5 marks)**"
   ]
  },
  {
   "cell_type": "markdown",
   "metadata": {
    "colab": {},
    "colab_type": "code",
    "id": "AqAL_DmsT6oj"
   },
   "source": [
    "Random Forest shows the best performance which is 100%. The random forests is an ensemble learning method for classification that based on multitude of decision trees for training and provide the result of the mode of the classes which will results in the best performance. However 100% accuracy would have potential overfitting problems. \n",
    "\n",
    "In order to improve the model performance. I would suggest that increase the range and amount of each parameter and add more paremeters into the model. "
   ]
  }
 ],
 "metadata": {
  "colab": {
   "collapsed_sections": [],
   "name": "A5.ipynb",
   "provenance": []
  },
  "kernelspec": {
   "display_name": "Python 3",
   "language": "python",
   "name": "python3"
  },
  "language_info": {
   "codemirror_mode": {
    "name": "ipython",
    "version": 3
   },
   "file_extension": ".py",
   "mimetype": "text/x-python",
   "name": "python",
   "nbconvert_exporter": "python",
   "pygments_lexer": "ipython3",
   "version": "3.7.6"
  }
 },
 "nbformat": 4,
 "nbformat_minor": 1
}
