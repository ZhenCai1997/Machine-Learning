{
 "cells": [
  {
   "cell_type": "code",
   "execution_count": 21,
   "metadata": {
    "scrolled": true
   },
   "outputs": [
    {
     "name": "stdout",
     "output_type": "stream",
     "text": [
      "<class 'int'>\n",
      "<class 'float'>\n",
      "<class 'str'>\n"
     ]
    }
   ],
   "source": [
    "a = 15 #number, intiger\n",
    "b = 3.5 #number, ploting point, float\n",
    "c = 'this is hello world' #string, text data\n",
    "\n",
    "print(type(a))\n",
    "print(type(b))\n",
    "print(type(c))\n",
    "\n",
    "myFirstVariable = 10\n",
    "mySecondVariable = 15"
   ]
  },
  {
   "cell_type": "code",
   "execution_count": 14,
   "metadata": {},
   "outputs": [
    {
     "name": "stdout",
     "output_type": "stream",
     "text": [
      "15\n",
      "3.5\n",
      "this is hello world\n",
      "10\n"
     ]
    }
   ],
   "source": [
    "print(a)\n",
    "print(b)\n",
    "print(c)\n",
    "\n",
    "print(myFirstVariable)\n"
   ]
  },
  {
   "cell_type": "code",
   "execution_count": 17,
   "metadata": {},
   "outputs": [
    {
     "name": "stdout",
     "output_type": "stream",
     "text": [
      "15\n"
     ]
    }
   ],
   "source": [
    "firstNum = 5\n",
    "secondNum = 10\n",
    "total = firstNum+secondNum\n",
    "print(total)\n"
   ]
  },
  {
   "cell_type": "code",
   "execution_count": 34,
   "metadata": {},
   "outputs": [
    {
     "name": "stdout",
     "output_type": "stream",
     "text": [
      "<class 'list'>\n",
      "[1, 5, 6, 2.5, 'lassi', 3.333]\n",
      "Length of the List is:  6\n",
      "1\n",
      "4\n",
      "9\n",
      "8\n",
      "[1, 5, 6, 2.5, 'lassi', 3.333, 100]\n",
      "[1, 5]\n",
      "[[1, 2], [3, 4], 'text']\n"
     ]
    }
   ],
   "source": [
    "mylist = [1,5,6,2.5,'lassi',3.333]\n",
    "print(type(mylist))\n",
    "print(mylist)\n",
    "print(\"Length of the List is: \", len(mylist))  #len, length\n",
    "\n",
    "#indexing\n",
    "numbers = [1,2,3,4,5,6,7,8,9]\n",
    "print(numbers[0]) #first one, start from 0\n",
    "print(numbers[3])\n",
    "print(numbers[-1]) #last one\n",
    "print(numbers[-2]) #second last one\n",
    "\n",
    "mylist.append(100)\n",
    "print(mylist)\n",
    "print(mylist[0:2])\n",
    "mylist = [[1,2],[3,4], 'text']\n",
    "print(mylist)"
   ]
  },
  {
   "cell_type": "code",
   "execution_count": 29,
   "metadata": {},
   "outputs": [
    {
     "name": "stdout",
     "output_type": "stream",
     "text": [
      "a\n"
     ]
    }
   ],
   "source": [
    "t = 15\n",
    "if t<= 25:\n",
    "    print(\"a\")\n",
    "elif t <= 40:\n",
    "    print(\"b\")\n",
    "else:\n",
    "    print(\"c\")"
   ]
  },
  {
   "cell_type": "code",
   "execution_count": 38,
   "metadata": {},
   "outputs": [
    {
     "name": "stdout",
     "output_type": "stream",
     "text": [
      "printed if statement1 is True\n"
     ]
    }
   ],
   "source": [
    "statement1 = True\n",
    "\n",
    "if statement1:\n",
    "    print(\"printed if statement1 is True\")\n",
    "else:    \n",
    "    print(\"now outside the if block\")"
   ]
  },
  {
   "cell_type": "code",
   "execution_count": 1,
   "metadata": {},
   "outputs": [
    {
     "name": "stdout",
     "output_type": "stream",
     "text": [
      "0 3\n",
      "1 4\n",
      "2 5\n",
      "3 chandan\n",
      "4 5\n"
     ]
    }
   ],
   "source": [
    "mylist = [3,4,5,'chandan',5]\n",
    "\n",
    "for idx,item in enumerate(mylist):\n",
    "    print(idx,item)"
   ]
  },
  {
   "cell_type": "code",
   "execution_count": 42,
   "metadata": {},
   "outputs": [
    {
     "name": "stdout",
     "output_type": "stream",
     "text": [
      "Initial list: [2, 3, 4, 5]\n",
      "The new list: [4, 9, 16, 25]\n",
      "[1, 4, 9, 16, 25, 36]\n"
     ]
    }
   ],
   "source": [
    "# range(start, stop) creates a range of values from start to stop-1\n",
    "x = list(range(2, 6)) #not including the last one\n",
    "print(\"Initial list: {}\".format(x))\n",
    "\n",
    "for idx, item in enumerate(x):\n",
    "    x[idx] = item**2\n",
    "\n",
    "print(\"The new list: {}\".format(x))\n",
    "\n",
    "\n",
    "newlist = [x**2 for x in range(1, 7)]\n",
    "\n",
    "print(newlist)"
   ]
  },
  {
   "cell_type": "code",
   "execution_count": null,
   "metadata": {},
   "outputs": [],
   "source": []
  }
 ],
 "metadata": {
  "kernelspec": {
   "display_name": "Python 3",
   "language": "python",
   "name": "python3"
  },
  "language_info": {
   "codemirror_mode": {
    "name": "ipython",
    "version": 3
   },
   "file_extension": ".py",
   "mimetype": "text/x-python",
   "name": "python",
   "nbconvert_exporter": "python",
   "pygments_lexer": "ipython3",
   "version": "3.7.6"
  }
 },
 "nbformat": 4,
 "nbformat_minor": 4
}
