{
 "cells": [
  {
   "cell_type": "code",
   "execution_count": 1,
   "metadata": {},
   "outputs": [
    {
     "name": "stdout",
     "output_type": "stream",
     "text": [
      "       longitude  latitude  Distance\n",
      "2780     -114.55     32.80  9.208083\n",
      "2781     -114.63     32.76  9.163755\n",
      "2782     -114.66     32.74  9.150109\n",
      "2779     -114.65     32.79  9.130416\n",
      "12453    -114.57     33.52  8.813921\n",
      "...          ...       ...       ...\n",
      "418      -122.25     37.89  0.022361\n",
      "421      -122.25     37.89  0.022361\n",
      "422      -122.25     37.89  0.022361\n",
      "1633     -122.22     37.88  0.010000\n",
      "0        -122.23     37.88  0.000000\n",
      "\n",
      "[20640 rows x 3 columns]\n",
      "The longtitude and latitude of the farthest house is: -122.23 37.88\n",
      "The longtitude and latitude of the nearest house is: -114.55 32.8\n",
      "The distance of the farthest house is: 0.0\n",
      "The distance of the nearest house is: 9.208083405356414\n"
     ]
    }
   ],
   "source": [
    "# Name Zhen Cai\n",
    "# ID 219056512\n",
    "\n",
    "# Question 1: Find the distances of the farthest and nearest housing blocks from the house block described in the 1st row of the dataset.\n",
    "import numpy as np\n",
    "import pandas as pd\n",
    "import csv\n",
    "import math\n",
    "\n",
    "df = pd.read_csv('housing_dataset.csv')\n",
    "\n",
    "Q1 = df.loc[:, ['longitude', 'latitude']]\n",
    "\n",
    "lon = Q1[\"longitude\"]\n",
    "\n",
    "lat = Q1[\"latitude\"]\n",
    "\n",
    "dist = np.empty(len(Q1))\n",
    "\n",
    "for i in range(0, len(Q1)):\n",
    "    dist[i] = math.sqrt( ((lon[i]-lon[0])**2)+((lat[i]-lat[0])**2) )\n",
    "\n",
    "Q1.insert(2, \"Distance\", dist)\n",
    "\n",
    "Q1_sort = Q1.sort_values('Distance', ascending = False)\n",
    "\n",
    "print(Q1_sort)\n",
    "\n",
    "print(\"The longtitude and latitude of the farthest house is:\", Q1_sort.loc[0,'longitude'], Q1_sort.loc[0,'latitude'])\n",
    "print(\"The longtitude and latitude of the nearest house is:\", Q1_sort.loc[2780, 'longitude'], Q1_sort.loc[2780, 'latitude'])\n",
    "print(\"The distance of the farthest house is:\", Q1_sort.loc[0,'Distance'])\n",
    "print(\"The distance of the nearest house is:\", Q1_sort.loc[2780,'Distance'])"
   ]
  },
  {
   "cell_type": "code",
   "execution_count": 9,
   "metadata": {},
   "outputs": [
    {
     "name": "stdout",
     "output_type": "stream",
     "text": [
      "The average age of the house blocks near the ocean is: 29.347253574115875\n"
     ]
    }
   ],
   "source": [
    "# Question 2. Calculate the average age of the house blocks near the ocean.\n",
    "\n",
    "import pandas as pd\n",
    "\n",
    "age = pd.read_csv('housing_dataset.csv')\n",
    "\n",
    "age.groupby('ocean_proximity').housing_age.mean()\n",
    "\n",
    "NearOcean = age[age.ocean_proximity=='NEAR OCEAN'].housing_age.mean()\n",
    "\n",
    "print(\"The average age of the house blocks near the ocean is:\",NearOcean)"
   ]
  },
  {
   "cell_type": "code",
   "execution_count": 84,
   "metadata": {},
   "outputs": [
    {
     "name": "stdout",
     "output_type": "stream",
     "text": [
      "[2.55555556 2.10984183 2.80225989 ... 2.3256351  2.12320917 2.61698113]\n",
      "The income of the most population density: [10.2264]\n",
      "The income of the least population density: [2.5893]\n"
     ]
    }
   ],
   "source": [
    "# Question 3. Find the income of the housing block with the most and least population density (per family).\n",
    "\n",
    "import numpy as np\n",
    "import csv\n",
    "import pandas as pd\n",
    "\n",
    "population = []\n",
    "family = []\n",
    "income = []\n",
    "\n",
    "with open('housing_dataset.csv') as csvfile:\n",
    "    Housing_Data = csv.reader(csvfile, delimiter = ',')\n",
    "       \n",
    "    next(Housing_Data)\n",
    "    \n",
    "    for row in Housing_Data:\n",
    "        \n",
    "        population.append([float(row[5])])\n",
    "        family.append([float(row[6])])\n",
    "        income.append([float(row[7])])\n",
    "        \n",
    "population = np.array(population)\n",
    "family = np.array(family)\n",
    "income = np.array(income)\n",
    "\n",
    "pop_Density = np.empty(20640)\n",
    "\n",
    "for a in range(0,20640):\n",
    "    pop_Density[a] = population[a] / family[a]\n",
    "    \n",
    "print(pop_Density)\n",
    "\n",
    "idx_pop_max = np.argmax(pop_Density)\n",
    "idx_pop_min = np.argmin(pop_Density)\n",
    "\n",
    "print(\"The income of the most population density:\", income[idx_pop_max])\n",
    "print(\"The income of the least population density:\", income[idx_pop_min])\n"
   ]
  },
  {
   "cell_type": "code",
   "execution_count": 99,
   "metadata": {},
   "outputs": [
    {
     "name": "stdout",
     "output_type": "stream",
     "text": [
      "0        41\n",
      "1        21\n",
      "2        52\n",
      "3        52\n",
      "4        52\n",
      "         ..\n",
      "20635    25\n",
      "20636    18\n",
      "20637    17\n",
      "20638    18\n",
      "20639    16\n",
      "Name: housing_age, Length: 20640, dtype: int64\n",
      "2\n",
      "3130\n",
      "352100\n",
      "141700\n",
      "The price difference between the latest and oldest house is: 210400\n"
     ]
    }
   ],
   "source": [
    "# Question 4. Calculate the price difference between the latest and oldest housing block from the dataset.\n",
    "\n",
    "import pandas as pd\n",
    "import csv\n",
    "\n",
    "df = pd.read_csv('housing_dataset.csv')\n",
    "\n",
    "age = df[\"housing_age\"]\n",
    "price = df[\"house_value\"]\n",
    "\n",
    "\n",
    "max_idx = age.idxmax()\n",
    "min_idx = age.idxmin()\n",
    "\n",
    "print(max_idx)\n",
    "print(min_idx)\n",
    "print(price[max_idx])\n",
    "print(price[min_idx])\n",
    "\n",
    "difference = abs(price[max_idx] - price[min_idx])\n",
    "\n",
    "print(\"The price difference between the latest and oldest house is:\", difference)\n"
   ]
  },
  {
   "cell_type": "code",
   "execution_count": 96,
   "metadata": {},
   "outputs": [
    {
     "name": "stdout",
     "output_type": "stream",
     "text": [
      "[514.31818182  50.50007043 240.01363327 ...  40.94942325  45.53763441\n",
      "  32.1005386 ]\n",
      "The cheapest price per room is: 1.595444807757357\n"
     ]
    }
   ],
   "source": [
    "# Question 5. Calculate the cheapest price per room from the dataset.\n",
    "\n",
    "import pandas as pd\n",
    "import numpy as np\n",
    "import csv\n",
    "\n",
    "df1 = pd.read_csv('housing_dataset.csv')\n",
    "\n",
    "rooms = df1[\"total_rooms\"]\n",
    "price = df1[\"house_value\"]\n",
    "\n",
    "price_room = np.empty(20640)\n",
    "\n",
    "for a in range(0,20640):\n",
    "    price_room[a] = price[a] / rooms[a]\n",
    "    \n",
    "Price_min = price_room.min()\n",
    "\n",
    "print(\"The cheapest price per room is:\", Price_min)"
   ]
  },
  {
   "cell_type": "code",
   "execution_count": 4,
   "metadata": {},
   "outputs": [
    {
     "name": "stdout",
     "output_type": "stream",
     "text": [
      "[2.55555556 2.10984183 2.80225989 ... 2.3256351  2.12320917 2.61698113]\n",
      "The population density of the most wealthy house: 2.7777777777777777\n",
      "The population density of the least wealthy house: 2.5714285714285716\n"
     ]
    }
   ],
   "source": [
    "# Question 6. Calculate the population density (per family) for the most and least wealthy housing blocks in the dataset.\n",
    "\n",
    "import pandas as pd\n",
    "import numpy as np\n",
    "import csv\n",
    "\n",
    "df = pd.read_csv('housing_dataset.csv')\n",
    "\n",
    "population = df[\"population\"]\n",
    "family = df[\"families\"]\n",
    "price = df[\"average_income\"]\n",
    "\n",
    "pop_Density = np.empty(20640)\n",
    "\n",
    "for a in range(0,20640):\n",
    "    pop_Density[a] = population[a] / family[a]\n",
    "    \n",
    "print(pop_Density)\n",
    "\n",
    "max_price_idx = price.idxmax()\n",
    "min_price_idx = price.idxmin()\n",
    "\n",
    "print(\"The population density of the most wealthy house:\", pop_Density[max_price_idx])\n",
    "print(\"The population density of the least wealthy house:\", pop_Density[min_price_idx])"
   ]
  },
  {
   "cell_type": "code",
   "execution_count": 124,
   "metadata": {},
   "outputs": [
    {
     "name": "stdout",
     "output_type": "stream",
     "text": [
      "longitude  latitude\n",
      "-124.18    40.78       3\n",
      "           40.79       2\n",
      "-124.17    40.80       3\n",
      "-124.16    40.78       3\n",
      "           40.79       3\n",
      "                      ..\n",
      "-115.52    32.97       2\n",
      "           32.98       2\n",
      "-115.49    32.67       3\n",
      "-115.37    32.81       2\n",
      "           32.82       2\n",
      "Length: 4353, dtype: int64\n",
      "The number of houses located in the same location is: 12403\n"
     ]
    }
   ],
   "source": [
    "# Question 7. Calculate and print the total housing blocks located in the same place.\n",
    "\n",
    "import pandas as pd\n",
    "\n",
    "df = pd.read_csv('housing_dataset.csv')\n",
    "\n",
    "group_by = df.groupby(['longitude','latitude']).size()\n",
    "\n",
    "same_loc = pd.Series(group_by)\n",
    "same_loc = same_loc[same_loc > 1]\n",
    "print(same_loc)\n",
    "\n",
    "print(\"The number of houses located in the same location is:\", sum(same_loc))"
   ]
  },
  {
   "cell_type": "code",
   "execution_count": 129,
   "metadata": {},
   "outputs": [
    {
     "name": "stdout",
     "output_type": "stream",
     "text": [
      "ocean_proximity\n",
      "<1H OCEAN     2193410032\n",
      "INLAND         817600123\n",
      "ISLAND           1902200\n",
      "NEAR BAY       593596194\n",
      "NEAR OCEAN     662995512\n",
      "Name: house_value, dtype: int64\n",
      "ocean_proximity\n",
      "<1H OCEAN     24012547\n",
      "INLAND        17803933\n",
      "ISLAND            7873\n",
      "NEAR BAY       5710320\n",
      "NEAR OCEAN     6867477\n",
      "Name: total_rooms, dtype: int64\n",
      "ocean_proximity\n",
      "<1H OCEAN      91.344331\n",
      "INLAND         45.922444\n",
      "ISLAND        241.610568\n",
      "NEAR BAY      103.951476\n",
      "NEAR OCEAN     96.541352\n",
      "dtype: float64\n"
     ]
    }
   ],
   "source": [
    "# Question 8. Calculate the price of expensive room grouped by ocean proximity.\n",
    "\n",
    "import pandas as pd\n",
    "\n",
    "df = pd.read_csv('housing_dataset.csv')\n",
    "\n",
    "group_by_op = df.groupby('ocean_proximity').house_value.sum()\n",
    "group_by_rm = df.groupby('ocean_proximity').total_rooms.sum()\n",
    "\n",
    "print(group_by_op)\n",
    "print(group_by_rm)\n",
    "\n",
    "PricePerRoom = group_by_op/group_by_rm\n",
    "    \n",
    "print(PricePerRoom)"
   ]
  },
  {
   "cell_type": "code",
   "execution_count": 132,
   "metadata": {},
   "outputs": [
    {
     "data": {
      "image/png": "[encoded data removed]",
      "text/plain": [
       "<Figure size 432x288 with 1 Axes>"
      ]
     },
     "metadata": {
      "needs_background": "light"
     },
     "output_type": "display_data"
    },
    {
     "data": {
      "image/png": "[encoded data removed]",
      "text/plain": [
       "<Figure size 432x288 with 1 Axes>"
      ]
     },
     "metadata": {
      "needs_background": "light"
     },
     "output_type": "display_data"
    },
    {
     "name": "stdout",
     "output_type": "stream",
     "text": [
      "According to the scatter plot between population and age, most population's house age were aggerate under 10 years.\n",
      "According to the scatter plot between population and ocean proximity, most population's ocean proximity were aggerate <1H OCEAN.\n"
     ]
    }
   ],
   "source": [
    "# P2 Question 1. Draw the population scatter plot against housing age and another against ocean proximity. From the graph, conclude an assumption.\n",
    "\n",
    "import pandas as pd\n",
    "import numpy as np\n",
    "import csv\n",
    "import matplotlib.pyplot as mp\n",
    "\n",
    "df = pd.read_csv('housing_dataset.csv')\n",
    "\n",
    "population = df[\"population\"]\n",
    "age = df[\"housing_age\"]\n",
    "ocean = df[\"ocean_proximity\"]\n",
    "\n",
    "mp.scatter(population, age)\n",
    "\n",
    "mp.show()\n",
    "\n",
    "mp.scatter(population, ocean)\n",
    "\n",
    "mp.show()\n",
    "\n",
    "print(\"According to the scatter plot between population and age, most population's house age were aggerate under 10 years.\")\n",
    "\n",
    "print(\"According to the scatter plot between population and ocean proximity, most population's ocean proximity were aggerate <1H OCEAN.\")\n",
    "\n",
    "\n",
    "\n"
   ]
  },
  {
   "cell_type": "code",
   "execution_count": 5,
   "metadata": {
    "scrolled": true
   },
   "outputs": [
    {
     "name": "stdout",
     "output_type": "stream",
     "text": [
      "housing_age           28.639486\n",
      "total_rooms         2635.763081\n",
      "total_bedrooms       537.870553\n",
      "population          1425.476744\n",
      "families             499.539680\n",
      "average_income         3.870671\n",
      "house_value       206855.816909\n",
      "dtype: float64\n",
      "['longitude', 'latitude', 'housing_age', 'total_rooms', 'total_bedrooms', 'population', 'families', 'average_income', 'ocean_proximity', 'house_value']\n"
     ]
    },
    {
     "data": {
      "image/png": "[encoded data removed]",
      "text/plain": [
       "<Figure size 1296x360 with 1 Axes>"
      ]
     },
     "metadata": {
      "needs_background": "light"
     },
     "output_type": "display_data"
    }
   ],
   "source": [
    "# P2 Question 2. Draw a bar diagram of average values of all suitable columns. (excluding latitude, longitude and ocean proximity of course).\n",
    "\n",
    "import pandas as pd\n",
    "import numpy as np\n",
    "import csv\n",
    "import matplotlib.pyplot as mp\n",
    "\n",
    "df = pd.read_csv('housing_dataset.csv')\n",
    "\n",
    "average_df = df.mean()\n",
    "print(average_df[2:9])\n",
    "\n",
    "attributes = list(df)\n",
    "print(attributes)\n",
    "\n",
    "f, ax = mp.subplots(figsize=(18,5))\n",
    "mp.bar(attributes[2:9], average_df[2:9])\n",
    "mp.show()"
   ]
  },
  {
   "cell_type": "code",
   "execution_count": 4,
   "metadata": {
    "scrolled": true
   },
   "outputs": [
    {
     "data": {
      "image/png": "[encoded data removed]",
      "text/plain": [
       "<Figure size 1296x360 with 1 Axes>"
      ]
     },
     "metadata": {
      "needs_background": "light"
     },
     "output_type": "display_data"
    },
    {
     "name": "stdout",
     "output_type": "stream",
     "text": [
      "The average house price is : 206855.81690891474\n",
      "Most house price aggreate at the left side of the histogram which indicates that most house price is less than the average price\n",
      "However there is one column with alot of data on the right with might be potential outlier\n"
     ]
    }
   ],
   "source": [
    "# P2 Question 3. Visualize the differences in housing prices from the average price of housing using a bar diagram.\n",
    "\n",
    "import pandas as pd\n",
    "import matplotlib.pyplot as mp\n",
    "\n",
    "df = pd.read_csv('housing_dataset.csv')\n",
    "\n",
    "House_price = df[\"house_value\"]\n",
    "\n",
    "f, ax = mp.subplots(figsize=(18,5))\n",
    "mp.hist(House_price, 50)\n",
    "mp.show()\n",
    "print(\"The average house price is :\", House_price.mean())\n",
    "print(\"Most house price aggreate at the left side of the histogram which indicates that most house price is less than the average price\")\n",
    "print(\"However there is one column with alot of data on the right with might be potential outlier\")"
   ]
  },
  {
   "cell_type": "code",
   "execution_count": 29,
   "metadata": {},
   "outputs": [
    {
     "name": "stdout",
     "output_type": "stream",
     "text": [
      "       longitude  latitude  housing_age  total_rooms  total_bedrooms  \\\n",
      "1850     -124.17     41.80           16         2739           480.0   \n",
      "1851     -124.30     41.80           19         2672           552.0   \n",
      "1852     -124.23     41.75           11         3159           616.0   \n",
      "1853     -124.21     41.77           17         3461           722.0   \n",
      "1854     -124.19     41.78           15         3140           714.0   \n",
      "...          ...       ...          ...          ...             ...   \n",
      "20320    -119.15     34.25           36         3511           664.0   \n",
      "20323    -119.12     34.23           35         2028           554.0   \n",
      "20324    -119.12     34.25           31          737           146.0   \n",
      "20349    -119.08     34.17           32          166            22.0   \n",
      "20352    -119.09     34.22            8           40            10.0   \n",
      "\n",
      "       population  families  average_income ocean_proximity  house_value  \n",
      "1850         1259       436          3.7557      NEAR OCEAN       109400  \n",
      "1851         1298       478          1.9797      NEAR OCEAN        85800  \n",
      "1852         1343       479          2.4805      NEAR OCEAN        73200  \n",
      "1853         1947       647          2.5795      NEAR OCEAN        68400  \n",
      "1854         1645       640          1.6654      NEAR OCEAN        74600  \n",
      "...           ...       ...             ...             ...          ...  \n",
      "20320        2965       695          4.0878      NEAR OCEAN       186800  \n",
      "20323        2252       521          2.4643      NEAR OCEAN       182000  \n",
      "20324        1436       168          3.5625      NEAR OCEAN       194100  \n",
      "20349          63        29          7.3004      NEAR OCEAN       125000  \n",
      "20352         309        16          4.0208      NEAR OCEAN        52500  \n",
      "\n",
      "[1144 rows x 10 columns]\n"
     ]
    }
   ],
   "source": [
    "# Part 3 Question 1. Save the details of all housing blocks in a csv le having houses near oceans and lower than the average of the housing value.\n",
    "\n",
    "import pandas as pd\n",
    "\n",
    "df = pd.read_csv('housing_dataset.csv')\n",
    "house_value = df[\"house_value\"]\n",
    "\n",
    "df_new = df.loc[((df['ocean_proximity'] == \"NEAR OCEAN\") & (df['house_value'] < house_value.mean()))] \n",
    "\n",
    "print(df_new)\n",
    "\n",
    "df_new.to_csv('A0P3Q1_219056512.csv')\n"
   ]
  },
  {
   "cell_type": "code",
   "execution_count": 30,
   "metadata": {
    "scrolled": true
   },
   "outputs": [
    {
     "name": "stdout",
     "output_type": "stream",
     "text": [
      "       longitude  latitude  total_rooms  house_value\n",
      "0        -122.23     37.88          880       452600\n",
      "1        -122.22     37.86         7099       358500\n",
      "2        -122.24     37.85         1467       352100\n",
      "3        -122.25     37.85         1274       341300\n",
      "4        -122.25     37.85         1627       342200\n",
      "...          ...       ...          ...          ...\n",
      "20635    -121.09     39.48         1665        78100\n",
      "20636    -121.21     39.49          697        77100\n",
      "20637    -121.22     39.43         2254        92300\n",
      "20638    -121.32     39.43         1860        84700\n",
      "20639    -121.24     39.37         2785        89400\n",
      "\n",
      "[20640 rows x 4 columns]\n"
     ]
    }
   ],
   "source": [
    "# Part 3 Question 2. Create a new housing dataset (a csv file) having only the location, total rooms and housing price information.\n",
    "\n",
    "import pandas as pd\n",
    "\n",
    "df = pd.read_csv('housing_dataset.csv')\n",
    "\n",
    "df_new2 = df[['longitude', 'latitude', 'total_rooms', 'house_value']]\n",
    "\n",
    "print(df_new2)\n",
    "\n",
    "df_new2.to_csv('A0P3Q2_219056512.csv')"
   ]
  },
  {
   "cell_type": "code",
   "execution_count": null,
   "metadata": {},
   "outputs": [],
   "source": []
  }
 ],
 "metadata": {
  "kernelspec": {
   "display_name": "Python 3",
   "language": "python",
   "name": "python3"
  },
  "language_info": {
   "codemirror_mode": {
    "name": "ipython",
    "version": 3
   },
   "file_extension": ".py",
   "mimetype": "text/x-python",
   "name": "python",
   "nbconvert_exporter": "python",
   "pygments_lexer": "ipython3",
   "version": "3.7.6"
  }
 },
 "nbformat": 4,
 "nbformat_minor": 4
}
