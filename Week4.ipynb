{
 "cells": [
  {
   "cell_type": "code",
   "execution_count": 3,
   "metadata": {},
   "outputs": [
    {
     "name": "stdout",
     "output_type": "stream",
     "text": [
      "(50, 2)\n",
      "[[1.        0.7355261]\n",
      " [0.7355261 1.       ]]\n"
     ]
    }
   ],
   "source": [
    "# PCA for decorrelation\n",
    "\n",
    "from matplotlib import pyplot as plt\n",
    "import numpy as np\n",
    "import pandas as pd\n",
    "from sklearn import metrics as skmet\n",
    "\n",
    "data = pd.read_csv('data.csv', delimiter=\",\", header=None).values\n",
    "print(data.shape)\n",
    "\n",
    "print(np.corrcoef(data.T))\n",
    "\n",
    "\n",
    "\n"
   ]
  },
  {
   "cell_type": "code",
   "execution_count": 4,
   "metadata": {},
   "outputs": [
    {
     "data": {
      "image/png": "[encoded data removed]",
      "text/plain": [
       "<Figure size 432x288 with 1 Axes>"
      ]
     },
     "metadata": {
      "needs_background": "light"
     },
     "output_type": "display_data"
    }
   ],
   "source": [
    "plt.plot(data[:,0], data[:, 1], '.', markersize = 14)\n",
    "plt.axis('equal');\n",
    "plt.title('Original Data');\n",
    "plt.show()"
   ]
  },
  {
   "cell_type": "code",
   "execution_count": 5,
   "metadata": {},
   "outputs": [
    {
     "name": "stdout",
     "output_type": "stream",
     "text": [
      "[3.989264 5.002806]\n",
      "[1.16126805 1.01312579]\n",
      "[[-0.52327626 -1.59279926]\n",
      " [ 0.46383434  0.84036357]\n",
      " [-1.14836881 -0.58315168]\n",
      " [-1.05407533 -1.27072671]\n",
      " [-0.98397954 -0.81658765]]\n"
     ]
    }
   ],
   "source": [
    "mu = data.mean(axis = 0)\n",
    "sigma = data.std(axis = 0)\n",
    "\n",
    "print(mu)\n",
    "print(sigma)\n",
    "\n",
    "Xnorm = (data-mu)/sigma\n",
    "print(Xnorm[0:5, :])\n"
   ]
  },
  {
   "cell_type": "code",
   "execution_count": 6,
   "metadata": {},
   "outputs": [
    {
     "data": {
      "image/png": "[encoded data removed]",
      "text/plain": [
       "<Figure size 432x288 with 1 Axes>"
      ]
     },
     "metadata": {
      "needs_background": "light"
     },
     "output_type": "display_data"
    }
   ],
   "source": [
    "plt.plot(Xnorm[:,0], Xnorm[:, 1], '.', markersize = 14)\n",
    "plt.axis('equal');\n",
    "plt.title('Normalised Data');\n",
    "plt.show()"
   ]
  },
  {
   "cell_type": "code",
   "execution_count": 7,
   "metadata": {},
   "outputs": [
    {
     "name": "stdout",
     "output_type": "stream",
     "text": [
      "[[ 0.14285714  0.71428571]\n",
      " [-0.14285714  0.28571429]]\n"
     ]
    }
   ],
   "source": [
    "a = np.array([(2,-5),(1,1)])\n",
    "#b = np.array([1,1])\n",
    "print(np.linalg.inv(a))"
   ]
  },
  {
   "cell_type": "code",
   "execution_count": 8,
   "metadata": {},
   "outputs": [
    {
     "name": "stdout",
     "output_type": "stream",
     "text": [
      "[[1.        0.7355261]\n",
      " [0.7355261 1.       ]]\n"
     ]
    }
   ],
   "source": [
    "# Covariance matrix\n",
    "\n",
    "m = len(Xnorm)\n",
    "covmat = np.dot(Xnorm.T, Xnorm)/m\n",
    "print(covmat)\n",
    "\n",
    "#covmat2 = np.corrcoef(Xnorm.T)\n",
    "#print(covmat2)"
   ]
  },
  {
   "cell_type": "code",
   "execution_count": 9,
   "metadata": {},
   "outputs": [
    {
     "name": "stdout",
     "output_type": "stream",
     "text": [
      "Eigen Value:[1.7355261 0.2644739]\n",
      "Eigen Vectors:\n",
      "[[ 0.70710678 -0.70710678]\n",
      " [ 0.70710678  0.70710678]]\n",
      "1.0\n",
      "[[ 0.70710678  0.70710678]\n",
      " [-0.70710678  0.70710678]]\n",
      "[[ 0.70710678  0.70710678]\n",
      " [-0.70710678  0.70710678]]\n",
      "0.0\n"
     ]
    }
   ],
   "source": [
    "# Link to PCA via EVD\n",
    "\n",
    "S,U = np.linalg.eig(covmat)\n",
    "\n",
    "print('Eigen Value:{}'. format(S))\n",
    "print('Eigen Vectors:')\n",
    "print(U)\n",
    "\n",
    "print(np.linalg.det(U))\n",
    "print(U.T)\n",
    "print(np.linalg.inv(U))\n",
    "print(np.dot(U[:,0], U[:,1]))"
   ]
  },
  {
   "cell_type": "code",
   "execution_count": 11,
   "metadata": {},
   "outputs": [],
   "source": [
    "Z = np.dot(Xnorm, U)"
   ]
  },
  {
   "cell_type": "code",
   "execution_count": 13,
   "metadata": {},
   "outputs": [
    {
     "ename": "NameError",
     "evalue": "name 'axs' is not defined",
     "output_type": "error",
     "traceback": [
      "\u001b[1;31m---------------------------------------------------------------------------\u001b[0m",
      "\u001b[1;31mNameError\u001b[0m                                 Traceback (most recent call last)",
      "\u001b[1;32m<ipython-input-13-0d42ab048601>\u001b[0m in \u001b[0;36m<module>\u001b[1;34m\u001b[0m\n\u001b[1;32m----> 1\u001b[1;33m \u001b[0maxs\u001b[0m\u001b[1;33m[\u001b[0m\u001b[1;36m0\u001b[0m\u001b[1;33m]\u001b[0m\u001b[1;33m.\u001b[0m\u001b[0mscatter\u001b[0m\u001b[1;33m(\u001b[0m\u001b[0mdata\u001b[0m\u001b[1;33m[\u001b[0m\u001b[1;33m:\u001b[0m\u001b[1;33m,\u001b[0m\u001b[1;36m0\u001b[0m\u001b[1;33m]\u001b[0m\u001b[1;33m,\u001b[0m \u001b[0mdata\u001b[0m\u001b[1;33m[\u001b[0m\u001b[1;33m:\u001b[0m\u001b[1;33m,\u001b[0m\u001b[1;36m1\u001b[0m\u001b[1;33m]\u001b[0m\u001b[1;33m)\u001b[0m\u001b[1;33m\u001b[0m\u001b[1;33m\u001b[0m\u001b[0m\n\u001b[0m\u001b[0;32m      2\u001b[0m \u001b[0maxs\u001b[0m\u001b[1;33m[\u001b[0m\u001b[1;36m0\u001b[0m\u001b[1;33m]\u001b[0m\u001b[1;33m.\u001b[0m\u001b[0mscatter\u001b[0m\u001b[1;33m(\u001b[0m\u001b[0mXnorm\u001b[0m\u001b[1;33m[\u001b[0m\u001b[1;33m:\u001b[0m\u001b[1;33m,\u001b[0m\u001b[1;36m0\u001b[0m\u001b[1;33m]\u001b[0m\u001b[1;33m,\u001b[0m \u001b[0mXnorm\u001b[0m\u001b[1;33m[\u001b[0m\u001b[1;33m:\u001b[0m\u001b[1;33m,\u001b[0m\u001b[1;36m1\u001b[0m\u001b[1;33m]\u001b[0m\u001b[1;33m)\u001b[0m\u001b[1;33m\u001b[0m\u001b[1;33m\u001b[0m\u001b[0m\n\u001b[0;32m      3\u001b[0m \u001b[0maxs\u001b[0m\u001b[1;33m[\u001b[0m\u001b[1;36m1\u001b[0m\u001b[1;33m]\u001b[0m\u001b[1;33m.\u001b[0m\u001b[0mscatter\u001b[0m\u001b[1;33m(\u001b[0m\u001b[0mZ\u001b[0m\u001b[1;33m[\u001b[0m\u001b[1;33m:\u001b[0m\u001b[1;33m,\u001b[0m\u001b[1;36m0\u001b[0m\u001b[1;33m]\u001b[0m\u001b[1;33m,\u001b[0m \u001b[0mZ\u001b[0m\u001b[1;33m[\u001b[0m\u001b[1;33m:\u001b[0m\u001b[1;33m,\u001b[0m\u001b[1;36m1\u001b[0m\u001b[1;33m]\u001b[0m\u001b[1;33m)\u001b[0m\u001b[1;33m\u001b[0m\u001b[1;33m\u001b[0m\u001b[0m\n",
      "\u001b[1;31mNameError\u001b[0m: name 'axs' is not defined"
     ]
    }
   ],
   "source": [
    "fig,axs = plt.subplots(nrows = 1, ncols = 2, figsize = (18,5))\n",
    "fig.subplot\n",
    "\n",
    "axs[0].scatter(data[:,0], data[:,1])\n",
    "axs[0].scatter(Xnorm[:,0], Xnorm[:,1])\n",
    "axs[1].scatter(Z[:,0], Z[:,1])"
   ]
  },
  {
   "cell_type": "code",
   "execution_count": 15,
   "metadata": {},
   "outputs": [
    {
     "name": "stdout",
     "output_type": "stream",
     "text": [
      "[86.78 13.22]\n",
      "(50, 1)\n",
      "(2, 1)\n"
     ]
    }
   ],
   "source": [
    "# number of PC to retain\n",
    "\n",
    "K = 1\n",
    "Ured = U[:,0:K]\n",
    "\n",
    "Zred = np.dot(Xnorm, Ured)\n",
    "varExplained = S/np.sum(S)*100\n",
    "varExplained = np.round(varExplained,2)\n",
    "print(varExplained)\n",
    "\n",
    "print(Zred.shape)\n",
    "print(Ured.shape)"
   ]
  },
  {
   "cell_type": "code",
   "execution_count": null,
   "metadata": {},
   "outputs": [],
   "source": [
    "# Recover data\n",
    "xrec = np.dot(Zred)\n"
   ]
  }
 ],
 "metadata": {
  "kernelspec": {
   "display_name": "Python 3",
   "language": "python",
   "name": "python3"
  },
  "language_info": {
   "codemirror_mode": {
    "name": "ipython",
    "version": 3
   },
   "file_extension": ".py",
   "mimetype": "text/x-python",
   "name": "python",
   "nbconvert_exporter": "python",
   "pygments_lexer": "ipython3",
   "version": "3.7.6"
  }
 },
 "nbformat": 4,
 "nbformat_minor": 4
}
