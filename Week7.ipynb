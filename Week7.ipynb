{
 "cells": [
  {
   "cell_type": "code",
   "execution_count": 2,
   "metadata": {},
   "outputs": [
    {
     "name": "stdout",
     "output_type": "stream",
     "text": [
      "Data has 60 rows with  2 columns\n"
     ]
    },
    {
     "data": {
      "text/html": [
       "<div>\n",
       "<style scoped>\n",
       "    .dataframe tbody tr th:only-of-type {\n",
       "        vertical-align: middle;\n",
       "    }\n",
       "\n",
       "    .dataframe tbody tr th {\n",
       "        vertical-align: top;\n",
       "    }\n",
       "\n",
       "    .dataframe thead th {\n",
       "        text-align: right;\n",
       "    }\n",
       "</style>\n",
       "<table border=\"1\" class=\"dataframe\">\n",
       "  <thead>\n",
       "    <tr style=\"text-align: right;\">\n",
       "      <th></th>\n",
       "      <th>y</th>\n",
       "      <th>x</th>\n",
       "    </tr>\n",
       "  </thead>\n",
       "  <tbody>\n",
       "    <tr>\n",
       "      <th>0</th>\n",
       "      <td>1.065763</td>\n",
       "      <td>1.047198</td>\n",
       "    </tr>\n",
       "    <tr>\n",
       "      <th>1</th>\n",
       "      <td>1.006086</td>\n",
       "      <td>1.117011</td>\n",
       "    </tr>\n",
       "    <tr>\n",
       "      <th>2</th>\n",
       "      <td>0.695374</td>\n",
       "      <td>1.186824</td>\n",
       "    </tr>\n",
       "    <tr>\n",
       "      <th>3</th>\n",
       "      <td>0.949799</td>\n",
       "      <td>1.256637</td>\n",
       "    </tr>\n",
       "    <tr>\n",
       "      <th>4</th>\n",
       "      <td>1.063496</td>\n",
       "      <td>1.326450</td>\n",
       "    </tr>\n",
       "  </tbody>\n",
       "</table>\n",
       "</div>"
      ],
      "text/plain": [
       "          y         x\n",
       "0  1.065763  1.047198\n",
       "1  1.006086  1.117011\n",
       "2  0.695374  1.186824\n",
       "3  0.949799  1.256637\n",
       "4  1.063496  1.326450"
      ]
     },
     "execution_count": 2,
     "metadata": {},
     "output_type": "execute_result"
    }
   ],
   "source": [
    "import numpy as np\n",
    "import pandas as pd\n",
    "import matplotlib.pyplot as plt\n",
    "\n",
    "data = pd.read_csv('poly_data.csv')\n",
    "\n",
    "rows, cols = data.shape\n",
    "\n",
    "print(\"Data has {} rows with  {} columns\".format(rows, cols))\n",
    "data.head()\n"
   ]
  },
  {
   "cell_type": "code",
   "execution_count": 3,
   "metadata": {},
   "outputs": [
    {
     "data": {
      "image/png": "[encoded data removed]",
      "text/plain": [
       "<Figure size 432x288 with 1 Axes>"
      ]
     },
     "metadata": {
      "needs_background": "light"
     },
     "output_type": "display_data"
    }
   ],
   "source": [
    "predictors = ['x']\n",
    "response = ['y']\n",
    "\n",
    "plt.plot(data[predictors], data[response], '.')\n",
    "plt.xlabel('X')\n",
    "plt.ylabel('Y')\n",
    "plt.title('Scatter plot of our data')\n",
    "plt.show()\n",
    "\n"
   ]
  },
  {
   "cell_type": "code",
   "execution_count": 4,
   "metadata": {},
   "outputs": [
    {
     "name": "stdout",
     "output_type": "stream",
     "text": [
      "Model MSE: 0.05467192664907911\n"
     ]
    },
    {
     "data": {
      "image/png": "[encoded data removed]",
      "text/plain": [
       "<Figure size 432x288 with 1 Axes>"
      ]
     },
     "metadata": {
      "needs_background": "light"
     },
     "output_type": "display_data"
    }
   ],
   "source": [
    "# Lets fit a linear regression model to this data\n",
    "from sklearn.linear_model import LinearRegression\n",
    "\n",
    "lr1 = LinearRegression(normalize=True)\n",
    "lr1.fit(data[predictors], data[response])\n",
    "y_pred = lr1.predict(data[predictors])\n",
    "\n",
    "#Evaluate our model with mean square error\n",
    "mse1 = np.mean((y_pred - data[response])**2)\n",
    "print(\"Model MSE: {}\".format(mse1[0]))\n",
    "plt.plot(data['x'], data['y'], '.', data['x'], y_pred, '-')\n",
    "plt.show()"
   ]
  },
  {
   "cell_type": "code",
   "execution_count": 5,
   "metadata": {},
   "outputs": [
    {
     "name": "stdout",
     "output_type": "stream",
     "text": [
      "x_5\n"
     ]
    }
   ],
   "source": [
    "#We are going to add columns to our exiting data frame\n",
    "\n",
    "#To generate a name starting with a character and ending with a number, lets try this:\n",
    "print(\"x_%d\"%5)"
   ]
  },
  {
   "cell_type": "code",
   "execution_count": 6,
   "metadata": {},
   "outputs": [
    {
     "data": {
      "text/html": [
       "<div>\n",
       "<style scoped>\n",
       "    .dataframe tbody tr th:only-of-type {\n",
       "        vertical-align: middle;\n",
       "    }\n",
       "\n",
       "    .dataframe tbody tr th {\n",
       "        vertical-align: top;\n",
       "    }\n",
       "\n",
       "    .dataframe thead th {\n",
       "        text-align: right;\n",
       "    }\n",
       "</style>\n",
       "<table border=\"1\" class=\"dataframe\">\n",
       "  <thead>\n",
       "    <tr style=\"text-align: right;\">\n",
       "      <th></th>\n",
       "      <th>y</th>\n",
       "      <th>x</th>\n",
       "      <th>x_2</th>\n",
       "      <th>x_3</th>\n",
       "      <th>x_4</th>\n",
       "      <th>x_5</th>\n",
       "    </tr>\n",
       "  </thead>\n",
       "  <tbody>\n",
       "    <tr>\n",
       "      <th>0</th>\n",
       "      <td>1.065763</td>\n",
       "      <td>1.047198</td>\n",
       "      <td>1.096623</td>\n",
       "      <td>1.148381</td>\n",
       "      <td>1.202581</td>\n",
       "      <td>1.259340</td>\n",
       "    </tr>\n",
       "    <tr>\n",
       "      <th>1</th>\n",
       "      <td>1.006086</td>\n",
       "      <td>1.117011</td>\n",
       "      <td>1.247713</td>\n",
       "      <td>1.393709</td>\n",
       "      <td>1.556788</td>\n",
       "      <td>1.738948</td>\n",
       "    </tr>\n",
       "    <tr>\n",
       "      <th>2</th>\n",
       "      <td>0.695374</td>\n",
       "      <td>1.186824</td>\n",
       "      <td>1.408551</td>\n",
       "      <td>1.671702</td>\n",
       "      <td>1.984016</td>\n",
       "      <td>2.354677</td>\n",
       "    </tr>\n",
       "    <tr>\n",
       "      <th>3</th>\n",
       "      <td>0.949799</td>\n",
       "      <td>1.256637</td>\n",
       "      <td>1.579137</td>\n",
       "      <td>1.984402</td>\n",
       "      <td>2.493673</td>\n",
       "      <td>3.133642</td>\n",
       "    </tr>\n",
       "    <tr>\n",
       "      <th>4</th>\n",
       "      <td>1.063496</td>\n",
       "      <td>1.326450</td>\n",
       "      <td>1.759470</td>\n",
       "      <td>2.333850</td>\n",
       "      <td>3.095735</td>\n",
       "      <td>4.106339</td>\n",
       "    </tr>\n",
       "  </tbody>\n",
       "</table>\n",
       "</div>"
      ],
      "text/plain": [
       "          y         x       x_2       x_3       x_4       x_5\n",
       "0  1.065763  1.047198  1.096623  1.148381  1.202581  1.259340\n",
       "1  1.006086  1.117011  1.247713  1.393709  1.556788  1.738948\n",
       "2  0.695374  1.186824  1.408551  1.671702  1.984016  2.354677\n",
       "3  0.949799  1.256637  1.579137  1.984402  2.493673  3.133642\n",
       "4  1.063496  1.326450  1.759470  2.333850  3.095735  4.106339"
      ]
     },
     "execution_count": 6,
     "metadata": {},
     "output_type": "execute_result"
    }
   ],
   "source": [
    "for i in range(2,6):\n",
    "   colname = \"x_%d\"%i\n",
    "   data[colname] = data.x**i\n",
    "\n",
    "data.head()"
   ]
  },
  {
   "cell_type": "code",
   "execution_count": 7,
   "metadata": {},
   "outputs": [
    {
     "name": "stdout",
     "output_type": "stream",
     "text": [
      "Model MSE: 0.01697622659290198\n"
     ]
    },
    {
     "data": {
      "image/png": "[encoded data removed]",
      "text/plain": [
       "<Figure size 432x288 with 1 Axes>"
      ]
     },
     "metadata": {
      "needs_background": "light"
     },
     "output_type": "display_data"
    },
    {
     "name": "stdout",
     "output_type": "stream",
     "text": [
      "[[-5.11776235  4.72461232 -1.92856217  0.33473526 -0.02065326]]\n"
     ]
    }
   ],
   "source": [
    "predictors = data.columns.values[1:]\n",
    "lr2 = LinearRegression(normalize=True)\n",
    "lr2.fit(data[predictors], data[response])\n",
    "y_pred2 = lr2.predict(data[predictors])\n",
    "\n",
    "#Evaluate our model with mean square error\n",
    "mse2 = np.mean((y_pred2 - data[response])**2)\n",
    "print(\"Model MSE: {}\".format(mse2[0]))\n",
    "\n",
    "plt.plot(data['x'], data['y'], '.', data['x'], y_pred2, '-')\n",
    "plt.show()\n",
    "\n",
    "print(lr2.coef_)"
   ]
  },
  {
   "cell_type": "code",
   "execution_count": 8,
   "metadata": {},
   "outputs": [
    {
     "data": {
      "text/html": [
       "<div>\n",
       "<style scoped>\n",
       "    .dataframe tbody tr th:only-of-type {\n",
       "        vertical-align: middle;\n",
       "    }\n",
       "\n",
       "    .dataframe tbody tr th {\n",
       "        vertical-align: top;\n",
       "    }\n",
       "\n",
       "    .dataframe thead th {\n",
       "        text-align: right;\n",
       "    }\n",
       "</style>\n",
       "<table border=\"1\" class=\"dataframe\">\n",
       "  <thead>\n",
       "    <tr style=\"text-align: right;\">\n",
       "      <th></th>\n",
       "      <th>y</th>\n",
       "      <th>x</th>\n",
       "      <th>x_2</th>\n",
       "      <th>x_3</th>\n",
       "      <th>x_4</th>\n",
       "      <th>x_5</th>\n",
       "      <th>x_6</th>\n",
       "      <th>x_7</th>\n",
       "      <th>x_8</th>\n",
       "      <th>x_9</th>\n",
       "      <th>x_10</th>\n",
       "      <th>x_11</th>\n",
       "      <th>x_12</th>\n",
       "      <th>x_13</th>\n",
       "      <th>x_14</th>\n",
       "      <th>x_15</th>\n",
       "    </tr>\n",
       "  </thead>\n",
       "  <tbody>\n",
       "    <tr>\n",
       "      <th>0</th>\n",
       "      <td>1.065763</td>\n",
       "      <td>1.047198</td>\n",
       "      <td>1.096623</td>\n",
       "      <td>1.148381</td>\n",
       "      <td>1.202581</td>\n",
       "      <td>1.259340</td>\n",
       "      <td>1.318778</td>\n",
       "      <td>1.381021</td>\n",
       "      <td>1.446202</td>\n",
       "      <td>1.514459</td>\n",
       "      <td>1.585938</td>\n",
       "      <td>1.660790</td>\n",
       "      <td>1.739176</td>\n",
       "      <td>1.821260</td>\n",
       "      <td>1.907219</td>\n",
       "      <td>1.997235</td>\n",
       "    </tr>\n",
       "    <tr>\n",
       "      <th>1</th>\n",
       "      <td>1.006086</td>\n",
       "      <td>1.117011</td>\n",
       "      <td>1.247713</td>\n",
       "      <td>1.393709</td>\n",
       "      <td>1.556788</td>\n",
       "      <td>1.738948</td>\n",
       "      <td>1.942424</td>\n",
       "      <td>2.169708</td>\n",
       "      <td>2.423588</td>\n",
       "      <td>2.707173</td>\n",
       "      <td>3.023942</td>\n",
       "      <td>3.377775</td>\n",
       "      <td>3.773011</td>\n",
       "      <td>4.214494</td>\n",
       "      <td>4.707635</td>\n",
       "      <td>5.258479</td>\n",
       "    </tr>\n",
       "    <tr>\n",
       "      <th>2</th>\n",
       "      <td>0.695374</td>\n",
       "      <td>1.186824</td>\n",
       "      <td>1.408551</td>\n",
       "      <td>1.671702</td>\n",
       "      <td>1.984016</td>\n",
       "      <td>2.354677</td>\n",
       "      <td>2.794587</td>\n",
       "      <td>3.316683</td>\n",
       "      <td>3.936319</td>\n",
       "      <td>4.671717</td>\n",
       "      <td>5.544505</td>\n",
       "      <td>6.580351</td>\n",
       "      <td>7.809718</td>\n",
       "      <td>9.268760</td>\n",
       "      <td>11.000386</td>\n",
       "      <td>13.055521</td>\n",
       "    </tr>\n",
       "    <tr>\n",
       "      <th>3</th>\n",
       "      <td>0.949799</td>\n",
       "      <td>1.256637</td>\n",
       "      <td>1.579137</td>\n",
       "      <td>1.984402</td>\n",
       "      <td>2.493673</td>\n",
       "      <td>3.133642</td>\n",
       "      <td>3.937850</td>\n",
       "      <td>4.948448</td>\n",
       "      <td>6.218404</td>\n",
       "      <td>7.814277</td>\n",
       "      <td>9.819709</td>\n",
       "      <td>12.339811</td>\n",
       "      <td>15.506664</td>\n",
       "      <td>19.486248</td>\n",
       "      <td>24.487142</td>\n",
       "      <td>30.771450</td>\n",
       "    </tr>\n",
       "    <tr>\n",
       "      <th>4</th>\n",
       "      <td>1.063496</td>\n",
       "      <td>1.326450</td>\n",
       "      <td>1.759470</td>\n",
       "      <td>2.333850</td>\n",
       "      <td>3.095735</td>\n",
       "      <td>4.106339</td>\n",
       "      <td>5.446854</td>\n",
       "      <td>7.224981</td>\n",
       "      <td>9.583578</td>\n",
       "      <td>12.712139</td>\n",
       "      <td>16.862020</td>\n",
       "      <td>22.366630</td>\n",
       "      <td>29.668222</td>\n",
       "      <td>39.353420</td>\n",
       "      <td>52.200353</td>\n",
       "      <td>69.241170</td>\n",
       "    </tr>\n",
       "  </tbody>\n",
       "</table>\n",
       "</div>"
      ],
      "text/plain": [
       "          y         x       x_2       x_3       x_4       x_5       x_6  \\\n",
       "0  1.065763  1.047198  1.096623  1.148381  1.202581  1.259340  1.318778   \n",
       "1  1.006086  1.117011  1.247713  1.393709  1.556788  1.738948  1.942424   \n",
       "2  0.695374  1.186824  1.408551  1.671702  1.984016  2.354677  2.794587   \n",
       "3  0.949799  1.256637  1.579137  1.984402  2.493673  3.133642  3.937850   \n",
       "4  1.063496  1.326450  1.759470  2.333850  3.095735  4.106339  5.446854   \n",
       "\n",
       "        x_7       x_8        x_9       x_10       x_11       x_12       x_13  \\\n",
       "0  1.381021  1.446202   1.514459   1.585938   1.660790   1.739176   1.821260   \n",
       "1  2.169708  2.423588   2.707173   3.023942   3.377775   3.773011   4.214494   \n",
       "2  3.316683  3.936319   4.671717   5.544505   6.580351   7.809718   9.268760   \n",
       "3  4.948448  6.218404   7.814277   9.819709  12.339811  15.506664  19.486248   \n",
       "4  7.224981  9.583578  12.712139  16.862020  22.366630  29.668222  39.353420   \n",
       "\n",
       "        x_14       x_15  \n",
       "0   1.907219   1.997235  \n",
       "1   4.707635   5.258479  \n",
       "2  11.000386  13.055521  \n",
       "3  24.487142  30.771450  \n",
       "4  52.200353  69.241170  "
      ]
     },
     "execution_count": 8,
     "metadata": {},
     "output_type": "execute_result"
    }
   ],
   "source": [
    "for i in range(2,16):\n",
    "   colname = \"x_%d\"%i\n",
    "   data[colname] = data.x**i\n",
    "\n",
    "data.head()"
   ]
  },
  {
   "cell_type": "code",
   "execution_count": 1,
   "metadata": {},
   "outputs": [
    {
     "ename": "NameError",
     "evalue": "name 'data' is not defined",
     "output_type": "error",
     "traceback": [
      "\u001b[1;31m---------------------------------------------------------------------------\u001b[0m",
      "\u001b[1;31mNameError\u001b[0m                                 Traceback (most recent call last)",
      "\u001b[1;32m<ipython-input-1-46230eb3a26c>\u001b[0m in \u001b[0;36m<module>\u001b[1;34m\u001b[0m\n\u001b[1;32m----> 1\u001b[1;33m \u001b[0mpredictors\u001b[0m \u001b[1;33m=\u001b[0m \u001b[0mdata\u001b[0m\u001b[1;33m.\u001b[0m\u001b[0mcolumns\u001b[0m\u001b[1;33m.\u001b[0m\u001b[0mvalues\u001b[0m\u001b[1;33m[\u001b[0m\u001b[1;36m1\u001b[0m\u001b[1;33m:\u001b[0m\u001b[1;33m]\u001b[0m\u001b[1;33m\u001b[0m\u001b[1;33m\u001b[0m\u001b[0m\n\u001b[0m\u001b[0;32m      2\u001b[0m \u001b[0mlr3\u001b[0m \u001b[1;33m=\u001b[0m \u001b[0mLinearRegression\u001b[0m\u001b[1;33m(\u001b[0m\u001b[0mnormalize\u001b[0m\u001b[1;33m=\u001b[0m\u001b[1;32mTrue\u001b[0m\u001b[1;33m)\u001b[0m\u001b[1;33m\u001b[0m\u001b[1;33m\u001b[0m\u001b[0m\n\u001b[0;32m      3\u001b[0m \u001b[0mlr3\u001b[0m\u001b[1;33m.\u001b[0m\u001b[0mfit\u001b[0m\u001b[1;33m(\u001b[0m\u001b[0mdata\u001b[0m\u001b[1;33m[\u001b[0m\u001b[0mpredictors\u001b[0m\u001b[1;33m]\u001b[0m\u001b[1;33m,\u001b[0m \u001b[0mdata\u001b[0m\u001b[1;33m[\u001b[0m\u001b[0mresponse\u001b[0m\u001b[1;33m]\u001b[0m\u001b[1;33m)\u001b[0m\u001b[1;33m\u001b[0m\u001b[1;33m\u001b[0m\u001b[0m\n\u001b[0;32m      4\u001b[0m \u001b[0my_pred3\u001b[0m \u001b[1;33m=\u001b[0m \u001b[0mlr3\u001b[0m\u001b[1;33m.\u001b[0m\u001b[0mpredict\u001b[0m\u001b[1;33m(\u001b[0m\u001b[0mdata\u001b[0m\u001b[1;33m[\u001b[0m\u001b[0mpredictors\u001b[0m\u001b[1;33m]\u001b[0m\u001b[1;33m)\u001b[0m\u001b[1;33m\u001b[0m\u001b[1;33m\u001b[0m\u001b[0m\n\u001b[0;32m      5\u001b[0m \u001b[1;33m\u001b[0m\u001b[0m\n",
      "\u001b[1;31mNameError\u001b[0m: name 'data' is not defined"
     ]
    }
   ],
   "source": [
    "predictors = data.columns.values[1:]\n",
    "lr3 = LinearRegression(normalize=True)\n",
    "lr3.fit(data[predictors], data[response])\n",
    "y_pred3 = lr3.predict(data[predictors])\n",
    "\n",
    "#Evaluate our model with mean square error\n",
    "mse3 = np.mean((y_pred3 - data[response])**2)\n",
    "print(\"Model MSE: {}\".format(mse3))\n",
    "plt.plot(data['x'], data['y'], '.', data['x'], y_pred3, '-')\n",
    "plt.show()\n",
    "\n",
    "print(lr3.coef_)"
   ]
  },
  {
   "cell_type": "code",
   "execution_count": 10,
   "metadata": {},
   "outputs": [
    {
     "name": "stdout",
     "output_type": "stream",
     "text": [
      "MSE Simple LR: 0.05467192664907911\n",
      "MSE Polynomial LR with power = 5:  0.01697622659290198\n",
      "MSE Polynomial LR with power = 15: 0.011746977923207039\n"
     ]
    }
   ],
   "source": [
    "print(\"MSE Simple LR: {}\".format(mse1[0]))\n",
    "print(\"MSE Polynomial LR with power = 5:  {}\".format(mse2[0]))\n",
    "print(\"MSE Polynomial LR with power = 15: {}\".format(mse3[0]))"
   ]
  },
  {
   "cell_type": "code",
   "execution_count": 11,
   "metadata": {},
   "outputs": [
    {
     "name": "stdout",
     "output_type": "stream",
     "text": [
      "Coefficients Simple LR: [[-0.61957457]]\n",
      "\n",
      "Coefficients Polynomial LR with power = 5:  [[-5.11776235  4.72461232 -1.92856217  0.33473526 -0.02065326]]\n",
      "\n",
      "Coefficients Polynomial LR with power = 15: [[ 2.43864630e+05 -7.45890723e+05  1.37625844e+06 -1.71376098e+06\n",
      "   1.52625011e+06 -1.00483194e+06  4.98319398e+05 -1.87823641e+05\n",
      "   5.38482876e+04 -1.16569499e+04  1.87285551e+03 -2.16368876e+02\n",
      "   1.69840881e+01 -8.10686503e-01  1.77533627e-02]]\n"
     ]
    }
   ],
   "source": [
    "print(\"Coefficients Simple LR: {}\".format(lr1.coef_))\n",
    "print()\n",
    "print(\"Coefficients Polynomial LR with power = 5:  {}\".format(lr2.coef_))\n",
    "print()\n",
    "print(\"Coefficients Polynomial LR with power = 15: {}\".format(lr3.coef_))"
   ]
  },
  {
   "cell_type": "code",
   "execution_count": 13,
   "metadata": {},
   "outputs": [
    {
     "data": {
      "image/png": "[encoded data removed]",
      "text/plain": [
       "<Figure size 432x288 with 1 Axes>"
      ]
     },
     "metadata": {
      "needs_background": "light"
     },
     "output_type": "display_data"
    },
    {
     "name": "stdout",
     "output_type": "stream",
     "text": [
      "\n",
      "Model MSE: 0.018916257918692937\n",
      "\n",
      "Model Coeff: [[ 1.21303173e-01 -6.94156079e-02 -1.57127609e-02 -2.22135504e-03\n",
      "  -1.87641517e-04  9.20231813e-06  8.64853953e-06  2.50183053e-06\n",
      "   5.43898711e-07  9.86145333e-08  1.46765431e-08  1.46917382e-09\n",
      "  -6.50509217e-11 -9.35906282e-11 -3.58880160e-11]]\n"
     ]
    },
    {
     "data": {
      "text/plain": [
       "(60, 1)"
      ]
     },
     "execution_count": 13,
     "metadata": {},
     "output_type": "execute_result"
    }
   ],
   "source": [
    "from sklearn.linear_model import Ridge\n",
    "\n",
    "#call the ridge regression model with penalty (lambda) = 0.003\n",
    "ridgelr = Ridge(alpha=0.003, normalize=True) # alpha in the function represents lambda\n",
    "\n",
    "#Fit our data\n",
    "ridgelr.fit(data[predictors], data[response])\n",
    "\n",
    "# Do a prediction\n",
    "y_pred4 = ridgelr.predict(data[predictors])\n",
    "\n",
    "#Evaluate our model with mean square error\n",
    "mse4 = np.mean((y_pred4 - data[response])**2)\n",
    "plt.plot(data['x'], data['y'], '.', data['x'], y_pred4, '-')\n",
    "plt.show()\n",
    "print()\n",
    "print(\"Model MSE: {}\".format(mse4[0]))\n",
    "print()\n",
    "print(\"Model Coeff: {}\".format(ridgelr.coef_))\n",
    "y_pred4.shape"
   ]
  },
  {
   "cell_type": "code",
   "execution_count": 14,
   "metadata": {},
   "outputs": [
    {
     "data": {
      "image/png": "[encoded data removed]",
      "text/plain": [
       "<Figure size 432x288 with 1 Axes>"
      ]
     },
     "metadata": {
      "needs_background": "light"
     },
     "output_type": "display_data"
    },
    {
     "name": "stdout",
     "output_type": "stream",
     "text": [
      "\n",
      "Model MSE: 0.06065118973108578\n",
      "\n",
      "Model Coeff: [-0.55206563 -0.00056232 -0.         -0.         -0.         -0.\n",
      " -0.         -0.         -0.          0.          0.          0.\n",
      "  0.          0.          0.        ]\n"
     ]
    }
   ],
   "source": [
    "from sklearn.linear_model import Lasso\n",
    "\n",
    "#call the lasso regression model with penalty (alpha) = 0.01\n",
    "# we also specify the max number of iterations as 10^5\n",
    "lassoreg = Lasso(alpha=0.01,normalize=True, max_iter=1e5) # alpha in the function represents lambda \n",
    "\n",
    "#Fit our data\n",
    "lassoreg.fit(data[predictors], data[response])\n",
    "\n",
    "# Do a prediction\n",
    "y_pred5 = lassoreg.predict(data[predictors])\n",
    "\n",
    "#Evaluate our model with mean square error\n",
    "mse5 = np.mean((y_pred5 - data['y'])**2)\n",
    "\n",
    "plt.plot(data['x'], data['y'], '.', data['x'], y_pred5, '-')\n",
    "plt.show()\n",
    "print()\n",
    "print (\"Model MSE: {}\".format(mse5))\n",
    "print()\n",
    "print(\"Model Coeff: {}\".format(lassoreg.coef_))"
   ]
  },
  {
   "cell_type": "code",
   "execution_count": null,
   "metadata": {},
   "outputs": [],
   "source": []
  }
 ],
 "metadata": {
  "kernelspec": {
   "display_name": "Python 3",
   "language": "python",
   "name": "python3"
  },
  "language_info": {
   "codemirror_mode": {
    "name": "ipython",
    "version": 3
   },
   "file_extension": ".py",
   "mimetype": "text/x-python",
   "name": "python",
   "nbconvert_exporter": "python",
   "pygments_lexer": "ipython3",
   "version": "3.7.6"
  }
 },
 "nbformat": 4,
 "nbformat_minor": 4
}
