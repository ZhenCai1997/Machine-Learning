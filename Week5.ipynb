{
 "cells": [
  {
   "cell_type": "code",
   "execution_count": 5,
   "metadata": {},
   "outputs": [
    {
     "name": "stdout",
     "output_type": "stream",
     "text": [
      "Data shape: (100, 2)\n",
      "The first few lines of data: [[ 6.1101 17.592 ]\n",
      " [ 5.5277  9.1302]\n",
      " [ 8.5186 13.662 ]\n",
      " [ 7.0032 11.854 ]\n",
      " [ 5.8598  6.8233]]\n",
      "Number of examples: 100\n",
      "Shape of data     : (100, 1)\n",
      "Shape of labels   : (100, 1)\n"
     ]
    },
    {
     "data": {
      "image/png": "[encoded data removed]",
      "text/plain": [
       "<Figure size 432x288 with 1 Axes>"
      ]
     },
     "metadata": {
      "needs_background": "light"
     },
     "output_type": "display_data"
    }
   ],
   "source": [
    "import numpy as np\n",
    "import pandas as pd\n",
    "import matplotlib.pyplot as plt\n",
    "\n",
    "# use the correct path to where you saved the foodtruck data file\n",
    "data = pd.read_csv('foodtruck_profits.txt', delimiter=',', header=None).values\n",
    "print(\"Data shape: {}\".format(data.shape))\n",
    "print('The first few lines of data: {}'.format(data[0:5,:]))\n",
    "\n",
    "# create a scatter plot using matplot\n",
    "plt.scatter(data[:,0],data[:,1], color=\"red\", marker=\"x\",)\n",
    "# add x and y axis labels\n",
    "plt.xlabel('Population of City in 10,000s')\n",
    "plt.ylabel('Profit in $10,000s')\n",
    "\n",
    "plt.show\n",
    "\n",
    "# add a variable and find the length of the data\n",
    "m = len(data)\n",
    "\n",
    "# we change the one-dimensional data into a matrix form \n",
    "X = np.matrix(data[:,0]).T\n",
    "y = np.matrix(data[:,1]).T\n",
    "\n",
    "print(\"Number of examples: {}\".format(m))\n",
    "print(\"Shape of data     : {}\".format(X.shape))\n",
    "print(\"Shape of labels   : {}\".format(y.shape))\n",
    "\n",
    "#plt.plot(X, y, 'ok')\n",
    "#plt.show()"
   ]
  },
  {
   "cell_type": "code",
   "execution_count": 12,
   "metadata": {},
   "outputs": [
    {
     "name": "stdout",
     "output_type": "stream",
     "text": [
      "New shape of data: (100, 8)\n",
      "(8, 1)\n",
      "[[-0.56558792]\n",
      " [-0.56558792]\n",
      " [-0.56558792]\n",
      " [-0.56558792]\n",
      " [-0.56558792]\n",
      " [-0.56558792]\n",
      " [-0.56558792]\n",
      " [ 1.19673809]]\n"
     ]
    },
    {
     "ename": "ValueError",
     "evalue": "shapes (2,) and (8,1) not aligned: 2 (dim 0) != 8 (dim 0)",
     "output_type": "error",
     "traceback": [
      "\u001b[1;31m---------------------------------------------------------------------------\u001b[0m",
      "\u001b[1;31mValueError\u001b[0m                                Traceback (most recent call last)",
      "\u001b[1;32m<ipython-input-12-9173a8124050>\u001b[0m in \u001b[0;36m<module>\u001b[1;34m\u001b[0m\n\u001b[0;32m     24\u001b[0m \u001b[1;33m\u001b[0m\u001b[0m\n\u001b[0;32m     25\u001b[0m \u001b[1;31m# 17.5 x 10,000 = 175,000 population so we use x = 17.5\u001b[0m\u001b[1;33m\u001b[0m\u001b[1;33m\u001b[0m\u001b[1;33m\u001b[0m\u001b[0m\n\u001b[1;32m---> 26\u001b[1;33m \u001b[0mpredicted_profit\u001b[0m \u001b[1;33m=\u001b[0m \u001b[0mnp\u001b[0m\u001b[1;33m.\u001b[0m\u001b[0mdot\u001b[0m\u001b[1;33m(\u001b[0m\u001b[1;33m[\u001b[0m\u001b[1;36m1\u001b[0m\u001b[1;33m,\u001b[0m\u001b[1;36m17.5\u001b[0m\u001b[1;33m]\u001b[0m\u001b[1;33m,\u001b[0m \u001b[0mW\u001b[0m\u001b[1;33m)\u001b[0m\u001b[1;33m\u001b[0m\u001b[1;33m\u001b[0m\u001b[0m\n\u001b[0m\u001b[0;32m     27\u001b[0m \u001b[1;31m# Predicted profit needs to be multiplied by y units, 10,000, and rounded to be currency\u001b[0m\u001b[1;33m\u001b[0m\u001b[1;33m\u001b[0m\u001b[1;33m\u001b[0m\u001b[0m\n\u001b[0;32m     28\u001b[0m \u001b[0mprint\u001b[0m \u001b[1;33m(\u001b[0m\u001b[1;34m\"Start by finding the y value at x = 17.5: {}\"\u001b[0m\u001b[1;33m.\u001b[0m\u001b[0mformat\u001b[0m\u001b[1;33m(\u001b[0m\u001b[0mpredicted_profit\u001b[0m\u001b[1;33m)\u001b[0m\u001b[1;33m)\u001b[0m\u001b[1;33m\u001b[0m\u001b[1;33m\u001b[0m\u001b[0m\n",
      "\u001b[1;32m<__array_function__ internals>\u001b[0m in \u001b[0;36mdot\u001b[1;34m(*args, **kwargs)\u001b[0m\n",
      "\u001b[1;31mValueError\u001b[0m: shapes (2,) and (8,1) not aligned: 2 (dim 0) != 8 (dim 0)"
     ]
    },
    {
     "data": {
      "image/png": "[encoded data removed]",
      "text/plain": [
       "<Figure size 432x288 with 1 Axes>"
      ]
     },
     "metadata": {
      "needs_background": "light"
     },
     "output_type": "display_data"
    }
   ],
   "source": [
    "# add intercept term to data X\n",
    "X = np.c_[np.ones(m), X] #np.c_ helps in appending columns #Translates slice objects to concatenation along the second axis.\n",
    "\n",
    "print(\"New shape of data: {}\".format(X.shape))\n",
    "\n",
    "# Closed form solution\n",
    "\n",
    "#Compute inverse of (Xtranspose * X)\n",
    "temp1 = np.linalg.pinv(np.dot(X.T,X))\n",
    "\n",
    "#Computer Xtranspose * y\n",
    "temp2 = np.dot(X.T,y)\n",
    "\n",
    "W = np.dot(temp1,temp2)\n",
    "print (W.shape)\n",
    "\n",
    "print (W)\n",
    "\n",
    "plt.scatter(data[:,0],data[:,1], color=\"red\", marker=\"x\",)\n",
    "plt.plot(X[:,1], np.dot(X,W)) #regression line\n",
    "\n",
    "plt.xlabel('Population of City in 10,000s')\n",
    "plt.ylabel('Profit in 10,000s')\n",
    "\n",
    "# 17.5 x 10,000 = 175,000 population so we use x = 17.5\n",
    "predicted_profit = np.dot([1,17.5], W)\n",
    "# Predicted profit needs to be multiplied by y units, 10,000, and rounded to be currency\n",
    "print (\"Start by finding the y value at x = 17.5: {}\".format(predicted_profit))\n",
    "# multiply by 10,000 because that's the y unit\n",
    "multiplied_profit = predicted_profit * 10000           \n",
    "# round to two decimal places so it looks like money\n",
    "final_profit = np.around(multiplied_profit, decimals = 2)\n",
    "print (\"For a population of 175,000, we predict a profit of: {}\".format(final_profit))"
   ]
  },
  {
   "cell_type": "code",
   "execution_count": 13,
   "metadata": {},
   "outputs": [
    {
     "name": "stdout",
     "output_type": "stream",
     "text": [
      "(200, 3)\n",
      "(200,)\n",
      "<class 'numpy.ndarray'>\n",
      "<class 'numpy.ndarray'>\n",
      "(140, 3)\n",
      "(140,)\n",
      "(60, 3)\n",
      "(60,)\n"
     ]
    }
   ],
   "source": [
    "import numpy as np\n",
    "import pandas as pd\n",
    "import matplotlib.pyplot as plt\n",
    "\n",
    "my_dataframe = pd.read_csv('Advertising.csv') \n",
    "feature_cols = ['TV', 'Radio', 'Newspaper']\n",
    "X = my_dataframe[feature_cols].values\n",
    "y = my_dataframe.Sales.values\n",
    "\n",
    "print (X.shape)\n",
    "print (y.shape)\n",
    "\n",
    "print(type(X))\n",
    "print(type(y))\n",
    "\n",
    "Xtrain = X[:140]\n",
    "ytrain = y[:140]\n",
    "\n",
    "Xtest = X[140:]\n",
    "ytest = y[140:]\n",
    "\n",
    "print(Xtrain.shape)\n",
    "print(ytrain.shape)\n",
    "print(Xtest.shape)\n",
    "print(ytest.shape)"
   ]
  },
  {
   "cell_type": "code",
   "execution_count": 14,
   "metadata": {},
   "outputs": [
    {
     "name": "stdout",
     "output_type": "stream",
     "text": [
      "The predicted sales:\n",
      "[ 9.5143544  18.29202877 19.27094064  8.88723582 10.11361706  9.96041972\n",
      " 15.62706788 23.1587013  12.03845031  9.72212471 18.63809455 10.10099867\n",
      " 16.48589616 18.12468609 15.64364266  5.30523275 15.12744231 10.25358725\n",
      " 10.09006252 12.44362791 14.3210309  13.3616908  15.08443331 17.32769433\n",
      " 11.18435749 14.4341081  10.57847377 13.65085298 17.24682604 18.30648623\n",
      "  7.42659652 14.39756088  7.52782982 12.20541805 14.08031808 24.73378746\n",
      " 20.09744782 12.3485591  16.40555117 12.5803357  10.85519521 14.21321462\n",
      "  6.62420582 24.08691176 18.72317811 20.7349155   9.90581943 17.13834561\n",
      " 18.98753788  6.02878648 12.27110367  8.5198605   4.49610391 18.42872767\n",
      " 16.46701074  5.46575208  8.33322951 13.02457489 23.73586521 15.48426632]\n",
      "The true sales:\n",
      "[10.9 19.2 20.1 10.4 11.4 10.3 13.2 25.4 10.9 10.1 16.1 11.6 16.6 19.\n",
      " 15.6  3.2 15.3 10.1  7.3 12.9 14.4 13.3 14.9 18.  11.9 11.9  8.  12.2\n",
      " 17.1 15.   8.4 14.5  7.6 11.7 11.5 27.  20.2 11.7 11.8 12.6 10.5 12.2\n",
      "  8.7 26.2 17.6 22.6 10.3 17.3 15.9  6.7 10.8  9.9  5.9 19.6 17.3  7.6\n",
      "  9.7 12.8 25.5 13.4]\n"
     ]
    }
   ],
   "source": [
    "from sklearn.linear_model import LinearRegression\n",
    "\n",
    "my_model = LinearRegression()\n",
    "\n",
    "#fit the model using our data\n",
    "my_model.fit(Xtrain, ytrain)\n",
    "\n",
    "ypredicts = my_model.predict(Xtest)\n",
    "\n",
    "print(\"The predicted sales:\")\n",
    "print(ypredicts)\n",
    "print(\"The true sales:\")\n",
    "print(ytest)\n",
    "\n"
   ]
  },
  {
   "cell_type": "code",
   "execution_count": 15,
   "metadata": {},
   "outputs": [
    {
     "name": "stdout",
     "output_type": "stream",
     "text": [
      "[ 1.3856456   0.90797123  0.82905936  1.51276418  1.28638294  0.33958028\n",
      " -2.42706788  2.2412987  -1.13845031  0.37787529 -2.53809455  1.49900133\n",
      "  0.11410384  0.87531391 -0.04364266 -2.10523275  0.17255769 -0.15358725\n",
      " -2.79006252  0.45637209  0.0789691  -0.0616908  -0.18443331  0.67230567\n",
      "  0.71564251 -2.5341081  -2.57847377 -1.45085298 -0.14682604 -3.30648623\n",
      "  0.97340348  0.10243912  0.07217018 -0.50541805 -2.58031808  2.26621254\n",
      "  0.10255218 -0.6485591  -4.60555117  0.0196643  -0.35519521 -2.01321462\n",
      "  2.07579418  2.11308824 -1.12317811  1.8650845   0.39418057  0.16165439\n",
      " -3.08753788  0.67121352 -1.47110367  1.3801395   1.40389609  1.17127233\n",
      "  0.83298926  2.13424792  1.36677049 -0.22457489  1.76413479 -2.08426632]\n"
     ]
    }
   ],
   "source": [
    "Error = ytest - ypredicts\n",
    "print(Error)"
   ]
  },
  {
   "cell_type": "code",
   "execution_count": 17,
   "metadata": {},
   "outputs": [
    {
     "name": "stdout",
     "output_type": "stream",
     "text": [
      "2.557965925460623\n"
     ]
    }
   ],
   "source": [
    "from sklearn.metrics import mean_squared_error \n",
    "\n",
    "# Calculation of Mean Squared Error (MSE) \n",
    "MSE = mean_squared_error(ytest,ypredicts)\n",
    "print(MSE)"
   ]
  },
  {
   "cell_type": "code",
   "execution_count": null,
   "metadata": {},
   "outputs": [],
   "source": []
  }
 ],
 "metadata": {
  "kernelspec": {
   "display_name": "Python 3",
   "language": "python",
   "name": "python3"
  },
  "language_info": {
   "codemirror_mode": {
    "name": "ipython",
    "version": 3
   },
   "file_extension": ".py",
   "mimetype": "text/x-python",
   "name": "python",
   "nbconvert_exporter": "python",
   "pygments_lexer": "ipython3",
   "version": "3.7.6"
  }
 },
 "nbformat": 4,
 "nbformat_minor": 4
}
